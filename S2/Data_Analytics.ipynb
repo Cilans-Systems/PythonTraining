{
  "nbformat": 4,
  "nbformat_minor": 5,
  "metadata": {
    "kernelspec": {
      "display_name": "Python 3",
      "language": "python",
      "name": "python3"
    },
    "language_info": {
      "codemirror_mode": {
        "name": "ipython",
        "version": 3
      },
      "file_extension": ".py",
      "mimetype": "text/x-python",
      "name": "python",
      "nbconvert_exporter": "python",
      "pygments_lexer": "ipython3",
      "version": "3.8.3"
    },
    "colab": {
      "name": "Data Analytics.ipynb",
      "provenance": [],
      "include_colab_link": true
    }
  },
  "cells": [
    {
      "cell_type": "markdown",
      "metadata": {
        "id": "view-in-github",
        "colab_type": "text"
      },
      "source": [
        "<a href=\"https://colab.research.google.com/github/Cilans-Systems/PythonTraining/blob/main/S2/Data_Analytics.ipynb\" target=\"_parent\"><img src=\"https://colab.research.google.com/assets/colab-badge.svg\" alt=\"Open In Colab\"/></a>"
      ]
    },
    {
      "cell_type": "markdown",
      "metadata": {
        "id": "SXrMBzAJt6uP"
      },
      "source": [
        "Code to Fetch Data"
      ],
      "id": "SXrMBzAJt6uP"
    },
    {
      "cell_type": "code",
      "metadata": {
        "colab": {
          "base_uri": "https://localhost:8080/"
        },
        "id": "6JTYn-aGrCrs",
        "outputId": "7cd15a1e-2775-4153-b2cb-fe00615d19aa"
      },
      "source": [
        "!git clone https://github.com/Cilans-Systems/PythonTraining.git"
      ],
      "id": "6JTYn-aGrCrs",
      "execution_count": 1,
      "outputs": [
        {
          "output_type": "stream",
          "text": [
            "fatal: destination path 'PythonTraining' already exists and is not an empty directory.\n"
          ],
          "name": "stdout"
        }
      ]
    },
    {
      "cell_type": "code",
      "metadata": {
        "id": "KrpbA7qOre6d"
      },
      "source": [
        "import os\n",
        "os.chdir('/content/PythonTraining/S2')"
      ],
      "id": "KrpbA7qOre6d",
      "execution_count": 2,
      "outputs": []
    },
    {
      "cell_type": "markdown",
      "metadata": {
        "id": "Jdf6GRsmocfs"
      },
      "source": [
        "#  Data Anaytics with Python :  for IOCL\n",
        "\n",
        "## Numpy + Pandas + Matplotlib\n",
        "### Nikhil Shah \n",
        "\n",
        "\n",
        "![image.png](attachment:image.png)\n",
        "\n"
      ],
      "id": "Jdf6GRsmocfs"
    },
    {
      "cell_type": "markdown",
      "metadata": {
        "id": "yUV9l5M3ocfv"
      },
      "source": [
        "## NumPy  (Numerical Python)"
      ],
      "id": "yUV9l5M3ocfv"
    },
    {
      "cell_type": "markdown",
      "metadata": {
        "id": "i7rVwCQ9ocfw"
      },
      "source": [
        "### What is NumPy?\n",
        "NumPy is an open source library available in Python that aids in mathematical, scientific, engineering, and data science programming. NumPy is an incredible library to perform mathematical and statistical operations. It works perfectly well for multi-dimensional arrays and matrices multiplication\n",
        "\n",
        "For any scientific project, NumPy is the tool to know. It has been built to work with the N-dimensional array, linear algebra, random number, Fourier transform, etc. It can be integrated to C/C++ and Fortran."
      ],
      "id": "i7rVwCQ9ocfw"
    },
    {
      "cell_type": "markdown",
      "metadata": {
        "id": "GwRbcDwrocfx"
      },
      "source": [
        "### Install NumPy\n",
        "\n",
        "NumPy is installed by default with Anaconda.\n",
        "\n",
        "If NumPy not installed-\n",
        "\n",
        "You can install NumPy using pip:\n",
        "\n",
        "```bash\n",
        "pip install numpy\t\t\n",
        "```\n",
        "\n",
        "In Jupyter Notebook :\n",
        "\n",
        "```python\n",
        "import sys\n",
        "!conda install --yes --prefix {sys.prefix} numpy\n",
        "```"
      ],
      "id": "GwRbcDwrocfx"
    },
    {
      "cell_type": "code",
      "metadata": {
        "id": "xhxhmxRUocfy",
        "colab": {
          "base_uri": "https://localhost:8080/"
        },
        "outputId": "dddf9536-97f5-4a3a-f2dc-70bb0872427e"
      },
      "source": [
        "! pip install numpy"
      ],
      "id": "xhxhmxRUocfy",
      "execution_count": 3,
      "outputs": [
        {
          "output_type": "stream",
          "text": [
            "Requirement already satisfied: numpy in /usr/local/lib/python3.7/dist-packages (1.19.5)\n"
          ],
          "name": "stdout"
        }
      ]
    },
    {
      "cell_type": "code",
      "metadata": {
        "id": "wJzVYG-socfz"
      },
      "source": [
        "# first you have to import numpy package than after you use it\n",
        "import numpy as np"
      ],
      "id": "wJzVYG-socfz",
      "execution_count": 4,
      "outputs": []
    },
    {
      "cell_type": "markdown",
      "metadata": {
        "id": "v2HMM8yeocf0"
      },
      "source": [
        "### Create a NumPy Array"
      ],
      "id": "v2HMM8yeocf0"
    },
    {
      "cell_type": "code",
      "metadata": {
        "id": "oKGXAyYfocf1",
        "colab": {
          "base_uri": "https://localhost:8080/"
        },
        "outputId": "34a79158-428e-44ad-df37-5d48dd19d7b1"
      },
      "source": [
        "# simple list\n",
        "myPythonList = [1,9,8,3]\n",
        "myPythonList"
      ],
      "id": "oKGXAyYfocf1",
      "execution_count": 5,
      "outputs": [
        {
          "output_type": "execute_result",
          "data": {
            "text/plain": [
              "[1, 9, 8, 3]"
            ]
          },
          "metadata": {
            "tags": []
          },
          "execution_count": 5
        }
      ]
    },
    {
      "cell_type": "code",
      "metadata": {
        "id": "ggGhl4bbocf2",
        "colab": {
          "base_uri": "https://localhost:8080/"
        },
        "outputId": "ee223dbd-d0d1-46e9-dd0b-2c46997558c9"
      },
      "source": [
        "#To convert python list to a numpy array by using the object np.array.\n",
        "numpy_array_from_list = np.array(myPythonList)\n",
        "numpy_array_from_list"
      ],
      "id": "ggGhl4bbocf2",
      "execution_count": 6,
      "outputs": [
        {
          "output_type": "execute_result",
          "data": {
            "text/plain": [
              "array([1, 9, 8, 3])"
            ]
          },
          "metadata": {
            "tags": []
          },
          "execution_count": 6
        }
      ]
    },
    {
      "cell_type": "markdown",
      "metadata": {
        "id": "b1VG8iuEocf3"
      },
      "source": [
        "### Mathematical Operations on an Array"
      ],
      "id": "b1VG8iuEocf3"
    },
    {
      "cell_type": "code",
      "metadata": {
        "id": "7_qGe9pOocf3",
        "colab": {
          "base_uri": "https://localhost:8080/"
        },
        "outputId": "00406ece-69d9-48d2-cc3a-11540b6f570a"
      },
      "source": [
        "# Multiplication of numpy_array_from_list to 10 \n",
        "numpy_array_from_list * 10"
      ],
      "id": "7_qGe9pOocf3",
      "execution_count": 7,
      "outputs": [
        {
          "output_type": "execute_result",
          "data": {
            "text/plain": [
              "array([10, 90, 80, 30])"
            ]
          },
          "metadata": {
            "tags": []
          },
          "execution_count": 7
        }
      ]
    },
    {
      "cell_type": "markdown",
      "metadata": {
        "id": "pJEyk2Ueocf4"
      },
      "source": [
        "### Type  of Array\n"
      ],
      "id": "pJEyk2Ueocf4"
    },
    {
      "cell_type": "code",
      "metadata": {
        "id": "gT8dZhyrocf4",
        "colab": {
          "base_uri": "https://localhost:8080/"
        },
        "outputId": "9b4852e7-b81e-40fc-bb03-bd54eac69338"
      },
      "source": [
        "#### Different type\n",
        "b  = np.array([0,2.1,3])\n",
        "print(b.dtype)\n"
      ],
      "id": "gT8dZhyrocf4",
      "execution_count": 8,
      "outputs": [
        {
          "output_type": "stream",
          "text": [
            "float64\n"
          ],
          "name": "stdout"
        }
      ]
    },
    {
      "cell_type": "markdown",
      "metadata": {
        "id": "elA24VzDocf5"
      },
      "source": [
        "### Dimension of Array\n",
        "<ul>\n",
        "<li>0D Array </li>\n",
        "    <li>1D Array </li>\n",
        "    <li>2D Array </li>\n",
        "    <li>3D Array </li>\n",
        "    </ul>"
      ],
      "id": "elA24VzDocf5"
    },
    {
      "cell_type": "markdown",
      "metadata": {
        "id": "tmEZAMy_ocf5"
      },
      "source": [
        "#### 0D Array\n",
        "0-D arrays, or Scalars, are the elements in an array. Each value in an array is a 0-D array.\n"
      ],
      "id": "tmEZAMy_ocf5"
    },
    {
      "cell_type": "code",
      "metadata": {
        "id": "wWTM4t8Jocf6",
        "colab": {
          "base_uri": "https://localhost:8080/"
        },
        "outputId": "a16a3ece-4306-45e0-a1cd-025d5f016fe4"
      },
      "source": [
        "arr = np.array(42)\n",
        "\n",
        "print(arr)\n",
        "print(type(arr))\n",
        "print(arr.shape)\n"
      ],
      "id": "wWTM4t8Jocf6",
      "execution_count": 9,
      "outputs": [
        {
          "output_type": "stream",
          "text": [
            "42\n",
            "<class 'numpy.ndarray'>\n",
            "()\n"
          ],
          "name": "stdout"
        }
      ]
    },
    {
      "cell_type": "markdown",
      "metadata": {
        "id": "7b3Crq6Kocf6"
      },
      "source": [
        "#### 1D Array\n",
        "<ul>\n",
        "<li>An array that has 0-D arrays as its elements is called uni-dimensional or 1-D array.</li>\n",
        "<li>These are the most common and basic arrays.</li>\n",
        "<li>1-D array only represent row not Column.</li>\n",
        "</ul>\n"
      ],
      "id": "7b3Crq6Kocf6"
    },
    {
      "cell_type": "code",
      "metadata": {
        "id": "oKIYPYTrocf6",
        "colab": {
          "base_uri": "https://localhost:8080/"
        },
        "outputId": "7eef00f6-dc90-4389-b1d0-8a4b17709ef6"
      },
      "source": [
        "arr = np.array([1, 2, 3, 4, 5])\n",
        "\n",
        "print(arr)\n",
        "print(arr.shape)\n",
        "print(type(arr))\n"
      ],
      "id": "oKIYPYTrocf6",
      "execution_count": 10,
      "outputs": [
        {
          "output_type": "stream",
          "text": [
            "[1 2 3 4 5]\n",
            "(5,)\n",
            "<class 'numpy.ndarray'>\n"
          ],
          "name": "stdout"
        }
      ]
    },
    {
      "cell_type": "markdown",
      "metadata": {
        "id": "2ISkClCxocf7"
      },
      "source": [
        "#### 2D Array\n",
        "<ul>\n",
        "<li>An array that has 1-D arrays as its elements is called a 2-D array.</li>\n",
        "<li>These are often used to represent matrix or 2nd order tensors.</li>\n",
        "<li>2-D array represent row and Column </li>\n",
        "</ul>"
      ],
      "id": "2ISkClCxocf7"
    },
    {
      "cell_type": "code",
      "metadata": {
        "id": "sA8UZF1xocf7",
        "colab": {
          "base_uri": "https://localhost:8080/"
        },
        "outputId": "14813d14-13d6-4540-f6ab-cd49e0e0263e"
      },
      "source": [
        "arr = np.array([[1, 2, 3], [4, 5, 6]])\n",
        "\n",
        "print(arr)\n",
        "print(arr.shape)\n",
        "print(type(arr))\n"
      ],
      "id": "sA8UZF1xocf7",
      "execution_count": 11,
      "outputs": [
        {
          "output_type": "stream",
          "text": [
            "[[1 2 3]\n",
            " [4 5 6]]\n",
            "(2, 3)\n",
            "<class 'numpy.ndarray'>\n"
          ],
          "name": "stdout"
        }
      ]
    },
    {
      "cell_type": "markdown",
      "metadata": {
        "id": "W5gqMbaLocf7"
      },
      "source": [
        "#### 3D Array\n",
        "<ul>\n",
        "<li>An array that has 2-D arrays (matrices) as its elements is called 3-D array.</li>\n",
        "<li>These are often used to represent a 3rd order tensor.</li>\n",
        "<li>3D Array represent 2D array Table wise  </li>\n",
        "</ul>"
      ],
      "id": "W5gqMbaLocf7"
    },
    {
      "cell_type": "code",
      "metadata": {
        "id": "3CPpuL1rocf8"
      },
      "source": [
        "# arr = np.array([[[1, 2, 3], [4, 5, 6]], [[1, 2, 3], [4, 5, 6]]])\n",
        "# print(arr)\n",
        "# print(arr.shape)\n",
        "# print(type(arr))\n"
      ],
      "id": "3CPpuL1rocf8",
      "execution_count": 12,
      "outputs": []
    },
    {
      "cell_type": "code",
      "metadata": {
        "id": "jYsesTrbocf8",
        "colab": {
          "base_uri": "https://localhost:8080/"
        },
        "outputId": "8f2c6094-6d45-43c9-a5f7-20b1581a1fe2"
      },
      "source": [
        "#check Dimension\n",
        "\n",
        "a = np.array(42)\n",
        "b = np.array([1, 2, 3, 4, 5])\n",
        "c = np.array([[1, 2, 3], [4, 5, 6]])\n",
        "d = np.array([[[1, 2, 3], [4, 5, 6]], [[1, 2, 3], [4, 5, 6]]])\n",
        "\n",
        "print(a.ndim)\n",
        "print(b.ndim)\n",
        "print(c.ndim)\n",
        "print(d.ndim)\n"
      ],
      "id": "jYsesTrbocf8",
      "execution_count": 13,
      "outputs": [
        {
          "output_type": "stream",
          "text": [
            "0\n",
            "1\n",
            "2\n",
            "3\n"
          ],
          "name": "stdout"
        }
      ]
    },
    {
      "cell_type": "markdown",
      "metadata": {
        "id": "bzM8SqQKocf9"
      },
      "source": [
        "# Pandas  (Python Data Analysis Library)"
      ],
      "id": "bzM8SqQKocf9"
    },
    {
      "cell_type": "markdown",
      "metadata": {
        "id": "EMkd-Kekocf9"
      },
      "source": [
        "Pandas is a Python library used for working with data sets.\n",
        "It has functions for analyzing, cleaning, exploring, and manipulating data.\n",
        "The name \"Pandas\" has a reference to both \"Panel Data\", and \"Python Data Analysis\" and was created by Wes McKinney in 2008.\n"
      ],
      "id": "EMkd-Kekocf9"
    },
    {
      "cell_type": "markdown",
      "metadata": {
        "id": "d3pS5KZxocf9"
      },
      "source": [
        "### Install pandas\n",
        "\n",
        "pandas is installed by default with Anaconda.\n",
        "\n",
        "If pandas not installed-\n",
        "\n",
        "You can install pandas using pip:\n",
        "\n",
        "```bash\n",
        "pip install pandas\n",
        "```\n",
        "\n",
        "In Jupyter Notebook :\n",
        "\n",
        "```python\n",
        "import sys\n",
        "!conda install --yes --prefix {sys.prefix} pandas\n",
        "```"
      ],
      "id": "d3pS5KZxocf9"
    },
    {
      "cell_type": "code",
      "metadata": {
        "id": "vm-5pdWOocf-",
        "colab": {
          "base_uri": "https://localhost:8080/"
        },
        "outputId": "68a3a346-44cc-4530-b871-96d585db8ae8"
      },
      "source": [
        "! pip install pandas"
      ],
      "id": "vm-5pdWOocf-",
      "execution_count": 14,
      "outputs": [
        {
          "output_type": "stream",
          "text": [
            "Requirement already satisfied: pandas in /usr/local/lib/python3.7/dist-packages (1.1.5)\n",
            "Requirement already satisfied: pytz>=2017.2 in /usr/local/lib/python3.7/dist-packages (from pandas) (2018.9)\n",
            "Requirement already satisfied: numpy>=1.15.4 in /usr/local/lib/python3.7/dist-packages (from pandas) (1.19.5)\n",
            "Requirement already satisfied: python-dateutil>=2.7.3 in /usr/local/lib/python3.7/dist-packages (from pandas) (2.8.1)\n",
            "Requirement already satisfied: six>=1.5 in /usr/local/lib/python3.7/dist-packages (from python-dateutil>=2.7.3->pandas) (1.15.0)\n"
          ],
          "name": "stdout"
        }
      ]
    },
    {
      "cell_type": "code",
      "metadata": {
        "id": "dTr6F5cBocf-"
      },
      "source": [
        "#Once Pandas is installed, import it in your applications by adding the import keyword:\n",
        "import pandas as pd"
      ],
      "id": "dTr6F5cBocf-",
      "execution_count": 15,
      "outputs": []
    },
    {
      "cell_type": "markdown",
      "metadata": {
        "id": "G4FJ0cXYocf-"
      },
      "source": [
        "###  Read data from file\n"
      ],
      "id": "G4FJ0cXYocf-"
    },
    {
      "cell_type": "markdown",
      "metadata": {
        "id": "1-d_5TYQocf_"
      },
      "source": [
        "**There are different format  type to read data.**\n",
        "<ul>\n",
        "    <li>Csv Format</li>\n",
        "<li>Json  Format</li>\n",
        "<li>Excel Format</li>\n",
        "<li>Html Data</li>\n"
      ],
      "id": "1-d_5TYQocf_"
    },
    {
      "cell_type": "markdown",
      "metadata": {
        "id": "BxQewH7Aocf_"
      },
      "source": [
        "#### Read Data from CSV file  (exercise data)"
      ],
      "id": "BxQewH7Aocf_"
    },
    {
      "cell_type": "code",
      "metadata": {
        "id": "SwfxFQpWocf_",
        "colab": {
          "base_uri": "https://localhost:8080/"
        },
        "outputId": "995388c8-d75a-47de-83bf-6a3475e9eb15"
      },
      "source": [
        "df = pd.read_csv('data.csv')\n",
        "print(df.to_string())\n"
      ],
      "id": "SwfxFQpWocf_",
      "execution_count": 16,
      "outputs": [
        {
          "output_type": "stream",
          "text": [
            "     Duration  Pulse  Maxpulse  Calories\n",
            "0          60    110       130     409.1\n",
            "1          60    117       145     479.0\n",
            "2          60    103       135     340.0\n",
            "3          45    109       175     282.4\n",
            "4          45    117       148     406.0\n",
            "5          60    102       127     300.0\n",
            "6          60    110       136     374.0\n",
            "7          45    104       134     253.3\n",
            "8          30    109       133     195.1\n",
            "9          60     98       124     269.0\n",
            "10         60    103       147     329.3\n",
            "11         60    100       120     250.7\n",
            "12         60    106       128     345.3\n",
            "13         60    104       132     379.3\n",
            "14         60     98       123     275.0\n",
            "15         60     98       120     215.2\n",
            "16         60    100       120     300.0\n",
            "17         45     90       112       NaN\n",
            "18         60    103       123     323.0\n",
            "19         45     97       125     243.0\n",
            "20         60    108       131     364.2\n",
            "21         45    100       119     282.0\n",
            "22         60    130       101     300.0\n",
            "23         45    105       132     246.0\n",
            "24         60    102       126     334.5\n",
            "25         60    100       120     250.0\n",
            "26         60     92       118     241.0\n",
            "27         60    103       132       NaN\n",
            "28         60    100       132     280.0\n",
            "29         60    102       129     380.3\n",
            "30         60     92       115     243.0\n",
            "31         45     90       112     180.1\n",
            "32         60    101       124     299.0\n",
            "33         60     93       113     223.0\n",
            "34         60    107       136     361.0\n",
            "35         60    114       140     415.0\n",
            "36         60    102       127     300.0\n",
            "37         60    100       120     300.0\n",
            "38         60    100       120     300.0\n",
            "39         45    104       129     266.0\n",
            "40         45     90       112     180.1\n",
            "41         60     98       126     286.0\n",
            "42         60    100       122     329.4\n",
            "43         60    111       138     400.0\n",
            "44         60    111       131     397.0\n",
            "45         60     99       119     273.0\n",
            "46         60    109       153     387.6\n",
            "47         45    111       136     300.0\n",
            "48         45    108       129     298.0\n",
            "49         60    111       139     397.6\n",
            "50         60    107       136     380.2\n",
            "51         80    123       146     643.1\n",
            "52         60    106       130     263.0\n",
            "53         60    118       151     486.0\n",
            "54         30    136       175     238.0\n",
            "55         60    121       146     450.7\n",
            "56         60    118       121     413.0\n",
            "57         45    115       144     305.0\n",
            "58         20    153       172     226.4\n",
            "59         45    123       152     321.0\n",
            "60        210    108       160    1376.0\n",
            "61        160    110       137    1034.4\n",
            "62        160    109       135     853.0\n",
            "63         45    118       141     341.0\n",
            "64         20    110       130     131.4\n",
            "65        180     90       130     800.4\n",
            "66        150    105       135     873.4\n",
            "67        150    107       130     816.0\n",
            "68         20    106       136     110.4\n",
            "69        300    108       143    1500.2\n",
            "70        150     97       129    1115.0\n",
            "71         60    109       153     387.6\n",
            "72         90    100       127     700.0\n",
            "73        150     97       127     953.2\n",
            "74         45    114       146     304.0\n",
            "75         90     98       125     563.2\n",
            "76         45    105       134     251.0\n",
            "77         45    110       141     300.0\n",
            "78        120    100       130     500.4\n",
            "79        270    100       131    1729.0\n",
            "80         30    159       182     319.2\n",
            "81         45    149       169     344.0\n",
            "82         30    103       139     151.1\n",
            "83        120    100       130     500.0\n",
            "84         45    100       120     225.3\n",
            "85         30    151       170     300.0\n",
            "86         45    102       136     234.0\n",
            "87        120    100       157    1000.1\n",
            "88         45    129       103     242.0\n",
            "89         20     83       107      50.3\n",
            "90        180    101       127     600.1\n",
            "91         45    107       137       NaN\n",
            "92         30     90       107     105.3\n",
            "93         15     80       100      50.5\n",
            "94         20    150       171     127.4\n",
            "95         20    151       168     229.4\n",
            "96         30     95       128     128.2\n",
            "97         25    152       168     244.2\n",
            "98         30    109       131     188.2\n",
            "99         90     93       124     604.1\n",
            "100        20     95       112      77.7\n",
            "101        90     90       110     500.0\n",
            "102        90     90       100     500.0\n",
            "103        90     90       100     500.4\n",
            "104        30     92       108      92.7\n",
            "105        30     93       128     124.0\n",
            "106       180     90       120     800.3\n",
            "107        30     90       120      86.2\n",
            "108        90     90       120     500.3\n",
            "109       210    137       184    1860.4\n",
            "110        60    102       124     325.2\n",
            "111        45    107       124     275.0\n",
            "112        15    124       139     124.2\n",
            "113        45    100       120     225.3\n",
            "114        60    108       131     367.6\n",
            "115        60    108       151     351.7\n",
            "116        60    116       141     443.0\n",
            "117        60     97       122     277.4\n",
            "118        60    105       125       NaN\n",
            "119        60    103       124     332.7\n",
            "120        30    112       137     193.9\n",
            "121        45    100       120     100.7\n",
            "122        60    119       169     336.7\n",
            "123        60    107       127     344.9\n",
            "124        60    111       151     368.5\n",
            "125        60     98       122     271.0\n",
            "126        60     97       124     275.3\n",
            "127        60    109       127     382.0\n",
            "128        90     99       125     466.4\n",
            "129        60    114       151     384.0\n",
            "130        60    104       134     342.5\n",
            "131        60    107       138     357.5\n",
            "132        60    103       133     335.0\n",
            "133        60    106       132     327.5\n",
            "134        60    103       136     339.0\n",
            "135        20    136       156     189.0\n",
            "136        45    117       143     317.7\n",
            "137        45    115       137     318.0\n",
            "138        45    113       138     308.0\n",
            "139        20    141       162     222.4\n",
            "140        60    108       135     390.0\n",
            "141        60     97       127       NaN\n",
            "142        45    100       120     250.4\n",
            "143        45    122       149     335.4\n",
            "144        60    136       170     470.2\n",
            "145        45    106       126     270.8\n",
            "146        60    107       136     400.0\n",
            "147        60    112       146     361.9\n",
            "148        30    103       127     185.0\n",
            "149        60    110       150     409.4\n",
            "150        60    106       134     343.0\n",
            "151        60    109       129     353.2\n",
            "152        60    109       138     374.0\n",
            "153        30    150       167     275.8\n",
            "154        60    105       128     328.0\n",
            "155        60    111       151     368.5\n",
            "156        60     97       131     270.4\n",
            "157        60    100       120     270.4\n",
            "158        60    114       150     382.8\n",
            "159        30     80       120     240.9\n",
            "160        30     85       120     250.4\n",
            "161        45     90       130     260.4\n",
            "162        45     95       130     270.0\n",
            "163        45    100       140     280.9\n",
            "164        60    105       140     290.8\n",
            "165        60    110       145     300.0\n",
            "166        60    115       145     310.2\n",
            "167        75    120       150     320.4\n",
            "168        75    125       150     330.4\n"
          ],
          "name": "stdout"
        }
      ]
    },
    {
      "cell_type": "code",
      "metadata": {
        "id": "Y4y9Jntdocf_",
        "colab": {
          "base_uri": "https://localhost:8080/",
          "height": 203
        },
        "outputId": "4acc5b62-630d-4c15-b899-2749ff149cfe"
      },
      "source": [
        "# print first 5 data\n",
        "df.head()"
      ],
      "id": "Y4y9Jntdocf_",
      "execution_count": 17,
      "outputs": [
        {
          "output_type": "execute_result",
          "data": {
            "text/html": [
              "<div>\n",
              "<style scoped>\n",
              "    .dataframe tbody tr th:only-of-type {\n",
              "        vertical-align: middle;\n",
              "    }\n",
              "\n",
              "    .dataframe tbody tr th {\n",
              "        vertical-align: top;\n",
              "    }\n",
              "\n",
              "    .dataframe thead th {\n",
              "        text-align: right;\n",
              "    }\n",
              "</style>\n",
              "<table border=\"1\" class=\"dataframe\">\n",
              "  <thead>\n",
              "    <tr style=\"text-align: right;\">\n",
              "      <th></th>\n",
              "      <th>Duration</th>\n",
              "      <th>Pulse</th>\n",
              "      <th>Maxpulse</th>\n",
              "      <th>Calories</th>\n",
              "    </tr>\n",
              "  </thead>\n",
              "  <tbody>\n",
              "    <tr>\n",
              "      <th>0</th>\n",
              "      <td>60</td>\n",
              "      <td>110</td>\n",
              "      <td>130</td>\n",
              "      <td>409.1</td>\n",
              "    </tr>\n",
              "    <tr>\n",
              "      <th>1</th>\n",
              "      <td>60</td>\n",
              "      <td>117</td>\n",
              "      <td>145</td>\n",
              "      <td>479.0</td>\n",
              "    </tr>\n",
              "    <tr>\n",
              "      <th>2</th>\n",
              "      <td>60</td>\n",
              "      <td>103</td>\n",
              "      <td>135</td>\n",
              "      <td>340.0</td>\n",
              "    </tr>\n",
              "    <tr>\n",
              "      <th>3</th>\n",
              "      <td>45</td>\n",
              "      <td>109</td>\n",
              "      <td>175</td>\n",
              "      <td>282.4</td>\n",
              "    </tr>\n",
              "    <tr>\n",
              "      <th>4</th>\n",
              "      <td>45</td>\n",
              "      <td>117</td>\n",
              "      <td>148</td>\n",
              "      <td>406.0</td>\n",
              "    </tr>\n",
              "  </tbody>\n",
              "</table>\n",
              "</div>"
            ],
            "text/plain": [
              "   Duration  Pulse  Maxpulse  Calories\n",
              "0        60    110       130     409.1\n",
              "1        60    117       145     479.0\n",
              "2        60    103       135     340.0\n",
              "3        45    109       175     282.4\n",
              "4        45    117       148     406.0"
            ]
          },
          "metadata": {
            "tags": []
          },
          "execution_count": 17
        }
      ]
    },
    {
      "cell_type": "markdown",
      "metadata": {
        "id": "fL5XL95RocgA"
      },
      "source": [
        "### print first 10 , last 10 rows from dataset "
      ],
      "id": "fL5XL95RocgA"
    },
    {
      "cell_type": "code",
      "metadata": {
        "id": "wyVOFdOqocgA"
      },
      "source": [
        "# write code here "
      ],
      "id": "wyVOFdOqocgA",
      "execution_count": 18,
      "outputs": []
    },
    {
      "cell_type": "markdown",
      "metadata": {
        "id": "v2yI0QaBocgA"
      },
      "source": [
        "## Read Data From Excel  (Employees  Data)\n",
        "\n",
        "![image.png](attachment:image.png)"
      ],
      "id": "v2yI0QaBocgA"
    },
    {
      "cell_type": "code",
      "metadata": {
        "id": "IwLzvJu_ocgA",
        "colab": {
          "base_uri": "https://localhost:8080/",
          "height": 203
        },
        "outputId": "94d2be94-ee15-4090-8748-6ced4123e46c"
      },
      "source": [
        "df=pd.read_excel('Employee_Data.xls',sheet_name='EmployeeData')\n",
        "df.head()\n"
      ],
      "id": "IwLzvJu_ocgA",
      "execution_count": 19,
      "outputs": [
        {
          "output_type": "execute_result",
          "data": {
            "text/html": [
              "<div>\n",
              "<style scoped>\n",
              "    .dataframe tbody tr th:only-of-type {\n",
              "        vertical-align: middle;\n",
              "    }\n",
              "\n",
              "    .dataframe tbody tr th {\n",
              "        vertical-align: top;\n",
              "    }\n",
              "\n",
              "    .dataframe thead th {\n",
              "        text-align: right;\n",
              "    }\n",
              "</style>\n",
              "<table border=\"1\" class=\"dataframe\">\n",
              "  <thead>\n",
              "    <tr style=\"text-align: right;\">\n",
              "      <th></th>\n",
              "      <th>id</th>\n",
              "      <th>gender</th>\n",
              "      <th>bdate</th>\n",
              "      <th>educ</th>\n",
              "      <th>jobcat</th>\n",
              "      <th>salary</th>\n",
              "      <th>salbegin</th>\n",
              "      <th>jobtime</th>\n",
              "      <th>prevexp</th>\n",
              "      <th>minority</th>\n",
              "    </tr>\n",
              "  </thead>\n",
              "  <tbody>\n",
              "    <tr>\n",
              "      <th>0</th>\n",
              "      <td>1</td>\n",
              "      <td>m</td>\n",
              "      <td>1952-02-03</td>\n",
              "      <td>15</td>\n",
              "      <td>3</td>\n",
              "      <td>57000</td>\n",
              "      <td>27000</td>\n",
              "      <td>98</td>\n",
              "      <td>144</td>\n",
              "      <td>0</td>\n",
              "    </tr>\n",
              "    <tr>\n",
              "      <th>1</th>\n",
              "      <td>2</td>\n",
              "      <td>m</td>\n",
              "      <td>1958-05-23</td>\n",
              "      <td>16</td>\n",
              "      <td>1</td>\n",
              "      <td>40200</td>\n",
              "      <td>18750</td>\n",
              "      <td>98</td>\n",
              "      <td>36</td>\n",
              "      <td>0</td>\n",
              "    </tr>\n",
              "    <tr>\n",
              "      <th>2</th>\n",
              "      <td>3</td>\n",
              "      <td>f</td>\n",
              "      <td>1929-07-26</td>\n",
              "      <td>12</td>\n",
              "      <td>1</td>\n",
              "      <td>21450</td>\n",
              "      <td>12000</td>\n",
              "      <td>98</td>\n",
              "      <td>381</td>\n",
              "      <td>0</td>\n",
              "    </tr>\n",
              "    <tr>\n",
              "      <th>3</th>\n",
              "      <td>4</td>\n",
              "      <td>f</td>\n",
              "      <td>1947-04-15</td>\n",
              "      <td>8</td>\n",
              "      <td>1</td>\n",
              "      <td>21900</td>\n",
              "      <td>13200</td>\n",
              "      <td>98</td>\n",
              "      <td>190</td>\n",
              "      <td>0</td>\n",
              "    </tr>\n",
              "    <tr>\n",
              "      <th>4</th>\n",
              "      <td>5</td>\n",
              "      <td>m</td>\n",
              "      <td>1955-02-09</td>\n",
              "      <td>15</td>\n",
              "      <td>1</td>\n",
              "      <td>45000</td>\n",
              "      <td>21000</td>\n",
              "      <td>98</td>\n",
              "      <td>138</td>\n",
              "      <td>0</td>\n",
              "    </tr>\n",
              "  </tbody>\n",
              "</table>\n",
              "</div>"
            ],
            "text/plain": [
              "   id gender      bdate  educ  ...  salbegin  jobtime  prevexp  minority\n",
              "0   1      m 1952-02-03    15  ...     27000       98      144         0\n",
              "1   2      m 1958-05-23    16  ...     18750       98       36         0\n",
              "2   3      f 1929-07-26    12  ...     12000       98      381         0\n",
              "3   4      f 1947-04-15     8  ...     13200       98      190         0\n",
              "4   5      m 1955-02-09    15  ...     21000       98      138         0\n",
              "\n",
              "[5 rows x 10 columns]"
            ]
          },
          "metadata": {
            "tags": []
          },
          "execution_count": 19
        }
      ]
    },
    {
      "cell_type": "markdown",
      "metadata": {
        "id": "h2qkCuWQocgB"
      },
      "source": [
        "##  Read data from HTML\n",
        "\n",
        "Federal Deposit Insurance Corporation (FDIC)\n",
        "Following URL has dataset of failed banks\n",
        "\n",
        "\n",
        "\n",
        "![image.png](attachment:image.png)\n"
      ],
      "id": "h2qkCuWQocgB"
    },
    {
      "cell_type": "code",
      "metadata": {
        "id": "kRc3DIiiocgB",
        "colab": {
          "base_uri": "https://localhost:8080/",
          "height": 203
        },
        "outputId": "c3772c1f-06f6-4d36-8be6-06c23eeec1c9"
      },
      "source": [
        "data=pd.read_html(\"https://www.fdic.gov/resources/resolutions/bank-failures/failed-bank-list/\")\n",
        "data[0].head()"
      ],
      "id": "kRc3DIiiocgB",
      "execution_count": 20,
      "outputs": [
        {
          "output_type": "execute_result",
          "data": {
            "text/html": [
              "<div>\n",
              "<style scoped>\n",
              "    .dataframe tbody tr th:only-of-type {\n",
              "        vertical-align: middle;\n",
              "    }\n",
              "\n",
              "    .dataframe tbody tr th {\n",
              "        vertical-align: top;\n",
              "    }\n",
              "\n",
              "    .dataframe thead th {\n",
              "        text-align: right;\n",
              "    }\n",
              "</style>\n",
              "<table border=\"1\" class=\"dataframe\">\n",
              "  <thead>\n",
              "    <tr style=\"text-align: right;\">\n",
              "      <th></th>\n",
              "      <th>Bank NameBank</th>\n",
              "      <th>CityCity</th>\n",
              "      <th>StateSt</th>\n",
              "      <th>CertCert</th>\n",
              "      <th>Acquiring InstitutionAI</th>\n",
              "      <th>Closing DateClosing</th>\n",
              "      <th>FundFund</th>\n",
              "    </tr>\n",
              "  </thead>\n",
              "  <tbody>\n",
              "    <tr>\n",
              "      <th>0</th>\n",
              "      <td>Almena State Bank</td>\n",
              "      <td>Almena</td>\n",
              "      <td>KS</td>\n",
              "      <td>15426</td>\n",
              "      <td>Equity Bank</td>\n",
              "      <td>October 23, 2020</td>\n",
              "      <td>10538</td>\n",
              "    </tr>\n",
              "    <tr>\n",
              "      <th>1</th>\n",
              "      <td>First City Bank of Florida</td>\n",
              "      <td>Fort Walton Beach</td>\n",
              "      <td>FL</td>\n",
              "      <td>16748</td>\n",
              "      <td>United Fidelity Bank, fsb</td>\n",
              "      <td>October 16, 2020</td>\n",
              "      <td>10537</td>\n",
              "    </tr>\n",
              "    <tr>\n",
              "      <th>2</th>\n",
              "      <td>The First State Bank</td>\n",
              "      <td>Barboursville</td>\n",
              "      <td>WV</td>\n",
              "      <td>14361</td>\n",
              "      <td>MVB Bank, Inc.</td>\n",
              "      <td>April 3, 2020</td>\n",
              "      <td>10536</td>\n",
              "    </tr>\n",
              "    <tr>\n",
              "      <th>3</th>\n",
              "      <td>Ericson State Bank</td>\n",
              "      <td>Ericson</td>\n",
              "      <td>NE</td>\n",
              "      <td>18265</td>\n",
              "      <td>Farmers and Merchants Bank</td>\n",
              "      <td>February 14, 2020</td>\n",
              "      <td>10535</td>\n",
              "    </tr>\n",
              "    <tr>\n",
              "      <th>4</th>\n",
              "      <td>City National Bank of New Jersey</td>\n",
              "      <td>Newark</td>\n",
              "      <td>NJ</td>\n",
              "      <td>21111</td>\n",
              "      <td>Industrial Bank</td>\n",
              "      <td>November 1, 2019</td>\n",
              "      <td>10534</td>\n",
              "    </tr>\n",
              "  </tbody>\n",
              "</table>\n",
              "</div>"
            ],
            "text/plain": [
              "                      Bank NameBank  ... FundFund\n",
              "0                 Almena State Bank  ...    10538\n",
              "1        First City Bank of Florida  ...    10537\n",
              "2              The First State Bank  ...    10536\n",
              "3                Ericson State Bank  ...    10535\n",
              "4  City National Bank of New Jersey  ...    10534\n",
              "\n",
              "[5 rows x 7 columns]"
            ]
          },
          "metadata": {
            "tags": []
          },
          "execution_count": 20
        }
      ]
    },
    {
      "cell_type": "code",
      "metadata": {
        "id": "D5LgOQ9FocgC"
      },
      "source": [
        ""
      ],
      "id": "D5LgOQ9FocgC",
      "execution_count": 20,
      "outputs": []
    },
    {
      "cell_type": "markdown",
      "metadata": {
        "id": "9oJ8McxyocgC"
      },
      "source": [
        "## Matplotlib\n",
        "Matplotlib is Python Package that used for 2D  and 3D Graphics. \n",
        "\n",
        "Examples: \n",
        "\n",
        "\n",
        "![image.png](attachment:image.png)"
      ],
      "id": "9oJ8McxyocgC"
    },
    {
      "cell_type": "markdown",
      "metadata": {
        "id": "u_l0yfXZocgC"
      },
      "source": [
        "### Install matplotlib\n",
        "\n",
        "matplotlib is installed by default with Anaconda.\n",
        "\n",
        "If matplotlib not installed-\n",
        "\n",
        "You can install matplotlib  using pip:\n",
        "\n",
        "```bash\n",
        "pip install matplotlib\n",
        "```\n",
        "\n",
        "In Jupyter Notebook :\n",
        "\n",
        "```python\n",
        "import sys\n",
        "!conda install --yes --prefix {sys.prefix} matplotlib\n",
        "```\n"
      ],
      "id": "u_l0yfXZocgC"
    },
    {
      "cell_type": "code",
      "metadata": {
        "id": "QPLIV1A2ocgC",
        "colab": {
          "base_uri": "https://localhost:8080/"
        },
        "outputId": "ff073a0b-12c4-4a23-bd3d-edaf0fae4453"
      },
      "source": [
        "! pip install matplotlib"
      ],
      "id": "QPLIV1A2ocgC",
      "execution_count": 21,
      "outputs": [
        {
          "output_type": "stream",
          "text": [
            "Requirement already satisfied: matplotlib in /usr/local/lib/python3.7/dist-packages (3.2.2)\n",
            "Requirement already satisfied: python-dateutil>=2.1 in /usr/local/lib/python3.7/dist-packages (from matplotlib) (2.8.1)\n",
            "Requirement already satisfied: cycler>=0.10 in /usr/local/lib/python3.7/dist-packages (from matplotlib) (0.10.0)\n",
            "Requirement already satisfied: pyparsing!=2.0.4,!=2.1.2,!=2.1.6,>=2.0.1 in /usr/local/lib/python3.7/dist-packages (from matplotlib) (2.4.7)\n",
            "Requirement already satisfied: numpy>=1.11 in /usr/local/lib/python3.7/dist-packages (from matplotlib) (1.19.5)\n",
            "Requirement already satisfied: kiwisolver>=1.0.1 in /usr/local/lib/python3.7/dist-packages (from matplotlib) (1.3.1)\n",
            "Requirement already satisfied: six>=1.5 in /usr/local/lib/python3.7/dist-packages (from python-dateutil>=2.1->matplotlib) (1.15.0)\n"
          ],
          "name": "stdout"
        }
      ]
    },
    {
      "cell_type": "code",
      "metadata": {
        "id": "hmVEfaSRocgD"
      },
      "source": [
        "#When you create any plot at first you must Add Below library. \n",
        "import matplotlib.pyplot as plt\n",
        "import seaborn as sns"
      ],
      "id": "hmVEfaSRocgD",
      "execution_count": 22,
      "outputs": []
    },
    {
      "cell_type": "markdown",
      "metadata": {
        "id": "1UbCXR1rocgD"
      },
      "source": [
        "### OIL supply and demand data , Crude oil and Natural gas liquids"
      ],
      "id": "1UbCXR1rocgD"
    },
    {
      "cell_type": "code",
      "metadata": {
        "id": "Tr79Xtj8ocgD",
        "colab": {
          "base_uri": "https://localhost:8080/",
          "height": 203
        },
        "outputId": "f34d8067-b240-472e-c02c-f5008bc29146"
      },
      "source": [
        "data=pd.read_csv(\"world-oil-supply-and-demand-1971-2019.csv\",skiprows=3)\n",
        "data.head()"
      ],
      "id": "Tr79Xtj8ocgD",
      "execution_count": 23,
      "outputs": [
        {
          "output_type": "execute_result",
          "data": {
            "text/html": [
              "<div>\n",
              "<style scoped>\n",
              "    .dataframe tbody tr th:only-of-type {\n",
              "        vertical-align: middle;\n",
              "    }\n",
              "\n",
              "    .dataframe tbody tr th {\n",
              "        vertical-align: top;\n",
              "    }\n",
              "\n",
              "    .dataframe thead th {\n",
              "        text-align: right;\n",
              "    }\n",
              "</style>\n",
              "<table border=\"1\" class=\"dataframe\">\n",
              "  <thead>\n",
              "    <tr style=\"text-align: right;\">\n",
              "      <th></th>\n",
              "      <th>Year</th>\n",
              "      <th>Crude oil and NGL production</th>\n",
              "      <th>Total oil demand</th>\n",
              "      <th>Supply-Demand gap (secondary axis)</th>\n",
              "    </tr>\n",
              "  </thead>\n",
              "  <tbody>\n",
              "    <tr>\n",
              "      <th>0</th>\n",
              "      <td>1971</td>\n",
              "      <td>2490.517</td>\n",
              "      <td>2378.553</td>\n",
              "      <td>111.964</td>\n",
              "    </tr>\n",
              "    <tr>\n",
              "      <th>1</th>\n",
              "      <td>1972</td>\n",
              "      <td>2633.794</td>\n",
              "      <td>2556.722</td>\n",
              "      <td>77.072</td>\n",
              "    </tr>\n",
              "    <tr>\n",
              "      <th>2</th>\n",
              "      <td>1973</td>\n",
              "      <td>2870.438</td>\n",
              "      <td>2760.475</td>\n",
              "      <td>109.963</td>\n",
              "    </tr>\n",
              "    <tr>\n",
              "      <th>3</th>\n",
              "      <td>1974</td>\n",
              "      <td>2875.220</td>\n",
              "      <td>2719.423</td>\n",
              "      <td>155.797</td>\n",
              "    </tr>\n",
              "    <tr>\n",
              "      <th>4</th>\n",
              "      <td>1975</td>\n",
              "      <td>2739.895</td>\n",
              "      <td>2699.828</td>\n",
              "      <td>40.067</td>\n",
              "    </tr>\n",
              "  </tbody>\n",
              "</table>\n",
              "</div>"
            ],
            "text/plain": [
              "   Year  ...  Supply-Demand gap (secondary axis)\n",
              "0  1971  ...                             111.964\n",
              "1  1972  ...                              77.072\n",
              "2  1973  ...                             109.963\n",
              "3  1974  ...                             155.797\n",
              "4  1975  ...                              40.067\n",
              "\n",
              "[5 rows x 4 columns]"
            ]
          },
          "metadata": {
            "tags": []
          },
          "execution_count": 23
        }
      ]
    },
    {
      "cell_type": "code",
      "metadata": {
        "id": "12rzo416ocgD",
        "colab": {
          "base_uri": "https://localhost:8080/"
        },
        "outputId": "3101d286-daab-45c6-ae94-10adc3b10757"
      },
      "source": [
        "print(data['Year'].head(10))\n",
        "print(data['Year'].unique())"
      ],
      "id": "12rzo416ocgD",
      "execution_count": 24,
      "outputs": [
        {
          "output_type": "stream",
          "text": [
            "0    1971\n",
            "1    1972\n",
            "2    1973\n",
            "3    1974\n",
            "4    1975\n",
            "5    1976\n",
            "6    1977\n",
            "7    1978\n",
            "8    1979\n",
            "9    1980\n",
            "Name: Year, dtype: int64\n",
            "[1971 1972 1973 1974 1975 1976 1977 1978 1979 1980 1981 1982 1983 1984\n",
            " 1985 1986 1987 1988 1989 1990 1991 1992 1993 1994 1995 1996 1997 1998\n",
            " 1999 2000 2001 2002 2003 2004 2005 2006 2007 2008 2009 2010 2011 2012\n",
            " 2013 2014 2015 2016 2017 2018 2019]\n"
          ],
          "name": "stdout"
        }
      ]
    },
    {
      "cell_type": "code",
      "metadata": {
        "id": "Cgyq6CQlocgD",
        "colab": {
          "base_uri": "https://localhost:8080/"
        },
        "outputId": "5fefa7f0-4077-4ffe-ecf0-f9e6c4f36605"
      },
      "source": [
        "print(data[\"Total oil demand\"].sum())"
      ],
      "id": "Cgyq6CQlocgD",
      "execution_count": 25,
      "outputs": [
        {
          "output_type": "stream",
          "text": [
            "168248.488\n"
          ],
          "name": "stdout"
        }
      ]
    },
    {
      "cell_type": "markdown",
      "metadata": {
        "id": "kho2YYgiocgE"
      },
      "source": [
        "###  Plotting Production yearwise"
      ],
      "id": "kho2YYgiocgE"
    },
    {
      "cell_type": "code",
      "metadata": {
        "id": "Uku2lS0jocgE",
        "colab": {
          "base_uri": "https://localhost:8080/",
          "height": 404
        },
        "outputId": "4d3c3290-14ca-4090-fd2c-232aa9935ae8"
      },
      "source": [
        "x=data[\"Year\"]\n",
        "y=data[\"Crude oil and NGL production\"]\n",
        "\n",
        "plt.figure(figsize=(8, 6))\n",
        "plt.bar(x,y)\n",
        "\n",
        "plt.xlabel(\"Year\")\n",
        "plt.ylabel(\"Crude oil and NGL production\")\n",
        "plt.title(\"Crude oil and NGL production By Year\")\n",
        "plt.show()"
      ],
      "id": "Uku2lS0jocgE",
      "execution_count": 26,
      "outputs": [
        {
          "output_type": "display_data",
          "data": {
            "image/png": "[encoded data removed]",
            "text/plain": [
              "<Figure size 576x432 with 1 Axes>"
            ]
          },
          "metadata": {
            "tags": [],
            "needs_background": "light"
          }
        }
      ]
    },
    {
      "cell_type": "code",
      "metadata": {
        "id": "MNoGeEGwocgE",
        "colab": {
          "base_uri": "https://localhost:8080/",
          "height": 404
        },
        "outputId": "a9858b98-bda9-4dba-9515-7a24be2655c3"
      },
      "source": [
        "x=data[\"Year\"]\n",
        "y=data[\"Total oil demand\"]\n",
        "\n",
        "plt.figure(figsize=(8, 6))\n",
        "plt.plot(x,y)\n",
        "\n",
        "plt.xlabel(\"Year\")\n",
        "plt.ylabel(\"Total oil demand\")\n",
        "plt.title(\"Total oil demand BY Year\")\n",
        "plt.show()"
      ],
      "id": "MNoGeEGwocgE",
      "execution_count": 27,
      "outputs": [
        {
          "output_type": "display_data",
          "data": {
            "image/png": "[encoded data removed]",
            "text/plain": [
              "<Figure size 576x432 with 1 Axes>"
            ]
          },
          "metadata": {
            "tags": [],
            "needs_background": "light"
          }
        }
      ]
    },
    {
      "cell_type": "code",
      "metadata": {
        "id": "Nep7XOo0ocgF"
      },
      "source": [
        "#  Brent Oil Prices Dataset"
      ],
      "id": "Nep7XOo0ocgF",
      "execution_count": 28,
      "outputs": []
    },
    {
      "cell_type": "code",
      "metadata": {
        "id": "UT1x88uNocgF",
        "colab": {
          "base_uri": "https://localhost:8080/",
          "height": 387
        },
        "outputId": "0e2697d0-bda8-4a88-9a04-70ff4ded894a"
      },
      "source": [
        "df = pd.read_csv(\"BrentOilPRices.csv\")\n",
        "df.head()"
      ],
      "id": "UT1x88uNocgF",
      "execution_count": 29,
      "outputs": [
        {
          "output_type": "error",
          "ename": "FileNotFoundError",
          "evalue": "ignored",
          "traceback": [
            "\u001b[0;31m---------------------------------------------------------------------------\u001b[0m",
            "\u001b[0;31mFileNotFoundError\u001b[0m                         Traceback (most recent call last)",
            "\u001b[0;32m<ipython-input-29-bc6d36a28d25>\u001b[0m in \u001b[0;36m<module>\u001b[0;34m()\u001b[0m\n\u001b[0;32m----> 1\u001b[0;31m \u001b[0mdf\u001b[0m \u001b[0;34m=\u001b[0m \u001b[0mpd\u001b[0m\u001b[0;34m.\u001b[0m\u001b[0mread_csv\u001b[0m\u001b[0;34m(\u001b[0m\u001b[0;34m\"BrentOilPRices.csv\"\u001b[0m\u001b[0;34m)\u001b[0m\u001b[0;34m\u001b[0m\u001b[0;34m\u001b[0m\u001b[0m\n\u001b[0m\u001b[1;32m      2\u001b[0m \u001b[0mdf\u001b[0m\u001b[0;34m.\u001b[0m\u001b[0mhead\u001b[0m\u001b[0;34m(\u001b[0m\u001b[0;34m)\u001b[0m\u001b[0;34m\u001b[0m\u001b[0;34m\u001b[0m\u001b[0m\n",
            "\u001b[0;32m/usr/local/lib/python3.7/dist-packages/pandas/io/parsers.py\u001b[0m in \u001b[0;36mread_csv\u001b[0;34m(filepath_or_buffer, sep, delimiter, header, names, index_col, usecols, squeeze, prefix, mangle_dupe_cols, dtype, engine, converters, true_values, false_values, skipinitialspace, skiprows, skipfooter, nrows, na_values, keep_default_na, na_filter, verbose, skip_blank_lines, parse_dates, infer_datetime_format, keep_date_col, date_parser, dayfirst, cache_dates, iterator, chunksize, compression, thousands, decimal, lineterminator, quotechar, quoting, doublequote, escapechar, comment, encoding, dialect, error_bad_lines, warn_bad_lines, delim_whitespace, low_memory, memory_map, float_precision)\u001b[0m\n\u001b[1;32m    686\u001b[0m     )\n\u001b[1;32m    687\u001b[0m \u001b[0;34m\u001b[0m\u001b[0m\n\u001b[0;32m--> 688\u001b[0;31m     \u001b[0;32mreturn\u001b[0m \u001b[0m_read\u001b[0m\u001b[0;34m(\u001b[0m\u001b[0mfilepath_or_buffer\u001b[0m\u001b[0;34m,\u001b[0m \u001b[0mkwds\u001b[0m\u001b[0;34m)\u001b[0m\u001b[0;34m\u001b[0m\u001b[0;34m\u001b[0m\u001b[0m\n\u001b[0m\u001b[1;32m    689\u001b[0m \u001b[0;34m\u001b[0m\u001b[0m\n\u001b[1;32m    690\u001b[0m \u001b[0;34m\u001b[0m\u001b[0m\n",
            "\u001b[0;32m/usr/local/lib/python3.7/dist-packages/pandas/io/parsers.py\u001b[0m in \u001b[0;36m_read\u001b[0;34m(filepath_or_buffer, kwds)\u001b[0m\n\u001b[1;32m    452\u001b[0m \u001b[0;34m\u001b[0m\u001b[0m\n\u001b[1;32m    453\u001b[0m     \u001b[0;31m# Create the parser.\u001b[0m\u001b[0;34m\u001b[0m\u001b[0;34m\u001b[0m\u001b[0;34m\u001b[0m\u001b[0m\n\u001b[0;32m--> 454\u001b[0;31m     \u001b[0mparser\u001b[0m \u001b[0;34m=\u001b[0m \u001b[0mTextFileReader\u001b[0m\u001b[0;34m(\u001b[0m\u001b[0mfp_or_buf\u001b[0m\u001b[0;34m,\u001b[0m \u001b[0;34m**\u001b[0m\u001b[0mkwds\u001b[0m\u001b[0;34m)\u001b[0m\u001b[0;34m\u001b[0m\u001b[0;34m\u001b[0m\u001b[0m\n\u001b[0m\u001b[1;32m    455\u001b[0m \u001b[0;34m\u001b[0m\u001b[0m\n\u001b[1;32m    456\u001b[0m     \u001b[0;32mif\u001b[0m \u001b[0mchunksize\u001b[0m \u001b[0;32mor\u001b[0m \u001b[0miterator\u001b[0m\u001b[0;34m:\u001b[0m\u001b[0;34m\u001b[0m\u001b[0;34m\u001b[0m\u001b[0m\n",
            "\u001b[0;32m/usr/local/lib/python3.7/dist-packages/pandas/io/parsers.py\u001b[0m in \u001b[0;36m__init__\u001b[0;34m(self, f, engine, **kwds)\u001b[0m\n\u001b[1;32m    946\u001b[0m             \u001b[0mself\u001b[0m\u001b[0;34m.\u001b[0m\u001b[0moptions\u001b[0m\u001b[0;34m[\u001b[0m\u001b[0;34m\"has_index_names\"\u001b[0m\u001b[0;34m]\u001b[0m \u001b[0;34m=\u001b[0m \u001b[0mkwds\u001b[0m\u001b[0;34m[\u001b[0m\u001b[0;34m\"has_index_names\"\u001b[0m\u001b[0;34m]\u001b[0m\u001b[0;34m\u001b[0m\u001b[0;34m\u001b[0m\u001b[0m\n\u001b[1;32m    947\u001b[0m \u001b[0;34m\u001b[0m\u001b[0m\n\u001b[0;32m--> 948\u001b[0;31m         \u001b[0mself\u001b[0m\u001b[0;34m.\u001b[0m\u001b[0m_make_engine\u001b[0m\u001b[0;34m(\u001b[0m\u001b[0mself\u001b[0m\u001b[0;34m.\u001b[0m\u001b[0mengine\u001b[0m\u001b[0;34m)\u001b[0m\u001b[0;34m\u001b[0m\u001b[0;34m\u001b[0m\u001b[0m\n\u001b[0m\u001b[1;32m    949\u001b[0m \u001b[0;34m\u001b[0m\u001b[0m\n\u001b[1;32m    950\u001b[0m     \u001b[0;32mdef\u001b[0m \u001b[0mclose\u001b[0m\u001b[0;34m(\u001b[0m\u001b[0mself\u001b[0m\u001b[0;34m)\u001b[0m\u001b[0;34m:\u001b[0m\u001b[0;34m\u001b[0m\u001b[0;34m\u001b[0m\u001b[0m\n",
            "\u001b[0;32m/usr/local/lib/python3.7/dist-packages/pandas/io/parsers.py\u001b[0m in \u001b[0;36m_make_engine\u001b[0;34m(self, engine)\u001b[0m\n\u001b[1;32m   1178\u001b[0m     \u001b[0;32mdef\u001b[0m \u001b[0m_make_engine\u001b[0m\u001b[0;34m(\u001b[0m\u001b[0mself\u001b[0m\u001b[0;34m,\u001b[0m \u001b[0mengine\u001b[0m\u001b[0;34m=\u001b[0m\u001b[0;34m\"c\"\u001b[0m\u001b[0;34m)\u001b[0m\u001b[0;34m:\u001b[0m\u001b[0;34m\u001b[0m\u001b[0;34m\u001b[0m\u001b[0m\n\u001b[1;32m   1179\u001b[0m         \u001b[0;32mif\u001b[0m \u001b[0mengine\u001b[0m \u001b[0;34m==\u001b[0m \u001b[0;34m\"c\"\u001b[0m\u001b[0;34m:\u001b[0m\u001b[0;34m\u001b[0m\u001b[0;34m\u001b[0m\u001b[0m\n\u001b[0;32m-> 1180\u001b[0;31m             \u001b[0mself\u001b[0m\u001b[0;34m.\u001b[0m\u001b[0m_engine\u001b[0m \u001b[0;34m=\u001b[0m \u001b[0mCParserWrapper\u001b[0m\u001b[0;34m(\u001b[0m\u001b[0mself\u001b[0m\u001b[0;34m.\u001b[0m\u001b[0mf\u001b[0m\u001b[0;34m,\u001b[0m \u001b[0;34m**\u001b[0m\u001b[0mself\u001b[0m\u001b[0;34m.\u001b[0m\u001b[0moptions\u001b[0m\u001b[0;34m)\u001b[0m\u001b[0;34m\u001b[0m\u001b[0;34m\u001b[0m\u001b[0m\n\u001b[0m\u001b[1;32m   1181\u001b[0m         \u001b[0;32melse\u001b[0m\u001b[0;34m:\u001b[0m\u001b[0;34m\u001b[0m\u001b[0;34m\u001b[0m\u001b[0m\n\u001b[1;32m   1182\u001b[0m             \u001b[0;32mif\u001b[0m \u001b[0mengine\u001b[0m \u001b[0;34m==\u001b[0m \u001b[0;34m\"python\"\u001b[0m\u001b[0;34m:\u001b[0m\u001b[0;34m\u001b[0m\u001b[0;34m\u001b[0m\u001b[0m\n",
            "\u001b[0;32m/usr/local/lib/python3.7/dist-packages/pandas/io/parsers.py\u001b[0m in \u001b[0;36m__init__\u001b[0;34m(self, src, **kwds)\u001b[0m\n\u001b[1;32m   2008\u001b[0m         \u001b[0mkwds\u001b[0m\u001b[0;34m[\u001b[0m\u001b[0;34m\"usecols\"\u001b[0m\u001b[0;34m]\u001b[0m \u001b[0;34m=\u001b[0m \u001b[0mself\u001b[0m\u001b[0;34m.\u001b[0m\u001b[0musecols\u001b[0m\u001b[0;34m\u001b[0m\u001b[0;34m\u001b[0m\u001b[0m\n\u001b[1;32m   2009\u001b[0m \u001b[0;34m\u001b[0m\u001b[0m\n\u001b[0;32m-> 2010\u001b[0;31m         \u001b[0mself\u001b[0m\u001b[0;34m.\u001b[0m\u001b[0m_reader\u001b[0m \u001b[0;34m=\u001b[0m \u001b[0mparsers\u001b[0m\u001b[0;34m.\u001b[0m\u001b[0mTextReader\u001b[0m\u001b[0;34m(\u001b[0m\u001b[0msrc\u001b[0m\u001b[0;34m,\u001b[0m \u001b[0;34m**\u001b[0m\u001b[0mkwds\u001b[0m\u001b[0;34m)\u001b[0m\u001b[0;34m\u001b[0m\u001b[0;34m\u001b[0m\u001b[0m\n\u001b[0m\u001b[1;32m   2011\u001b[0m         \u001b[0mself\u001b[0m\u001b[0;34m.\u001b[0m\u001b[0munnamed_cols\u001b[0m \u001b[0;34m=\u001b[0m \u001b[0mself\u001b[0m\u001b[0;34m.\u001b[0m\u001b[0m_reader\u001b[0m\u001b[0;34m.\u001b[0m\u001b[0munnamed_cols\u001b[0m\u001b[0;34m\u001b[0m\u001b[0;34m\u001b[0m\u001b[0m\n\u001b[1;32m   2012\u001b[0m \u001b[0;34m\u001b[0m\u001b[0m\n",
            "\u001b[0;32mpandas/_libs/parsers.pyx\u001b[0m in \u001b[0;36mpandas._libs.parsers.TextReader.__cinit__\u001b[0;34m()\u001b[0m\n",
            "\u001b[0;32mpandas/_libs/parsers.pyx\u001b[0m in \u001b[0;36mpandas._libs.parsers.TextReader._setup_parser_source\u001b[0;34m()\u001b[0m\n",
            "\u001b[0;31mFileNotFoundError\u001b[0m: [Errno 2] No such file or directory: 'BrentOilPRices.csv'"
          ]
        }
      ]
    },
    {
      "cell_type": "code",
      "metadata": {
        "id": "wbwD6SjUocgF"
      },
      "source": [
        "df['Date'] = pd.to_datetime(df['Date'])\n",
        "print(df.head())"
      ],
      "id": "wbwD6SjUocgF",
      "execution_count": null,
      "outputs": []
    },
    {
      "cell_type": "code",
      "metadata": {
        "id": "HxlRskyXocgG"
      },
      "source": [
        "df[['Price']].head()"
      ],
      "id": "HxlRskyXocgG",
      "execution_count": null,
      "outputs": []
    },
    {
      "cell_type": "code",
      "metadata": {
        "id": "KjDfL6UPocgG"
      },
      "source": [
        "plt.figure(figsize=(16,9))\n",
        "plt.plot(df[['Price']])\n",
        "plt.axhline(linestyle='dotted', color='r')\n",
        "plt.xticks(range(0,df.shape[0],1000),df['Date'].loc[::1000],rotation=90)\n",
        "plt.xlabel('Date', fontsize=20)\n",
        "plt.ylabel('Oil Price (USD)', fontsize=20)\n",
        "plt.show()"
      ],
      "id": "KjDfL6UPocgG",
      "execution_count": null,
      "outputs": []
    },
    {
      "cell_type": "code",
      "metadata": {
        "id": "-FmLJ6saocgG"
      },
      "source": [
        ""
      ],
      "id": "-FmLJ6saocgG",
      "execution_count": null,
      "outputs": []
    }
  ]
}