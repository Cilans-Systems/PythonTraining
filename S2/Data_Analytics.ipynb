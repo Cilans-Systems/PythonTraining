{
  "cells": [
    {
      "cell_type": "markdown",
      "metadata": {
        "id": "view-in-github",
        "colab_type": "text"
      },
      "source": [
        "<a href=\"https://colab.research.google.com/github/Cilans-Systems/PythonTraining/blob/main/S2/Data_Analytics.ipynb\" target=\"_parent\"><img src=\"https://colab.research.google.com/assets/colab-badge.svg\" alt=\"Open In Colab\"/></a>"
      ]
    },
    {
      "cell_type": "markdown",
      "id": "SXrMBzAJt6uP",
      "metadata": {
        "id": "SXrMBzAJt6uP"
      },
      "source": [
        "Code to Fetch Data"
      ]
    },
    {
      "cell_type": "code",
      "execution_count": 137,
      "id": "6JTYn-aGrCrs",
      "metadata": {
        "colab": {
          "base_uri": "https://localhost:8080/"
        },
        "id": "6JTYn-aGrCrs",
        "outputId": "b1ea548b-77cc-4753-91c9-cc2ad2c39fa5"
      },
      "outputs": [
        {
          "output_type": "stream",
          "name": "stdout",
          "text": [
            "fatal: destination path 'PythonTraining' already exists and is not an empty directory.\n"
          ]
        }
      ],
      "source": [
        "!git clone https://github.com/Cilans-Systems/PythonTraining.git"
      ]
    },
    {
      "cell_type": "code",
      "execution_count": 138,
      "id": "KrpbA7qOre6d",
      "metadata": {
        "id": "KrpbA7qOre6d"
      },
      "outputs": [],
      "source": [
        "import os\n",
        "os.chdir('/content/PythonTraining/S2')"
      ]
    },
    {
      "cell_type": "markdown",
      "id": "Jdf6GRsmocfs",
      "metadata": {
        "id": "Jdf6GRsmocfs"
      },
      "source": [
        "#  Data Anaytics with Python : \n",
        "\n",
        "## Numpy + Pandas + Matplotlib\n",
        "### Nikhil Shah \n",
        "\n",
        "\n",
        "\n"
      ]
    },
    {
      "cell_type": "markdown",
      "id": "yUV9l5M3ocfv",
      "metadata": {
        "id": "yUV9l5M3ocfv"
      },
      "source": [
        "## NumPy  (Numerical Python)"
      ]
    },
    {
      "cell_type": "markdown",
      "id": "i7rVwCQ9ocfw",
      "metadata": {
        "id": "i7rVwCQ9ocfw"
      },
      "source": [
        "### What is NumPy?\n",
        "NumPy is an open source library available in Python that aids in mathematical, scientific, engineering, and data science programming. NumPy is an incredible library to perform mathematical and statistical operations. It works perfectly well for multi-dimensional arrays and matrices multiplication\n",
        "\n",
        "For any scientific project, NumPy is the tool to know. It has been built to work with the N-dimensional array, linear algebra, random number, Fourier transform, etc. It can be integrated to C/C++ and Fortran."
      ]
    },
    {
      "cell_type": "markdown",
      "id": "GwRbcDwrocfx",
      "metadata": {
        "id": "GwRbcDwrocfx"
      },
      "source": [
        "### Install NumPy\n",
        "\n",
        "NumPy is installed by default with Anaconda.\n",
        "\n",
        "If NumPy not installed-\n",
        "\n",
        "You can install NumPy using pip:\n",
        "\n",
        "```bash\n",
        "pip install numpy\t\t\n",
        "```\n",
        "\n",
        "In Jupyter Notebook :\n",
        "\n",
        "```python\n",
        "import sys\n",
        "!conda install --yes --prefix {sys.prefix} numpy\n",
        "```"
      ]
    },
    {
      "cell_type": "code",
      "execution_count": 139,
      "id": "xhxhmxRUocfy",
      "metadata": {
        "colab": {
          "base_uri": "https://localhost:8080/"
        },
        "id": "xhxhmxRUocfy",
        "outputId": "c824fec9-49af-4fe0-8b09-1a8f09408b89"
      },
      "outputs": [
        {
          "output_type": "stream",
          "name": "stdout",
          "text": [
            "Looking in indexes: https://pypi.org/simple, https://us-python.pkg.dev/colab-wheels/public/simple/\n",
            "Requirement already satisfied: numpy in /usr/local/lib/python3.7/dist-packages (1.21.6)\n"
          ]
        }
      ],
      "source": [
        "! pip install numpy"
      ]
    },
    {
      "cell_type": "code",
      "execution_count": 140,
      "id": "wJzVYG-socfz",
      "metadata": {
        "id": "wJzVYG-socfz"
      },
      "outputs": [],
      "source": [
        "# first you have to import numpy package than after you use it\n",
        "import numpy as np"
      ]
    },
    {
      "cell_type": "markdown",
      "id": "v2HMM8yeocf0",
      "metadata": {
        "id": "v2HMM8yeocf0"
      },
      "source": [
        "### Create a NumPy Array"
      ]
    },
    {
      "cell_type": "code",
      "execution_count": 141,
      "id": "oKGXAyYfocf1",
      "metadata": {
        "colab": {
          "base_uri": "https://localhost:8080/"
        },
        "id": "oKGXAyYfocf1",
        "outputId": "39fa6fb2-56c4-4a88-bf15-e1ddee571e5c"
      },
      "outputs": [
        {
          "output_type": "execute_result",
          "data": {
            "text/plain": [
              "[1, 9, 8, 3]"
            ]
          },
          "metadata": {},
          "execution_count": 141
        }
      ],
      "source": [
        "# simple list\n",
        "myPythonList = [1,9,8,3]\n",
        "myPythonList"
      ]
    },
    {
      "cell_type": "code",
      "execution_count": 142,
      "id": "ggGhl4bbocf2",
      "metadata": {
        "colab": {
          "base_uri": "https://localhost:8080/"
        },
        "id": "ggGhl4bbocf2",
        "outputId": "01faa75a-c20d-47b8-bddd-c723b6882092"
      },
      "outputs": [
        {
          "output_type": "execute_result",
          "data": {
            "text/plain": [
              "array([1, 9, 8, 3])"
            ]
          },
          "metadata": {},
          "execution_count": 142
        }
      ],
      "source": [
        "#To convert python list to a numpy array by using the object np.array.\n",
        "numpy_array_from_list = np.array(myPythonList)\n",
        "numpy_array_from_list"
      ]
    },
    {
      "cell_type": "markdown",
      "id": "b1VG8iuEocf3",
      "metadata": {
        "id": "b1VG8iuEocf3"
      },
      "source": [
        "### Mathematical Operations on an Array"
      ]
    },
    {
      "cell_type": "code",
      "execution_count": 143,
      "id": "7_qGe9pOocf3",
      "metadata": {
        "colab": {
          "base_uri": "https://localhost:8080/"
        },
        "id": "7_qGe9pOocf3",
        "outputId": "ba029bdd-e30e-4725-f71b-3e2b7a3f7ecd"
      },
      "outputs": [
        {
          "output_type": "execute_result",
          "data": {
            "text/plain": [
              "array([10, 90, 80, 30])"
            ]
          },
          "metadata": {},
          "execution_count": 143
        }
      ],
      "source": [
        "# Multiplication of numpy_array_from_list to 10 \n",
        "numpy_array_from_list * 10"
      ]
    },
    {
      "cell_type": "markdown",
      "id": "pJEyk2Ueocf4",
      "metadata": {
        "id": "pJEyk2Ueocf4"
      },
      "source": [
        "### Type  of Array\n"
      ]
    },
    {
      "cell_type": "code",
      "execution_count": 144,
      "id": "gT8dZhyrocf4",
      "metadata": {
        "colab": {
          "base_uri": "https://localhost:8080/"
        },
        "id": "gT8dZhyrocf4",
        "outputId": "bc34ff1d-4f25-4a2d-9fcf-0c63f68fa6de"
      },
      "outputs": [
        {
          "output_type": "stream",
          "name": "stdout",
          "text": [
            "float64\n"
          ]
        }
      ],
      "source": [
        "#### Different type\n",
        "b  = np.array([0,2.1,3])\n",
        "print(b.dtype)\n"
      ]
    },
    {
      "cell_type": "markdown",
      "id": "elA24VzDocf5",
      "metadata": {
        "id": "elA24VzDocf5"
      },
      "source": [
        "### Dimension of Array\n",
        "<ul>\n",
        "<li>0D Array </li>\n",
        "    <li>1D Array </li>\n",
        "    <li>2D Array </li>\n",
        "    <li>3D Array </li>\n",
        "    </ul>"
      ]
    },
    {
      "cell_type": "markdown",
      "id": "tmEZAMy_ocf5",
      "metadata": {
        "id": "tmEZAMy_ocf5"
      },
      "source": [
        "#### 0D Array\n",
        "0-D arrays, or Scalars, are the elements in an array. Each value in an array is a 0-D array.\n"
      ]
    },
    {
      "cell_type": "code",
      "execution_count": 145,
      "id": "wWTM4t8Jocf6",
      "metadata": {
        "colab": {
          "base_uri": "https://localhost:8080/"
        },
        "id": "wWTM4t8Jocf6",
        "outputId": "efc91aa0-dd69-4a18-b784-664e402216bc"
      },
      "outputs": [
        {
          "output_type": "stream",
          "name": "stdout",
          "text": [
            "42\n",
            "<class 'numpy.ndarray'>\n",
            "()\n"
          ]
        }
      ],
      "source": [
        "arr = np.array(42)\n",
        "\n",
        "print(arr)\n",
        "print(type(arr))\n",
        "print(arr.shape)\n"
      ]
    },
    {
      "cell_type": "markdown",
      "id": "7b3Crq6Kocf6",
      "metadata": {
        "id": "7b3Crq6Kocf6"
      },
      "source": [
        "#### 1D Array\n",
        "<ul>\n",
        "<li>An array that has 0-D arrays as its elements is called uni-dimensional or 1-D array.</li>\n",
        "<li>These are the most common and basic arrays.</li>\n",
        "<li>1-D array only represent row not Column.</li>\n",
        "</ul>\n"
      ]
    },
    {
      "cell_type": "code",
      "execution_count": 146,
      "id": "oKIYPYTrocf6",
      "metadata": {
        "colab": {
          "base_uri": "https://localhost:8080/"
        },
        "id": "oKIYPYTrocf6",
        "outputId": "1a375a09-610f-4156-d7cc-e3efca9d681c"
      },
      "outputs": [
        {
          "output_type": "stream",
          "name": "stdout",
          "text": [
            "[1 2 3 4 5]\n",
            "(5,)\n",
            "<class 'numpy.ndarray'>\n"
          ]
        }
      ],
      "source": [
        "arr = np.array([1, 2, 3, 4, 5])\n",
        "\n",
        "print(arr)\n",
        "print(arr.shape)\n",
        "print(type(arr))\n"
      ]
    },
    {
      "cell_type": "markdown",
      "id": "2ISkClCxocf7",
      "metadata": {
        "id": "2ISkClCxocf7"
      },
      "source": [
        "#### 2D Array\n",
        "<ul>\n",
        "<li>An array that has 1-D arrays as its elements is called a 2-D array.</li>\n",
        "<li>These are often used to represent matrix or 2nd order tensors.</li>\n",
        "<li>2-D array represent row and Column </li>\n",
        "</ul>"
      ]
    },
    {
      "cell_type": "code",
      "execution_count": 147,
      "id": "sA8UZF1xocf7",
      "metadata": {
        "colab": {
          "base_uri": "https://localhost:8080/"
        },
        "id": "sA8UZF1xocf7",
        "outputId": "fd5a3c94-174a-4ece-ddef-4c1da39fecab"
      },
      "outputs": [
        {
          "output_type": "stream",
          "name": "stdout",
          "text": [
            "[[1 2 3]\n",
            " [4 5 6]]\n",
            "(2, 3)\n",
            "<class 'numpy.ndarray'>\n"
          ]
        }
      ],
      "source": [
        "arr = np.array([[1, 2, 3], [4, 5, 6]])\n",
        "\n",
        "print(arr)\n",
        "print(arr.shape)\n",
        "print(type(arr))\n"
      ]
    },
    {
      "cell_type": "markdown",
      "id": "W5gqMbaLocf7",
      "metadata": {
        "id": "W5gqMbaLocf7"
      },
      "source": [
        "#### 3D Array\n",
        "<ul>\n",
        "<li>An array that has 2-D arrays (matrices) as its elements is called 3-D array.</li>\n",
        "<li>These are often used to represent a 3rd order tensor.</li>\n",
        "<li>3D Array represent 2D array Table wise  </li>\n",
        "</ul>"
      ]
    },
    {
      "cell_type": "code",
      "execution_count": 148,
      "id": "3CPpuL1rocf8",
      "metadata": {
        "id": "3CPpuL1rocf8"
      },
      "outputs": [],
      "source": [
        "# arr = np.array([[[1, 2, 3], [4, 5, 6]], [[1, 2, 3], [4, 5, 6]]])\n",
        "# print(arr)\n",
        "# print(arr.shape)\n",
        "# print(type(arr))\n"
      ]
    },
    {
      "cell_type": "code",
      "execution_count": 149,
      "id": "jYsesTrbocf8",
      "metadata": {
        "colab": {
          "base_uri": "https://localhost:8080/"
        },
        "id": "jYsesTrbocf8",
        "outputId": "a19f8b20-151e-4436-920f-58543fe08e0a"
      },
      "outputs": [
        {
          "output_type": "stream",
          "name": "stdout",
          "text": [
            "0\n",
            "1\n",
            "2\n",
            "3\n"
          ]
        }
      ],
      "source": [
        "#check Dimension\n",
        "\n",
        "a = np.array(42)\n",
        "b = np.array([1, 2, 3, 4, 5])\n",
        "c = np.array([[1, 2, 3], [4, 5, 6]])\n",
        "d = np.array([[[1, 2, 3], [4, 5, 6]], [[1, 2, 3], [4, 5, 6]]])\n",
        "\n",
        "print(a.ndim)\n",
        "print(b.ndim)\n",
        "print(c.ndim)\n",
        "print(d.ndim)\n"
      ]
    },
    {
      "cell_type": "markdown",
      "id": "bzM8SqQKocf9",
      "metadata": {
        "id": "bzM8SqQKocf9"
      },
      "source": [
        "# Pandas  (Python Data Analysis Library)"
      ]
    },
    {
      "cell_type": "markdown",
      "id": "EMkd-Kekocf9",
      "metadata": {
        "id": "EMkd-Kekocf9"
      },
      "source": [
        "Pandas is a Python library used for working with data sets.\n",
        "It has functions for analyzing, cleaning, exploring, and manipulating data.\n",
        "The name \"Pandas\" has a reference to both \"Panel Data\", and \"Python Data Analysis\" and was created by Wes McKinney in 2008.\n"
      ]
    },
    {
      "cell_type": "markdown",
      "id": "d3pS5KZxocf9",
      "metadata": {
        "id": "d3pS5KZxocf9"
      },
      "source": [
        "### Install pandas\n",
        "\n",
        "pandas is installed by default with Anaconda.\n",
        "\n",
        "If pandas not installed-\n",
        "\n",
        "You can install pandas using pip:\n",
        "\n",
        "```bash\n",
        "pip install pandas==1.2.0\n",
        "pip install xlrd==2.0.1\n",
        "```\n",
        "\n",
        "In Jupyter Notebook :\n",
        "\n",
        "```python\n",
        "import sys\n",
        "!conda install --yes --prefix {sys.prefix} pandas\n",
        "```"
      ]
    },
    {
      "cell_type": "code",
      "execution_count": 150,
      "id": "vm-5pdWOocf-",
      "metadata": {
        "colab": {
          "base_uri": "https://localhost:8080/"
        },
        "id": "vm-5pdWOocf-",
        "outputId": "c1f9ee52-2806-4f89-f2df-3033ebdb3bd8"
      },
      "outputs": [
        {
          "output_type": "stream",
          "name": "stdout",
          "text": [
            "Looking in indexes: https://pypi.org/simple, https://us-python.pkg.dev/colab-wheels/public/simple/\n",
            "Requirement already satisfied: pandas==1.2.0 in /usr/local/lib/python3.7/dist-packages (1.2.0)\n",
            "Requirement already satisfied: pytz>=2017.3 in /usr/local/lib/python3.7/dist-packages (from pandas==1.2.0) (2022.1)\n",
            "Requirement already satisfied: python-dateutil>=2.7.3 in /usr/local/lib/python3.7/dist-packages (from pandas==1.2.0) (2.8.2)\n",
            "Requirement already satisfied: numpy>=1.16.5 in /usr/local/lib/python3.7/dist-packages (from pandas==1.2.0) (1.21.6)\n",
            "Requirement already satisfied: six>=1.5 in /usr/local/lib/python3.7/dist-packages (from python-dateutil>=2.7.3->pandas==1.2.0) (1.15.0)\n",
            "Looking in indexes: https://pypi.org/simple, https://us-python.pkg.dev/colab-wheels/public/simple/\n",
            "Requirement already satisfied: xlrd==2.0.1 in /usr/local/lib/python3.7/dist-packages (2.0.1)\n"
          ]
        }
      ],
      "source": [
        "! pip install pandas==1.2.0\n",
        "!pip install xlrd==2.0.1"
      ]
    },
    {
      "cell_type": "code",
      "execution_count": 151,
      "id": "dTr6F5cBocf-",
      "metadata": {
        "id": "dTr6F5cBocf-"
      },
      "outputs": [],
      "source": [
        "#Once Pandas is installed, import it in your applications by adding the import keyword:\n",
        "import pandas as pd"
      ]
    },
    {
      "cell_type": "markdown",
      "id": "G4FJ0cXYocf-",
      "metadata": {
        "id": "G4FJ0cXYocf-"
      },
      "source": [
        "###  Read data from file\n"
      ]
    },
    {
      "cell_type": "markdown",
      "id": "1-d_5TYQocf_",
      "metadata": {
        "id": "1-d_5TYQocf_"
      },
      "source": [
        "**There are different format  type to read data.**\n",
        "<ul>\n",
        "    <li>Csv Format</li>\n",
        "<li>Json  Format</li>\n",
        "<li>Excel Format</li>\n",
        "<li>Html Data</li>\n"
      ]
    },
    {
      "cell_type": "markdown",
      "id": "BxQewH7Aocf_",
      "metadata": {
        "id": "BxQewH7Aocf_"
      },
      "source": [
        "#### Read Data from CSV file  (exercise data)"
      ]
    },
    {
      "cell_type": "code",
      "execution_count": 152,
      "id": "SwfxFQpWocf_",
      "metadata": {
        "colab": {
          "base_uri": "https://localhost:8080/"
        },
        "id": "SwfxFQpWocf_",
        "outputId": "e2def932-623f-4814-c07a-4efbf60fd901"
      },
      "outputs": [
        {
          "output_type": "stream",
          "name": "stdout",
          "text": [
            "     Duration  Pulse  Maxpulse  Calories\n",
            "0          60    110       130     409.1\n",
            "1          60    117       145     479.0\n",
            "2          60    103       135     340.0\n",
            "3          45    109       175     282.4\n",
            "4          45    117       148     406.0\n",
            "5          60    102       127     300.0\n",
            "6          60    110       136     374.0\n",
            "7          45    104       134     253.3\n",
            "8          30    109       133     195.1\n",
            "9          60     98       124     269.0\n",
            "10         60    103       147     329.3\n",
            "11         60    100       120     250.7\n",
            "12         60    106       128     345.3\n",
            "13         60    104       132     379.3\n",
            "14         60     98       123     275.0\n",
            "15         60     98       120     215.2\n",
            "16         60    100       120     300.0\n",
            "17         45     90       112       NaN\n",
            "18         60    103       123     323.0\n",
            "19         45     97       125     243.0\n",
            "20         60    108       131     364.2\n",
            "21         45    100       119     282.0\n",
            "22         60    130       101     300.0\n",
            "23         45    105       132     246.0\n",
            "24         60    102       126     334.5\n",
            "25         60    100       120     250.0\n",
            "26         60     92       118     241.0\n",
            "27         60    103       132       NaN\n",
            "28         60    100       132     280.0\n",
            "29         60    102       129     380.3\n",
            "30         60     92       115     243.0\n",
            "31         45     90       112     180.1\n",
            "32         60    101       124     299.0\n",
            "33         60     93       113     223.0\n",
            "34         60    107       136     361.0\n",
            "35         60    114       140     415.0\n",
            "36         60    102       127     300.0\n",
            "37         60    100       120     300.0\n",
            "38         60    100       120     300.0\n",
            "39         45    104       129     266.0\n",
            "40         45     90       112     180.1\n",
            "41         60     98       126     286.0\n",
            "42         60    100       122     329.4\n",
            "43         60    111       138     400.0\n",
            "44         60    111       131     397.0\n",
            "45         60     99       119     273.0\n",
            "46         60    109       153     387.6\n",
            "47         45    111       136     300.0\n",
            "48         45    108       129     298.0\n",
            "49         60    111       139     397.6\n",
            "50         60    107       136     380.2\n",
            "51         80    123       146     643.1\n",
            "52         60    106       130     263.0\n",
            "53         60    118       151     486.0\n",
            "54         30    136       175     238.0\n",
            "55         60    121       146     450.7\n",
            "56         60    118       121     413.0\n",
            "57         45    115       144     305.0\n",
            "58         20    153       172     226.4\n",
            "59         45    123       152     321.0\n",
            "60        210    108       160    1376.0\n",
            "61        160    110       137    1034.4\n",
            "62        160    109       135     853.0\n",
            "63         45    118       141     341.0\n",
            "64         20    110       130     131.4\n",
            "65        180     90       130     800.4\n",
            "66        150    105       135     873.4\n",
            "67        150    107       130     816.0\n",
            "68         20    106       136     110.4\n",
            "69        300    108       143    1500.2\n",
            "70        150     97       129    1115.0\n",
            "71         60    109       153     387.6\n",
            "72         90    100       127     700.0\n",
            "73        150     97       127     953.2\n",
            "74         45    114       146     304.0\n",
            "75         90     98       125     563.2\n",
            "76         45    105       134     251.0\n",
            "77         45    110       141     300.0\n",
            "78        120    100       130     500.4\n",
            "79        270    100       131    1729.0\n",
            "80         30    159       182     319.2\n",
            "81         45    149       169     344.0\n",
            "82         30    103       139     151.1\n",
            "83        120    100       130     500.0\n",
            "84         45    100       120     225.3\n",
            "85         30    151       170     300.0\n",
            "86         45    102       136     234.0\n",
            "87        120    100       157    1000.1\n",
            "88         45    129       103     242.0\n",
            "89         20     83       107      50.3\n",
            "90        180    101       127     600.1\n",
            "91         45    107       137       NaN\n",
            "92         30     90       107     105.3\n",
            "93         15     80       100      50.5\n",
            "94         20    150       171     127.4\n",
            "95         20    151       168     229.4\n",
            "96         30     95       128     128.2\n",
            "97         25    152       168     244.2\n",
            "98         30    109       131     188.2\n",
            "99         90     93       124     604.1\n",
            "100        20     95       112      77.7\n",
            "101        90     90       110     500.0\n",
            "102        90     90       100     500.0\n",
            "103        90     90       100     500.4\n",
            "104        30     92       108      92.7\n",
            "105        30     93       128     124.0\n",
            "106       180     90       120     800.3\n",
            "107        30     90       120      86.2\n",
            "108        90     90       120     500.3\n",
            "109       210    137       184    1860.4\n",
            "110        60    102       124     325.2\n",
            "111        45    107       124     275.0\n",
            "112        15    124       139     124.2\n",
            "113        45    100       120     225.3\n",
            "114        60    108       131     367.6\n",
            "115        60    108       151     351.7\n",
            "116        60    116       141     443.0\n",
            "117        60     97       122     277.4\n",
            "118        60    105       125       NaN\n",
            "119        60    103       124     332.7\n",
            "120        30    112       137     193.9\n",
            "121        45    100       120     100.7\n",
            "122        60    119       169     336.7\n",
            "123        60    107       127     344.9\n",
            "124        60    111       151     368.5\n",
            "125        60     98       122     271.0\n",
            "126        60     97       124     275.3\n",
            "127        60    109       127     382.0\n",
            "128        90     99       125     466.4\n",
            "129        60    114       151     384.0\n",
            "130        60    104       134     342.5\n",
            "131        60    107       138     357.5\n",
            "132        60    103       133     335.0\n",
            "133        60    106       132     327.5\n",
            "134        60    103       136     339.0\n",
            "135        20    136       156     189.0\n",
            "136        45    117       143     317.7\n",
            "137        45    115       137     318.0\n",
            "138        45    113       138     308.0\n",
            "139        20    141       162     222.4\n",
            "140        60    108       135     390.0\n",
            "141        60     97       127       NaN\n",
            "142        45    100       120     250.4\n",
            "143        45    122       149     335.4\n",
            "144        60    136       170     470.2\n",
            "145        45    106       126     270.8\n",
            "146        60    107       136     400.0\n",
            "147        60    112       146     361.9\n",
            "148        30    103       127     185.0\n",
            "149        60    110       150     409.4\n",
            "150        60    106       134     343.0\n",
            "151        60    109       129     353.2\n",
            "152        60    109       138     374.0\n",
            "153        30    150       167     275.8\n",
            "154        60    105       128     328.0\n",
            "155        60    111       151     368.5\n",
            "156        60     97       131     270.4\n",
            "157        60    100       120     270.4\n",
            "158        60    114       150     382.8\n",
            "159        30     80       120     240.9\n",
            "160        30     85       120     250.4\n",
            "161        45     90       130     260.4\n",
            "162        45     95       130     270.0\n",
            "163        45    100       140     280.9\n",
            "164        60    105       140     290.8\n",
            "165        60    110       145     300.0\n",
            "166        60    115       145     310.2\n",
            "167        75    120       150     320.4\n",
            "168        75    125       150     330.4\n"
          ]
        }
      ],
      "source": [
        "df = pd.read_csv('data.csv')\n",
        "print(df.to_string())\n"
      ]
    },
    {
      "cell_type": "code",
      "execution_count": 153,
      "id": "Y4y9Jntdocf_",
      "metadata": {
        "colab": {
          "base_uri": "https://localhost:8080/",
          "height": 0
        },
        "id": "Y4y9Jntdocf_",
        "outputId": "95adab23-917b-4dea-ec0b-92a706474190"
      },
      "outputs": [
        {
          "output_type": "execute_result",
          "data": {
            "text/plain": [
              "   Duration  Pulse  Maxpulse  Calories\n",
              "0        60    110       130     409.1\n",
              "1        60    117       145     479.0\n",
              "2        60    103       135     340.0\n",
              "3        45    109       175     282.4\n",
              "4        45    117       148     406.0"
            ],
            "text/html": [
              "\n",
              "  <div id=\"df-4a8408a8-1660-4323-bf52-93366b270057\">\n",
              "    <div class=\"colab-df-container\">\n",
              "      <div>\n",
              "<style scoped>\n",
              "    .dataframe tbody tr th:only-of-type {\n",
              "        vertical-align: middle;\n",
              "    }\n",
              "\n",
              "    .dataframe tbody tr th {\n",
              "        vertical-align: top;\n",
              "    }\n",
              "\n",
              "    .dataframe thead th {\n",
              "        text-align: right;\n",
              "    }\n",
              "</style>\n",
              "<table border=\"1\" class=\"dataframe\">\n",
              "  <thead>\n",
              "    <tr style=\"text-align: right;\">\n",
              "      <th></th>\n",
              "      <th>Duration</th>\n",
              "      <th>Pulse</th>\n",
              "      <th>Maxpulse</th>\n",
              "      <th>Calories</th>\n",
              "    </tr>\n",
              "  </thead>\n",
              "  <tbody>\n",
              "    <tr>\n",
              "      <th>0</th>\n",
              "      <td>60</td>\n",
              "      <td>110</td>\n",
              "      <td>130</td>\n",
              "      <td>409.1</td>\n",
              "    </tr>\n",
              "    <tr>\n",
              "      <th>1</th>\n",
              "      <td>60</td>\n",
              "      <td>117</td>\n",
              "      <td>145</td>\n",
              "      <td>479.0</td>\n",
              "    </tr>\n",
              "    <tr>\n",
              "      <th>2</th>\n",
              "      <td>60</td>\n",
              "      <td>103</td>\n",
              "      <td>135</td>\n",
              "      <td>340.0</td>\n",
              "    </tr>\n",
              "    <tr>\n",
              "      <th>3</th>\n",
              "      <td>45</td>\n",
              "      <td>109</td>\n",
              "      <td>175</td>\n",
              "      <td>282.4</td>\n",
              "    </tr>\n",
              "    <tr>\n",
              "      <th>4</th>\n",
              "      <td>45</td>\n",
              "      <td>117</td>\n",
              "      <td>148</td>\n",
              "      <td>406.0</td>\n",
              "    </tr>\n",
              "  </tbody>\n",
              "</table>\n",
              "</div>\n",
              "      <button class=\"colab-df-convert\" onclick=\"convertToInteractive('df-4a8408a8-1660-4323-bf52-93366b270057')\"\n",
              "              title=\"Convert this dataframe to an interactive table.\"\n",
              "              style=\"display:none;\">\n",
              "        \n",
              "  <svg xmlns=\"http://www.w3.org/2000/svg\" height=\"24px\"viewBox=\"0 0 24 24\"\n",
              "       width=\"24px\">\n",
              "    <path d=\"M0 0h24v24H0V0z\" fill=\"none\"/>\n",
              "    <path d=\"M18.56 5.44l.94 2.06.94-2.06 2.06-.94-2.06-.94-.94-2.06-.94 2.06-2.06.94zm-11 1L8.5 8.5l.94-2.06 2.06-.94-2.06-.94L8.5 2.5l-.94 2.06-2.06.94zm10 10l.94 2.06.94-2.06 2.06-.94-2.06-.94-.94-2.06-.94 2.06-2.06.94z\"/><path d=\"M17.41 7.96l-1.37-1.37c-.4-.4-.92-.59-1.43-.59-.52 0-1.04.2-1.43.59L10.3 9.45l-7.72 7.72c-.78.78-.78 2.05 0 2.83L4 21.41c.39.39.9.59 1.41.59.51 0 1.02-.2 1.41-.59l7.78-7.78 2.81-2.81c.8-.78.8-2.07 0-2.86zM5.41 20L4 18.59l7.72-7.72 1.47 1.35L5.41 20z\"/>\n",
              "  </svg>\n",
              "      </button>\n",
              "      \n",
              "  <style>\n",
              "    .colab-df-container {\n",
              "      display:flex;\n",
              "      flex-wrap:wrap;\n",
              "      gap: 12px;\n",
              "    }\n",
              "\n",
              "    .colab-df-convert {\n",
              "      background-color: #E8F0FE;\n",
              "      border: none;\n",
              "      border-radius: 50%;\n",
              "      cursor: pointer;\n",
              "      display: none;\n",
              "      fill: #1967D2;\n",
              "      height: 32px;\n",
              "      padding: 0 0 0 0;\n",
              "      width: 32px;\n",
              "    }\n",
              "\n",
              "    .colab-df-convert:hover {\n",
              "      background-color: #E2EBFA;\n",
              "      box-shadow: 0px 1px 2px rgba(60, 64, 67, 0.3), 0px 1px 3px 1px rgba(60, 64, 67, 0.15);\n",
              "      fill: #174EA6;\n",
              "    }\n",
              "\n",
              "    [theme=dark] .colab-df-convert {\n",
              "      background-color: #3B4455;\n",
              "      fill: #D2E3FC;\n",
              "    }\n",
              "\n",
              "    [theme=dark] .colab-df-convert:hover {\n",
              "      background-color: #434B5C;\n",
              "      box-shadow: 0px 1px 3px 1px rgba(0, 0, 0, 0.15);\n",
              "      filter: drop-shadow(0px 1px 2px rgba(0, 0, 0, 0.3));\n",
              "      fill: #FFFFFF;\n",
              "    }\n",
              "  </style>\n",
              "\n",
              "      <script>\n",
              "        const buttonEl =\n",
              "          document.querySelector('#df-4a8408a8-1660-4323-bf52-93366b270057 button.colab-df-convert');\n",
              "        buttonEl.style.display =\n",
              "          google.colab.kernel.accessAllowed ? 'block' : 'none';\n",
              "\n",
              "        async function convertToInteractive(key) {\n",
              "          const element = document.querySelector('#df-4a8408a8-1660-4323-bf52-93366b270057');\n",
              "          const dataTable =\n",
              "            await google.colab.kernel.invokeFunction('convertToInteractive',\n",
              "                                                     [key], {});\n",
              "          if (!dataTable) return;\n",
              "\n",
              "          const docLinkHtml = 'Like what you see? Visit the ' +\n",
              "            '<a target=\"_blank\" href=https://colab.research.google.com/notebooks/data_table.ipynb>data table notebook</a>'\n",
              "            + ' to learn more about interactive tables.';\n",
              "          element.innerHTML = '';\n",
              "          dataTable['output_type'] = 'display_data';\n",
              "          await google.colab.output.renderOutput(dataTable, element);\n",
              "          const docLink = document.createElement('div');\n",
              "          docLink.innerHTML = docLinkHtml;\n",
              "          element.appendChild(docLink);\n",
              "        }\n",
              "      </script>\n",
              "    </div>\n",
              "  </div>\n",
              "  "
            ]
          },
          "metadata": {},
          "execution_count": 153
        }
      ],
      "source": [
        "# print first 5 data\n",
        "df.head()"
      ]
    },
    {
      "cell_type": "markdown",
      "id": "fL5XL95RocgA",
      "metadata": {
        "id": "fL5XL95RocgA"
      },
      "source": [
        "### print first 10 , last 10 rows from dataset "
      ]
    },
    {
      "cell_type": "code",
      "execution_count": 154,
      "id": "wyVOFdOqocgA",
      "metadata": {
        "id": "wyVOFdOqocgA"
      },
      "outputs": [],
      "source": [
        "# write code here "
      ]
    },
    {
      "cell_type": "markdown",
      "id": "v2yI0QaBocgA",
      "metadata": {
        "id": "v2yI0QaBocgA"
      },
      "source": [
        "## Read Data From Excel  (Employees  Data)\n"
      ]
    },
    {
      "cell_type": "code",
      "execution_count": 155,
      "id": "IwLzvJu_ocgA",
      "metadata": {
        "colab": {
          "base_uri": "https://localhost:8080/",
          "height": 206
        },
        "id": "IwLzvJu_ocgA",
        "outputId": "da4e2b48-cdb3-4c0a-ede8-e5757eb2c977"
      },
      "outputs": [
        {
          "output_type": "execute_result",
          "data": {
            "text/plain": [
              "   id gender      bdate  educ  jobcat  salary  salbegin  jobtime  prevexp  \\\n",
              "0   1      m 1952-02-03    15       3   57000     27000       98      144   \n",
              "1   2      m 1958-05-23    16       1   40200     18750       98       36   \n",
              "2   3      f 1929-07-26    12       1   21450     12000       98      381   \n",
              "3   4      f 1947-04-15     8       1   21900     13200       98      190   \n",
              "4   5      m 1955-02-09    15       1   45000     21000       98      138   \n",
              "\n",
              "   minority  \n",
              "0         0  \n",
              "1         0  \n",
              "2         0  \n",
              "3         0  \n",
              "4         0  "
            ],
            "text/html": [
              "\n",
              "  <div id=\"df-21ffbf76-4b0e-4dec-8d5e-855b5a27c6c8\">\n",
              "    <div class=\"colab-df-container\">\n",
              "      <div>\n",
              "<style scoped>\n",
              "    .dataframe tbody tr th:only-of-type {\n",
              "        vertical-align: middle;\n",
              "    }\n",
              "\n",
              "    .dataframe tbody tr th {\n",
              "        vertical-align: top;\n",
              "    }\n",
              "\n",
              "    .dataframe thead th {\n",
              "        text-align: right;\n",
              "    }\n",
              "</style>\n",
              "<table border=\"1\" class=\"dataframe\">\n",
              "  <thead>\n",
              "    <tr style=\"text-align: right;\">\n",
              "      <th></th>\n",
              "      <th>id</th>\n",
              "      <th>gender</th>\n",
              "      <th>bdate</th>\n",
              "      <th>educ</th>\n",
              "      <th>jobcat</th>\n",
              "      <th>salary</th>\n",
              "      <th>salbegin</th>\n",
              "      <th>jobtime</th>\n",
              "      <th>prevexp</th>\n",
              "      <th>minority</th>\n",
              "    </tr>\n",
              "  </thead>\n",
              "  <tbody>\n",
              "    <tr>\n",
              "      <th>0</th>\n",
              "      <td>1</td>\n",
              "      <td>m</td>\n",
              "      <td>1952-02-03</td>\n",
              "      <td>15</td>\n",
              "      <td>3</td>\n",
              "      <td>57000</td>\n",
              "      <td>27000</td>\n",
              "      <td>98</td>\n",
              "      <td>144</td>\n",
              "      <td>0</td>\n",
              "    </tr>\n",
              "    <tr>\n",
              "      <th>1</th>\n",
              "      <td>2</td>\n",
              "      <td>m</td>\n",
              "      <td>1958-05-23</td>\n",
              "      <td>16</td>\n",
              "      <td>1</td>\n",
              "      <td>40200</td>\n",
              "      <td>18750</td>\n",
              "      <td>98</td>\n",
              "      <td>36</td>\n",
              "      <td>0</td>\n",
              "    </tr>\n",
              "    <tr>\n",
              "      <th>2</th>\n",
              "      <td>3</td>\n",
              "      <td>f</td>\n",
              "      <td>1929-07-26</td>\n",
              "      <td>12</td>\n",
              "      <td>1</td>\n",
              "      <td>21450</td>\n",
              "      <td>12000</td>\n",
              "      <td>98</td>\n",
              "      <td>381</td>\n",
              "      <td>0</td>\n",
              "    </tr>\n",
              "    <tr>\n",
              "      <th>3</th>\n",
              "      <td>4</td>\n",
              "      <td>f</td>\n",
              "      <td>1947-04-15</td>\n",
              "      <td>8</td>\n",
              "      <td>1</td>\n",
              "      <td>21900</td>\n",
              "      <td>13200</td>\n",
              "      <td>98</td>\n",
              "      <td>190</td>\n",
              "      <td>0</td>\n",
              "    </tr>\n",
              "    <tr>\n",
              "      <th>4</th>\n",
              "      <td>5</td>\n",
              "      <td>m</td>\n",
              "      <td>1955-02-09</td>\n",
              "      <td>15</td>\n",
              "      <td>1</td>\n",
              "      <td>45000</td>\n",
              "      <td>21000</td>\n",
              "      <td>98</td>\n",
              "      <td>138</td>\n",
              "      <td>0</td>\n",
              "    </tr>\n",
              "  </tbody>\n",
              "</table>\n",
              "</div>\n",
              "      <button class=\"colab-df-convert\" onclick=\"convertToInteractive('df-21ffbf76-4b0e-4dec-8d5e-855b5a27c6c8')\"\n",
              "              title=\"Convert this dataframe to an interactive table.\"\n",
              "              style=\"display:none;\">\n",
              "        \n",
              "  <svg xmlns=\"http://www.w3.org/2000/svg\" height=\"24px\"viewBox=\"0 0 24 24\"\n",
              "       width=\"24px\">\n",
              "    <path d=\"M0 0h24v24H0V0z\" fill=\"none\"/>\n",
              "    <path d=\"M18.56 5.44l.94 2.06.94-2.06 2.06-.94-2.06-.94-.94-2.06-.94 2.06-2.06.94zm-11 1L8.5 8.5l.94-2.06 2.06-.94-2.06-.94L8.5 2.5l-.94 2.06-2.06.94zm10 10l.94 2.06.94-2.06 2.06-.94-2.06-.94-.94-2.06-.94 2.06-2.06.94z\"/><path d=\"M17.41 7.96l-1.37-1.37c-.4-.4-.92-.59-1.43-.59-.52 0-1.04.2-1.43.59L10.3 9.45l-7.72 7.72c-.78.78-.78 2.05 0 2.83L4 21.41c.39.39.9.59 1.41.59.51 0 1.02-.2 1.41-.59l7.78-7.78 2.81-2.81c.8-.78.8-2.07 0-2.86zM5.41 20L4 18.59l7.72-7.72 1.47 1.35L5.41 20z\"/>\n",
              "  </svg>\n",
              "      </button>\n",
              "      \n",
              "  <style>\n",
              "    .colab-df-container {\n",
              "      display:flex;\n",
              "      flex-wrap:wrap;\n",
              "      gap: 12px;\n",
              "    }\n",
              "\n",
              "    .colab-df-convert {\n",
              "      background-color: #E8F0FE;\n",
              "      border: none;\n",
              "      border-radius: 50%;\n",
              "      cursor: pointer;\n",
              "      display: none;\n",
              "      fill: #1967D2;\n",
              "      height: 32px;\n",
              "      padding: 0 0 0 0;\n",
              "      width: 32px;\n",
              "    }\n",
              "\n",
              "    .colab-df-convert:hover {\n",
              "      background-color: #E2EBFA;\n",
              "      box-shadow: 0px 1px 2px rgba(60, 64, 67, 0.3), 0px 1px 3px 1px rgba(60, 64, 67, 0.15);\n",
              "      fill: #174EA6;\n",
              "    }\n",
              "\n",
              "    [theme=dark] .colab-df-convert {\n",
              "      background-color: #3B4455;\n",
              "      fill: #D2E3FC;\n",
              "    }\n",
              "\n",
              "    [theme=dark] .colab-df-convert:hover {\n",
              "      background-color: #434B5C;\n",
              "      box-shadow: 0px 1px 3px 1px rgba(0, 0, 0, 0.15);\n",
              "      filter: drop-shadow(0px 1px 2px rgba(0, 0, 0, 0.3));\n",
              "      fill: #FFFFFF;\n",
              "    }\n",
              "  </style>\n",
              "\n",
              "      <script>\n",
              "        const buttonEl =\n",
              "          document.querySelector('#df-21ffbf76-4b0e-4dec-8d5e-855b5a27c6c8 button.colab-df-convert');\n",
              "        buttonEl.style.display =\n",
              "          google.colab.kernel.accessAllowed ? 'block' : 'none';\n",
              "\n",
              "        async function convertToInteractive(key) {\n",
              "          const element = document.querySelector('#df-21ffbf76-4b0e-4dec-8d5e-855b5a27c6c8');\n",
              "          const dataTable =\n",
              "            await google.colab.kernel.invokeFunction('convertToInteractive',\n",
              "                                                     [key], {});\n",
              "          if (!dataTable) return;\n",
              "\n",
              "          const docLinkHtml = 'Like what you see? Visit the ' +\n",
              "            '<a target=\"_blank\" href=https://colab.research.google.com/notebooks/data_table.ipynb>data table notebook</a>'\n",
              "            + ' to learn more about interactive tables.';\n",
              "          element.innerHTML = '';\n",
              "          dataTable['output_type'] = 'display_data';\n",
              "          await google.colab.output.renderOutput(dataTable, element);\n",
              "          const docLink = document.createElement('div');\n",
              "          docLink.innerHTML = docLinkHtml;\n",
              "          element.appendChild(docLink);\n",
              "        }\n",
              "      </script>\n",
              "    </div>\n",
              "  </div>\n",
              "  "
            ]
          },
          "metadata": {},
          "execution_count": 155
        }
      ],
      "source": [
        "df=pd.read_excel('Employee_Data.xls',sheet_name='EmployeeData')\n",
        "df.head()\n"
      ]
    },
    {
      "cell_type": "markdown",
      "id": "h2qkCuWQocgB",
      "metadata": {
        "id": "h2qkCuWQocgB"
      },
      "source": [
        "##  Read data from HTML\n",
        "\n",
        "Federal Deposit Insurance Corporation (FDIC)\n",
        "Following URL has dataset of failed banks\n",
        "\n",
        "\n",
        "\n",
        "\n"
      ]
    },
    {
      "cell_type": "code",
      "execution_count": 156,
      "id": "kRc3DIiiocgB",
      "metadata": {
        "colab": {
          "base_uri": "https://localhost:8080/",
          "height": 206
        },
        "id": "kRc3DIiiocgB",
        "outputId": "0d7d290e-1604-45c0-de9d-9c1dae87cc0f"
      },
      "outputs": [
        {
          "output_type": "execute_result",
          "data": {
            "text/plain": [
              "                      Bank NameBank           CityCity StateSt  CertCert  \\\n",
              "0                 Almena State Bank             Almena      KS     15426   \n",
              "1        First City Bank of Florida  Fort Walton Beach      FL     16748   \n",
              "2              The First State Bank      Barboursville      WV     14361   \n",
              "3                Ericson State Bank            Ericson      NE     18265   \n",
              "4  City National Bank of New Jersey             Newark      NJ     21111   \n",
              "\n",
              "      Acquiring InstitutionAI Closing DateClosing  FundFund  \n",
              "0                 Equity Bank    October 23, 2020     10538  \n",
              "1   United Fidelity Bank, fsb    October 16, 2020     10537  \n",
              "2              MVB Bank, Inc.       April 3, 2020     10536  \n",
              "3  Farmers and Merchants Bank   February 14, 2020     10535  \n",
              "4             Industrial Bank    November 1, 2019     10534  "
            ],
            "text/html": [
              "\n",
              "  <div id=\"df-041d5473-b157-4306-973f-11f3aa5afb24\">\n",
              "    <div class=\"colab-df-container\">\n",
              "      <div>\n",
              "<style scoped>\n",
              "    .dataframe tbody tr th:only-of-type {\n",
              "        vertical-align: middle;\n",
              "    }\n",
              "\n",
              "    .dataframe tbody tr th {\n",
              "        vertical-align: top;\n",
              "    }\n",
              "\n",
              "    .dataframe thead th {\n",
              "        text-align: right;\n",
              "    }\n",
              "</style>\n",
              "<table border=\"1\" class=\"dataframe\">\n",
              "  <thead>\n",
              "    <tr style=\"text-align: right;\">\n",
              "      <th></th>\n",
              "      <th>Bank NameBank</th>\n",
              "      <th>CityCity</th>\n",
              "      <th>StateSt</th>\n",
              "      <th>CertCert</th>\n",
              "      <th>Acquiring InstitutionAI</th>\n",
              "      <th>Closing DateClosing</th>\n",
              "      <th>FundFund</th>\n",
              "    </tr>\n",
              "  </thead>\n",
              "  <tbody>\n",
              "    <tr>\n",
              "      <th>0</th>\n",
              "      <td>Almena State Bank</td>\n",
              "      <td>Almena</td>\n",
              "      <td>KS</td>\n",
              "      <td>15426</td>\n",
              "      <td>Equity Bank</td>\n",
              "      <td>October 23, 2020</td>\n",
              "      <td>10538</td>\n",
              "    </tr>\n",
              "    <tr>\n",
              "      <th>1</th>\n",
              "      <td>First City Bank of Florida</td>\n",
              "      <td>Fort Walton Beach</td>\n",
              "      <td>FL</td>\n",
              "      <td>16748</td>\n",
              "      <td>United Fidelity Bank, fsb</td>\n",
              "      <td>October 16, 2020</td>\n",
              "      <td>10537</td>\n",
              "    </tr>\n",
              "    <tr>\n",
              "      <th>2</th>\n",
              "      <td>The First State Bank</td>\n",
              "      <td>Barboursville</td>\n",
              "      <td>WV</td>\n",
              "      <td>14361</td>\n",
              "      <td>MVB Bank, Inc.</td>\n",
              "      <td>April 3, 2020</td>\n",
              "      <td>10536</td>\n",
              "    </tr>\n",
              "    <tr>\n",
              "      <th>3</th>\n",
              "      <td>Ericson State Bank</td>\n",
              "      <td>Ericson</td>\n",
              "      <td>NE</td>\n",
              "      <td>18265</td>\n",
              "      <td>Farmers and Merchants Bank</td>\n",
              "      <td>February 14, 2020</td>\n",
              "      <td>10535</td>\n",
              "    </tr>\n",
              "    <tr>\n",
              "      <th>4</th>\n",
              "      <td>City National Bank of New Jersey</td>\n",
              "      <td>Newark</td>\n",
              "      <td>NJ</td>\n",
              "      <td>21111</td>\n",
              "      <td>Industrial Bank</td>\n",
              "      <td>November 1, 2019</td>\n",
              "      <td>10534</td>\n",
              "    </tr>\n",
              "  </tbody>\n",
              "</table>\n",
              "</div>\n",
              "      <button class=\"colab-df-convert\" onclick=\"convertToInteractive('df-041d5473-b157-4306-973f-11f3aa5afb24')\"\n",
              "              title=\"Convert this dataframe to an interactive table.\"\n",
              "              style=\"display:none;\">\n",
              "        \n",
              "  <svg xmlns=\"http://www.w3.org/2000/svg\" height=\"24px\"viewBox=\"0 0 24 24\"\n",
              "       width=\"24px\">\n",
              "    <path d=\"M0 0h24v24H0V0z\" fill=\"none\"/>\n",
              "    <path d=\"M18.56 5.44l.94 2.06.94-2.06 2.06-.94-2.06-.94-.94-2.06-.94 2.06-2.06.94zm-11 1L8.5 8.5l.94-2.06 2.06-.94-2.06-.94L8.5 2.5l-.94 2.06-2.06.94zm10 10l.94 2.06.94-2.06 2.06-.94-2.06-.94-.94-2.06-.94 2.06-2.06.94z\"/><path d=\"M17.41 7.96l-1.37-1.37c-.4-.4-.92-.59-1.43-.59-.52 0-1.04.2-1.43.59L10.3 9.45l-7.72 7.72c-.78.78-.78 2.05 0 2.83L4 21.41c.39.39.9.59 1.41.59.51 0 1.02-.2 1.41-.59l7.78-7.78 2.81-2.81c.8-.78.8-2.07 0-2.86zM5.41 20L4 18.59l7.72-7.72 1.47 1.35L5.41 20z\"/>\n",
              "  </svg>\n",
              "      </button>\n",
              "      \n",
              "  <style>\n",
              "    .colab-df-container {\n",
              "      display:flex;\n",
              "      flex-wrap:wrap;\n",
              "      gap: 12px;\n",
              "    }\n",
              "\n",
              "    .colab-df-convert {\n",
              "      background-color: #E8F0FE;\n",
              "      border: none;\n",
              "      border-radius: 50%;\n",
              "      cursor: pointer;\n",
              "      display: none;\n",
              "      fill: #1967D2;\n",
              "      height: 32px;\n",
              "      padding: 0 0 0 0;\n",
              "      width: 32px;\n",
              "    }\n",
              "\n",
              "    .colab-df-convert:hover {\n",
              "      background-color: #E2EBFA;\n",
              "      box-shadow: 0px 1px 2px rgba(60, 64, 67, 0.3), 0px 1px 3px 1px rgba(60, 64, 67, 0.15);\n",
              "      fill: #174EA6;\n",
              "    }\n",
              "\n",
              "    [theme=dark] .colab-df-convert {\n",
              "      background-color: #3B4455;\n",
              "      fill: #D2E3FC;\n",
              "    }\n",
              "\n",
              "    [theme=dark] .colab-df-convert:hover {\n",
              "      background-color: #434B5C;\n",
              "      box-shadow: 0px 1px 3px 1px rgba(0, 0, 0, 0.15);\n",
              "      filter: drop-shadow(0px 1px 2px rgba(0, 0, 0, 0.3));\n",
              "      fill: #FFFFFF;\n",
              "    }\n",
              "  </style>\n",
              "\n",
              "      <script>\n",
              "        const buttonEl =\n",
              "          document.querySelector('#df-041d5473-b157-4306-973f-11f3aa5afb24 button.colab-df-convert');\n",
              "        buttonEl.style.display =\n",
              "          google.colab.kernel.accessAllowed ? 'block' : 'none';\n",
              "\n",
              "        async function convertToInteractive(key) {\n",
              "          const element = document.querySelector('#df-041d5473-b157-4306-973f-11f3aa5afb24');\n",
              "          const dataTable =\n",
              "            await google.colab.kernel.invokeFunction('convertToInteractive',\n",
              "                                                     [key], {});\n",
              "          if (!dataTable) return;\n",
              "\n",
              "          const docLinkHtml = 'Like what you see? Visit the ' +\n",
              "            '<a target=\"_blank\" href=https://colab.research.google.com/notebooks/data_table.ipynb>data table notebook</a>'\n",
              "            + ' to learn more about interactive tables.';\n",
              "          element.innerHTML = '';\n",
              "          dataTable['output_type'] = 'display_data';\n",
              "          await google.colab.output.renderOutput(dataTable, element);\n",
              "          const docLink = document.createElement('div');\n",
              "          docLink.innerHTML = docLinkHtml;\n",
              "          element.appendChild(docLink);\n",
              "        }\n",
              "      </script>\n",
              "    </div>\n",
              "  </div>\n",
              "  "
            ]
          },
          "metadata": {},
          "execution_count": 156
        }
      ],
      "source": [
        "data=pd.read_html(\"https://www.fdic.gov/resources/resolutions/bank-failures/failed-bank-list/\")\n",
        "data[0].head()"
      ]
    },
    {
      "cell_type": "code",
      "execution_count": 156,
      "id": "D5LgOQ9FocgC",
      "metadata": {
        "id": "D5LgOQ9FocgC"
      },
      "outputs": [],
      "source": [
        ""
      ]
    },
    {
      "cell_type": "markdown",
      "id": "9oJ8McxyocgC",
      "metadata": {
        "id": "9oJ8McxyocgC"
      },
      "source": [
        "## Matplotlib\n",
        "Matplotlib is Python Package that used for 2D  and 3D Graphics. \n",
        "\n",
        "Examples: \n",
        "\n",
        "\n"
      ]
    },
    {
      "cell_type": "markdown",
      "id": "u_l0yfXZocgC",
      "metadata": {
        "id": "u_l0yfXZocgC"
      },
      "source": [
        "### Install matplotlib\n",
        "\n",
        "matplotlib is installed by default with Anaconda.\n",
        "\n",
        "If matplotlib not installed-\n",
        "\n",
        "You can install matplotlib  using pip:\n",
        "\n",
        "```bash\n",
        "pip install matplotlib\n",
        "```\n",
        "\n",
        "In Jupyter Notebook :\n",
        "\n",
        "```python\n",
        "import sys\n",
        "!conda install --yes --prefix {sys.prefix} matplotlib\n",
        "```\n"
      ]
    },
    {
      "cell_type": "code",
      "execution_count": 157,
      "id": "QPLIV1A2ocgC",
      "metadata": {
        "colab": {
          "base_uri": "https://localhost:8080/"
        },
        "id": "QPLIV1A2ocgC",
        "outputId": "ba7851fb-a86c-498e-8843-3c8e12829cb0"
      },
      "outputs": [
        {
          "output_type": "stream",
          "name": "stdout",
          "text": [
            "Looking in indexes: https://pypi.org/simple, https://us-python.pkg.dev/colab-wheels/public/simple/\n",
            "Requirement already satisfied: matplotlib in /usr/local/lib/python3.7/dist-packages (3.2.2)\n",
            "Requirement already satisfied: kiwisolver>=1.0.1 in /usr/local/lib/python3.7/dist-packages (from matplotlib) (1.4.3)\n",
            "Requirement already satisfied: python-dateutil>=2.1 in /usr/local/lib/python3.7/dist-packages (from matplotlib) (2.8.2)\n",
            "Requirement already satisfied: numpy>=1.11 in /usr/local/lib/python3.7/dist-packages (from matplotlib) (1.21.6)\n",
            "Requirement already satisfied: pyparsing!=2.0.4,!=2.1.2,!=2.1.6,>=2.0.1 in /usr/local/lib/python3.7/dist-packages (from matplotlib) (3.0.9)\n",
            "Requirement already satisfied: cycler>=0.10 in /usr/local/lib/python3.7/dist-packages (from matplotlib) (0.11.0)\n",
            "Requirement already satisfied: typing-extensions in /usr/local/lib/python3.7/dist-packages (from kiwisolver>=1.0.1->matplotlib) (4.1.1)\n",
            "Requirement already satisfied: six>=1.5 in /usr/local/lib/python3.7/dist-packages (from python-dateutil>=2.1->matplotlib) (1.15.0)\n"
          ]
        }
      ],
      "source": [
        "! pip install matplotlib"
      ]
    },
    {
      "cell_type": "code",
      "execution_count": 158,
      "id": "hmVEfaSRocgD",
      "metadata": {
        "id": "hmVEfaSRocgD"
      },
      "outputs": [],
      "source": [
        "#When you create any plot at first you must Add Below library. \n",
        "import matplotlib.pyplot as plt\n",
        "import seaborn as sns"
      ]
    },
    {
      "cell_type": "markdown",
      "id": "1UbCXR1rocgD",
      "metadata": {
        "id": "1UbCXR1rocgD"
      },
      "source": [
        "### OIL supply and demand data , Crude oil and Natural gas liquids"
      ]
    },
    {
      "cell_type": "code",
      "execution_count": 159,
      "id": "Tr79Xtj8ocgD",
      "metadata": {
        "colab": {
          "base_uri": "https://localhost:8080/",
          "height": 206
        },
        "id": "Tr79Xtj8ocgD",
        "outputId": "341c9b9c-566d-48d1-d43f-6bea5a620dd6"
      },
      "outputs": [
        {
          "output_type": "execute_result",
          "data": {
            "text/plain": [
              "   Year  Crude oil and NGL production  Total oil demand  \\\n",
              "0  1971                      2490.517          2378.553   \n",
              "1  1972                      2633.794          2556.722   \n",
              "2  1973                      2870.438          2760.475   \n",
              "3  1974                      2875.220          2719.423   \n",
              "4  1975                      2739.895          2699.828   \n",
              "\n",
              "   Supply-Demand gap (secondary axis)  \n",
              "0                             111.964  \n",
              "1                              77.072  \n",
              "2                             109.963  \n",
              "3                             155.797  \n",
              "4                              40.067  "
            ],
            "text/html": [
              "\n",
              "  <div id=\"df-01b7b4fc-20d6-444f-a5c3-b8ad0848e490\">\n",
              "    <div class=\"colab-df-container\">\n",
              "      <div>\n",
              "<style scoped>\n",
              "    .dataframe tbody tr th:only-of-type {\n",
              "        vertical-align: middle;\n",
              "    }\n",
              "\n",
              "    .dataframe tbody tr th {\n",
              "        vertical-align: top;\n",
              "    }\n",
              "\n",
              "    .dataframe thead th {\n",
              "        text-align: right;\n",
              "    }\n",
              "</style>\n",
              "<table border=\"1\" class=\"dataframe\">\n",
              "  <thead>\n",
              "    <tr style=\"text-align: right;\">\n",
              "      <th></th>\n",
              "      <th>Year</th>\n",
              "      <th>Crude oil and NGL production</th>\n",
              "      <th>Total oil demand</th>\n",
              "      <th>Supply-Demand gap (secondary axis)</th>\n",
              "    </tr>\n",
              "  </thead>\n",
              "  <tbody>\n",
              "    <tr>\n",
              "      <th>0</th>\n",
              "      <td>1971</td>\n",
              "      <td>2490.517</td>\n",
              "      <td>2378.553</td>\n",
              "      <td>111.964</td>\n",
              "    </tr>\n",
              "    <tr>\n",
              "      <th>1</th>\n",
              "      <td>1972</td>\n",
              "      <td>2633.794</td>\n",
              "      <td>2556.722</td>\n",
              "      <td>77.072</td>\n",
              "    </tr>\n",
              "    <tr>\n",
              "      <th>2</th>\n",
              "      <td>1973</td>\n",
              "      <td>2870.438</td>\n",
              "      <td>2760.475</td>\n",
              "      <td>109.963</td>\n",
              "    </tr>\n",
              "    <tr>\n",
              "      <th>3</th>\n",
              "      <td>1974</td>\n",
              "      <td>2875.220</td>\n",
              "      <td>2719.423</td>\n",
              "      <td>155.797</td>\n",
              "    </tr>\n",
              "    <tr>\n",
              "      <th>4</th>\n",
              "      <td>1975</td>\n",
              "      <td>2739.895</td>\n",
              "      <td>2699.828</td>\n",
              "      <td>40.067</td>\n",
              "    </tr>\n",
              "  </tbody>\n",
              "</table>\n",
              "</div>\n",
              "      <button class=\"colab-df-convert\" onclick=\"convertToInteractive('df-01b7b4fc-20d6-444f-a5c3-b8ad0848e490')\"\n",
              "              title=\"Convert this dataframe to an interactive table.\"\n",
              "              style=\"display:none;\">\n",
              "        \n",
              "  <svg xmlns=\"http://www.w3.org/2000/svg\" height=\"24px\"viewBox=\"0 0 24 24\"\n",
              "       width=\"24px\">\n",
              "    <path d=\"M0 0h24v24H0V0z\" fill=\"none\"/>\n",
              "    <path d=\"M18.56 5.44l.94 2.06.94-2.06 2.06-.94-2.06-.94-.94-2.06-.94 2.06-2.06.94zm-11 1L8.5 8.5l.94-2.06 2.06-.94-2.06-.94L8.5 2.5l-.94 2.06-2.06.94zm10 10l.94 2.06.94-2.06 2.06-.94-2.06-.94-.94-2.06-.94 2.06-2.06.94z\"/><path d=\"M17.41 7.96l-1.37-1.37c-.4-.4-.92-.59-1.43-.59-.52 0-1.04.2-1.43.59L10.3 9.45l-7.72 7.72c-.78.78-.78 2.05 0 2.83L4 21.41c.39.39.9.59 1.41.59.51 0 1.02-.2 1.41-.59l7.78-7.78 2.81-2.81c.8-.78.8-2.07 0-2.86zM5.41 20L4 18.59l7.72-7.72 1.47 1.35L5.41 20z\"/>\n",
              "  </svg>\n",
              "      </button>\n",
              "      \n",
              "  <style>\n",
              "    .colab-df-container {\n",
              "      display:flex;\n",
              "      flex-wrap:wrap;\n",
              "      gap: 12px;\n",
              "    }\n",
              "\n",
              "    .colab-df-convert {\n",
              "      background-color: #E8F0FE;\n",
              "      border: none;\n",
              "      border-radius: 50%;\n",
              "      cursor: pointer;\n",
              "      display: none;\n",
              "      fill: #1967D2;\n",
              "      height: 32px;\n",
              "      padding: 0 0 0 0;\n",
              "      width: 32px;\n",
              "    }\n",
              "\n",
              "    .colab-df-convert:hover {\n",
              "      background-color: #E2EBFA;\n",
              "      box-shadow: 0px 1px 2px rgba(60, 64, 67, 0.3), 0px 1px 3px 1px rgba(60, 64, 67, 0.15);\n",
              "      fill: #174EA6;\n",
              "    }\n",
              "\n",
              "    [theme=dark] .colab-df-convert {\n",
              "      background-color: #3B4455;\n",
              "      fill: #D2E3FC;\n",
              "    }\n",
              "\n",
              "    [theme=dark] .colab-df-convert:hover {\n",
              "      background-color: #434B5C;\n",
              "      box-shadow: 0px 1px 3px 1px rgba(0, 0, 0, 0.15);\n",
              "      filter: drop-shadow(0px 1px 2px rgba(0, 0, 0, 0.3));\n",
              "      fill: #FFFFFF;\n",
              "    }\n",
              "  </style>\n",
              "\n",
              "      <script>\n",
              "        const buttonEl =\n",
              "          document.querySelector('#df-01b7b4fc-20d6-444f-a5c3-b8ad0848e490 button.colab-df-convert');\n",
              "        buttonEl.style.display =\n",
              "          google.colab.kernel.accessAllowed ? 'block' : 'none';\n",
              "\n",
              "        async function convertToInteractive(key) {\n",
              "          const element = document.querySelector('#df-01b7b4fc-20d6-444f-a5c3-b8ad0848e490');\n",
              "          const dataTable =\n",
              "            await google.colab.kernel.invokeFunction('convertToInteractive',\n",
              "                                                     [key], {});\n",
              "          if (!dataTable) return;\n",
              "\n",
              "          const docLinkHtml = 'Like what you see? Visit the ' +\n",
              "            '<a target=\"_blank\" href=https://colab.research.google.com/notebooks/data_table.ipynb>data table notebook</a>'\n",
              "            + ' to learn more about interactive tables.';\n",
              "          element.innerHTML = '';\n",
              "          dataTable['output_type'] = 'display_data';\n",
              "          await google.colab.output.renderOutput(dataTable, element);\n",
              "          const docLink = document.createElement('div');\n",
              "          docLink.innerHTML = docLinkHtml;\n",
              "          element.appendChild(docLink);\n",
              "        }\n",
              "      </script>\n",
              "    </div>\n",
              "  </div>\n",
              "  "
            ]
          },
          "metadata": {},
          "execution_count": 159
        }
      ],
      "source": [
        "data=pd.read_csv(\"world-oil-supply-and-demand-1971-2019.csv\",skiprows=3)\n",
        "data.head()"
      ]
    },
    {
      "cell_type": "code",
      "execution_count": 160,
      "id": "12rzo416ocgD",
      "metadata": {
        "colab": {
          "base_uri": "https://localhost:8080/"
        },
        "id": "12rzo416ocgD",
        "outputId": "32c752c4-4a0b-4b69-90bd-6aa3aa9950ea"
      },
      "outputs": [
        {
          "output_type": "stream",
          "name": "stdout",
          "text": [
            "0    1971\n",
            "1    1972\n",
            "2    1973\n",
            "3    1974\n",
            "4    1975\n",
            "5    1976\n",
            "6    1977\n",
            "7    1978\n",
            "8    1979\n",
            "9    1980\n",
            "Name: Year, dtype: int64\n",
            "[1971 1972 1973 1974 1975 1976 1977 1978 1979 1980 1981 1982 1983 1984\n",
            " 1985 1986 1987 1988 1989 1990 1991 1992 1993 1994 1995 1996 1997 1998\n",
            " 1999 2000 2001 2002 2003 2004 2005 2006 2007 2008 2009 2010 2011 2012\n",
            " 2013 2014 2015 2016 2017 2018 2019]\n"
          ]
        }
      ],
      "source": [
        "print(data['Year'].head(10))\n",
        "print(data['Year'].unique())"
      ]
    },
    {
      "cell_type": "code",
      "execution_count": 161,
      "id": "Cgyq6CQlocgD",
      "metadata": {
        "colab": {
          "base_uri": "https://localhost:8080/"
        },
        "id": "Cgyq6CQlocgD",
        "outputId": "10e7125b-73c8-4e2e-910b-c01d02153d05"
      },
      "outputs": [
        {
          "output_type": "stream",
          "name": "stdout",
          "text": [
            "168248.488\n"
          ]
        }
      ],
      "source": [
        "print(data[\"Total oil demand\"].sum())"
      ]
    },
    {
      "cell_type": "markdown",
      "id": "kho2YYgiocgE",
      "metadata": {
        "id": "kho2YYgiocgE"
      },
      "source": [
        "###  Plotting Production yearwise"
      ]
    },
    {
      "cell_type": "code",
      "execution_count": 162,
      "id": "Uku2lS0jocgE",
      "metadata": {
        "colab": {
          "base_uri": "https://localhost:8080/",
          "height": 404
        },
        "id": "Uku2lS0jocgE",
        "outputId": "33dce81c-8995-4694-c593-77fd622f5ec0"
      },
      "outputs": [
        {
          "output_type": "display_data",
          "data": {
            "text/plain": [
              "<Figure size 576x432 with 1 Axes>"
            ],
            "image/png": "[encoded data removed]"
          },
          "metadata": {
            "needs_background": "light"
          }
        }
      ],
      "source": [
        "x=data[\"Year\"]\n",
        "y=data[\"Crude oil and NGL production\"]\n",
        "\n",
        "plt.figure(figsize=(8, 6))\n",
        "plt.bar(x,y)\n",
        "\n",
        "plt.xlabel(\"Year\")\n",
        "plt.ylabel(\"Crude oil and NGL production\")\n",
        "plt.title(\"Crude oil and NGL production By Year\")\n",
        "plt.show()"
      ]
    },
    {
      "cell_type": "code",
      "execution_count": 163,
      "id": "MNoGeEGwocgE",
      "metadata": {
        "colab": {
          "base_uri": "https://localhost:8080/",
          "height": 404
        },
        "id": "MNoGeEGwocgE",
        "outputId": "2736fefb-194b-4de0-a3e3-a6b1e98e41d5"
      },
      "outputs": [
        {
          "output_type": "display_data",
          "data": {
            "text/plain": [
              "<Figure size 576x432 with 1 Axes>"
            ],
            "image/png": "[encoded data removed]"
          },
          "metadata": {
            "needs_background": "light"
          }
        }
      ],
      "source": [
        "x=data[\"Year\"]\n",
        "y=data[\"Total oil demand\"]\n",
        "\n",
        "plt.figure(figsize=(8, 6))\n",
        "plt.plot(x,y)\n",
        "\n",
        "plt.xlabel(\"Year\")\n",
        "plt.ylabel(\"Total oil demand\")\n",
        "plt.title(\"Total oil demand BY Year\")\n",
        "plt.show()"
      ]
    },
    {
      "cell_type": "code",
      "execution_count": 164,
      "id": "Nep7XOo0ocgF",
      "metadata": {
        "id": "Nep7XOo0ocgF"
      },
      "outputs": [],
      "source": [
        "#  Brent Oil Prices Dataset"
      ]
    },
    {
      "cell_type": "code",
      "execution_count": 165,
      "id": "UT1x88uNocgF",
      "metadata": {
        "colab": {
          "base_uri": "https://localhost:8080/",
          "height": 206
        },
        "id": "UT1x88uNocgF",
        "outputId": "d9e14484-cbb5-4688-a599-aa53a4103701"
      },
      "outputs": [
        {
          "output_type": "execute_result",
          "data": {
            "text/plain": [
              "        Date  Price\n",
              "0  20-May-87  18.63\n",
              "1  21-May-87  18.45\n",
              "2  22-May-87  18.55\n",
              "3  25-May-87  18.60\n",
              "4  26-May-87  18.63"
            ],
            "text/html": [
              "\n",
              "  <div id=\"df-c0780f13-4873-45af-91c3-44fd3cc40062\">\n",
              "    <div class=\"colab-df-container\">\n",
              "      <div>\n",
              "<style scoped>\n",
              "    .dataframe tbody tr th:only-of-type {\n",
              "        vertical-align: middle;\n",
              "    }\n",
              "\n",
              "    .dataframe tbody tr th {\n",
              "        vertical-align: top;\n",
              "    }\n",
              "\n",
              "    .dataframe thead th {\n",
              "        text-align: right;\n",
              "    }\n",
              "</style>\n",
              "<table border=\"1\" class=\"dataframe\">\n",
              "  <thead>\n",
              "    <tr style=\"text-align: right;\">\n",
              "      <th></th>\n",
              "      <th>Date</th>\n",
              "      <th>Price</th>\n",
              "    </tr>\n",
              "  </thead>\n",
              "  <tbody>\n",
              "    <tr>\n",
              "      <th>0</th>\n",
              "      <td>20-May-87</td>\n",
              "      <td>18.63</td>\n",
              "    </tr>\n",
              "    <tr>\n",
              "      <th>1</th>\n",
              "      <td>21-May-87</td>\n",
              "      <td>18.45</td>\n",
              "    </tr>\n",
              "    <tr>\n",
              "      <th>2</th>\n",
              "      <td>22-May-87</td>\n",
              "      <td>18.55</td>\n",
              "    </tr>\n",
              "    <tr>\n",
              "      <th>3</th>\n",
              "      <td>25-May-87</td>\n",
              "      <td>18.60</td>\n",
              "    </tr>\n",
              "    <tr>\n",
              "      <th>4</th>\n",
              "      <td>26-May-87</td>\n",
              "      <td>18.63</td>\n",
              "    </tr>\n",
              "  </tbody>\n",
              "</table>\n",
              "</div>\n",
              "      <button class=\"colab-df-convert\" onclick=\"convertToInteractive('df-c0780f13-4873-45af-91c3-44fd3cc40062')\"\n",
              "              title=\"Convert this dataframe to an interactive table.\"\n",
              "              style=\"display:none;\">\n",
              "        \n",
              "  <svg xmlns=\"http://www.w3.org/2000/svg\" height=\"24px\"viewBox=\"0 0 24 24\"\n",
              "       width=\"24px\">\n",
              "    <path d=\"M0 0h24v24H0V0z\" fill=\"none\"/>\n",
              "    <path d=\"M18.56 5.44l.94 2.06.94-2.06 2.06-.94-2.06-.94-.94-2.06-.94 2.06-2.06.94zm-11 1L8.5 8.5l.94-2.06 2.06-.94-2.06-.94L8.5 2.5l-.94 2.06-2.06.94zm10 10l.94 2.06.94-2.06 2.06-.94-2.06-.94-.94-2.06-.94 2.06-2.06.94z\"/><path d=\"M17.41 7.96l-1.37-1.37c-.4-.4-.92-.59-1.43-.59-.52 0-1.04.2-1.43.59L10.3 9.45l-7.72 7.72c-.78.78-.78 2.05 0 2.83L4 21.41c.39.39.9.59 1.41.59.51 0 1.02-.2 1.41-.59l7.78-7.78 2.81-2.81c.8-.78.8-2.07 0-2.86zM5.41 20L4 18.59l7.72-7.72 1.47 1.35L5.41 20z\"/>\n",
              "  </svg>\n",
              "      </button>\n",
              "      \n",
              "  <style>\n",
              "    .colab-df-container {\n",
              "      display:flex;\n",
              "      flex-wrap:wrap;\n",
              "      gap: 12px;\n",
              "    }\n",
              "\n",
              "    .colab-df-convert {\n",
              "      background-color: #E8F0FE;\n",
              "      border: none;\n",
              "      border-radius: 50%;\n",
              "      cursor: pointer;\n",
              "      display: none;\n",
              "      fill: #1967D2;\n",
              "      height: 32px;\n",
              "      padding: 0 0 0 0;\n",
              "      width: 32px;\n",
              "    }\n",
              "\n",
              "    .colab-df-convert:hover {\n",
              "      background-color: #E2EBFA;\n",
              "      box-shadow: 0px 1px 2px rgba(60, 64, 67, 0.3), 0px 1px 3px 1px rgba(60, 64, 67, 0.15);\n",
              "      fill: #174EA6;\n",
              "    }\n",
              "\n",
              "    [theme=dark] .colab-df-convert {\n",
              "      background-color: #3B4455;\n",
              "      fill: #D2E3FC;\n",
              "    }\n",
              "\n",
              "    [theme=dark] .colab-df-convert:hover {\n",
              "      background-color: #434B5C;\n",
              "      box-shadow: 0px 1px 3px 1px rgba(0, 0, 0, 0.15);\n",
              "      filter: drop-shadow(0px 1px 2px rgba(0, 0, 0, 0.3));\n",
              "      fill: #FFFFFF;\n",
              "    }\n",
              "  </style>\n",
              "\n",
              "      <script>\n",
              "        const buttonEl =\n",
              "          document.querySelector('#df-c0780f13-4873-45af-91c3-44fd3cc40062 button.colab-df-convert');\n",
              "        buttonEl.style.display =\n",
              "          google.colab.kernel.accessAllowed ? 'block' : 'none';\n",
              "\n",
              "        async function convertToInteractive(key) {\n",
              "          const element = document.querySelector('#df-c0780f13-4873-45af-91c3-44fd3cc40062');\n",
              "          const dataTable =\n",
              "            await google.colab.kernel.invokeFunction('convertToInteractive',\n",
              "                                                     [key], {});\n",
              "          if (!dataTable) return;\n",
              "\n",
              "          const docLinkHtml = 'Like what you see? Visit the ' +\n",
              "            '<a target=\"_blank\" href=https://colab.research.google.com/notebooks/data_table.ipynb>data table notebook</a>'\n",
              "            + ' to learn more about interactive tables.';\n",
              "          element.innerHTML = '';\n",
              "          dataTable['output_type'] = 'display_data';\n",
              "          await google.colab.output.renderOutput(dataTable, element);\n",
              "          const docLink = document.createElement('div');\n",
              "          docLink.innerHTML = docLinkHtml;\n",
              "          element.appendChild(docLink);\n",
              "        }\n",
              "      </script>\n",
              "    </div>\n",
              "  </div>\n",
              "  "
            ]
          },
          "metadata": {},
          "execution_count": 165
        }
      ],
      "source": [
        "df = pd.read_csv(\"BrentOilPrices.csv\")\n",
        "df.head()"
      ]
    },
    {
      "cell_type": "code",
      "execution_count": 166,
      "id": "wbwD6SjUocgF",
      "metadata": {
        "id": "wbwD6SjUocgF",
        "outputId": "6f3448e3-8c34-4929-ae4b-0795dbc34e6f",
        "colab": {
          "base_uri": "https://localhost:8080/"
        }
      },
      "outputs": [
        {
          "output_type": "stream",
          "name": "stdout",
          "text": [
            "        Date  Price\n",
            "0 1987-05-20  18.63\n",
            "1 1987-05-21  18.45\n",
            "2 1987-05-22  18.55\n",
            "3 1987-05-25  18.60\n",
            "4 1987-05-26  18.63\n"
          ]
        }
      ],
      "source": [
        "df['Date'] = pd.to_datetime(df['Date'])\n",
        "print(df.head())"
      ]
    },
    {
      "cell_type": "code",
      "execution_count": 167,
      "id": "HxlRskyXocgG",
      "metadata": {
        "id": "HxlRskyXocgG",
        "outputId": "b87c6766-46c3-4392-c597-6dd602b71601",
        "colab": {
          "base_uri": "https://localhost:8080/",
          "height": 206
        }
      },
      "outputs": [
        {
          "output_type": "execute_result",
          "data": {
            "text/plain": [
              "   Price\n",
              "0  18.63\n",
              "1  18.45\n",
              "2  18.55\n",
              "3  18.60\n",
              "4  18.63"
            ],
            "text/html": [
              "\n",
              "  <div id=\"df-12ab065a-f735-4758-a4de-841281a16d3e\">\n",
              "    <div class=\"colab-df-container\">\n",
              "      <div>\n",
              "<style scoped>\n",
              "    .dataframe tbody tr th:only-of-type {\n",
              "        vertical-align: middle;\n",
              "    }\n",
              "\n",
              "    .dataframe tbody tr th {\n",
              "        vertical-align: top;\n",
              "    }\n",
              "\n",
              "    .dataframe thead th {\n",
              "        text-align: right;\n",
              "    }\n",
              "</style>\n",
              "<table border=\"1\" class=\"dataframe\">\n",
              "  <thead>\n",
              "    <tr style=\"text-align: right;\">\n",
              "      <th></th>\n",
              "      <th>Price</th>\n",
              "    </tr>\n",
              "  </thead>\n",
              "  <tbody>\n",
              "    <tr>\n",
              "      <th>0</th>\n",
              "      <td>18.63</td>\n",
              "    </tr>\n",
              "    <tr>\n",
              "      <th>1</th>\n",
              "      <td>18.45</td>\n",
              "    </tr>\n",
              "    <tr>\n",
              "      <th>2</th>\n",
              "      <td>18.55</td>\n",
              "    </tr>\n",
              "    <tr>\n",
              "      <th>3</th>\n",
              "      <td>18.60</td>\n",
              "    </tr>\n",
              "    <tr>\n",
              "      <th>4</th>\n",
              "      <td>18.63</td>\n",
              "    </tr>\n",
              "  </tbody>\n",
              "</table>\n",
              "</div>\n",
              "      <button class=\"colab-df-convert\" onclick=\"convertToInteractive('df-12ab065a-f735-4758-a4de-841281a16d3e')\"\n",
              "              title=\"Convert this dataframe to an interactive table.\"\n",
              "              style=\"display:none;\">\n",
              "        \n",
              "  <svg xmlns=\"http://www.w3.org/2000/svg\" height=\"24px\"viewBox=\"0 0 24 24\"\n",
              "       width=\"24px\">\n",
              "    <path d=\"M0 0h24v24H0V0z\" fill=\"none\"/>\n",
              "    <path d=\"M18.56 5.44l.94 2.06.94-2.06 2.06-.94-2.06-.94-.94-2.06-.94 2.06-2.06.94zm-11 1L8.5 8.5l.94-2.06 2.06-.94-2.06-.94L8.5 2.5l-.94 2.06-2.06.94zm10 10l.94 2.06.94-2.06 2.06-.94-2.06-.94-.94-2.06-.94 2.06-2.06.94z\"/><path d=\"M17.41 7.96l-1.37-1.37c-.4-.4-.92-.59-1.43-.59-.52 0-1.04.2-1.43.59L10.3 9.45l-7.72 7.72c-.78.78-.78 2.05 0 2.83L4 21.41c.39.39.9.59 1.41.59.51 0 1.02-.2 1.41-.59l7.78-7.78 2.81-2.81c.8-.78.8-2.07 0-2.86zM5.41 20L4 18.59l7.72-7.72 1.47 1.35L5.41 20z\"/>\n",
              "  </svg>\n",
              "      </button>\n",
              "      \n",
              "  <style>\n",
              "    .colab-df-container {\n",
              "      display:flex;\n",
              "      flex-wrap:wrap;\n",
              "      gap: 12px;\n",
              "    }\n",
              "\n",
              "    .colab-df-convert {\n",
              "      background-color: #E8F0FE;\n",
              "      border: none;\n",
              "      border-radius: 50%;\n",
              "      cursor: pointer;\n",
              "      display: none;\n",
              "      fill: #1967D2;\n",
              "      height: 32px;\n",
              "      padding: 0 0 0 0;\n",
              "      width: 32px;\n",
              "    }\n",
              "\n",
              "    .colab-df-convert:hover {\n",
              "      background-color: #E2EBFA;\n",
              "      box-shadow: 0px 1px 2px rgba(60, 64, 67, 0.3), 0px 1px 3px 1px rgba(60, 64, 67, 0.15);\n",
              "      fill: #174EA6;\n",
              "    }\n",
              "\n",
              "    [theme=dark] .colab-df-convert {\n",
              "      background-color: #3B4455;\n",
              "      fill: #D2E3FC;\n",
              "    }\n",
              "\n",
              "    [theme=dark] .colab-df-convert:hover {\n",
              "      background-color: #434B5C;\n",
              "      box-shadow: 0px 1px 3px 1px rgba(0, 0, 0, 0.15);\n",
              "      filter: drop-shadow(0px 1px 2px rgba(0, 0, 0, 0.3));\n",
              "      fill: #FFFFFF;\n",
              "    }\n",
              "  </style>\n",
              "\n",
              "      <script>\n",
              "        const buttonEl =\n",
              "          document.querySelector('#df-12ab065a-f735-4758-a4de-841281a16d3e button.colab-df-convert');\n",
              "        buttonEl.style.display =\n",
              "          google.colab.kernel.accessAllowed ? 'block' : 'none';\n",
              "\n",
              "        async function convertToInteractive(key) {\n",
              "          const element = document.querySelector('#df-12ab065a-f735-4758-a4de-841281a16d3e');\n",
              "          const dataTable =\n",
              "            await google.colab.kernel.invokeFunction('convertToInteractive',\n",
              "                                                     [key], {});\n",
              "          if (!dataTable) return;\n",
              "\n",
              "          const docLinkHtml = 'Like what you see? Visit the ' +\n",
              "            '<a target=\"_blank\" href=https://colab.research.google.com/notebooks/data_table.ipynb>data table notebook</a>'\n",
              "            + ' to learn more about interactive tables.';\n",
              "          element.innerHTML = '';\n",
              "          dataTable['output_type'] = 'display_data';\n",
              "          await google.colab.output.renderOutput(dataTable, element);\n",
              "          const docLink = document.createElement('div');\n",
              "          docLink.innerHTML = docLinkHtml;\n",
              "          element.appendChild(docLink);\n",
              "        }\n",
              "      </script>\n",
              "    </div>\n",
              "  </div>\n",
              "  "
            ]
          },
          "metadata": {},
          "execution_count": 167
        }
      ],
      "source": [
        "df[['Price']].head()"
      ]
    },
    {
      "cell_type": "code",
      "execution_count": 168,
      "id": "KjDfL6UPocgG",
      "metadata": {
        "id": "KjDfL6UPocgG",
        "outputId": "5e9b0db7-572f-4b75-8c2c-d49bcbcc6041",
        "colab": {
          "base_uri": "https://localhost:8080/",
          "height": 655
        }
      },
      "outputs": [
        {
          "output_type": "display_data",
          "data": {
            "text/plain": [
              "<Figure size 1152x648 with 1 Axes>"
            ],
            "image/png": "[encoded data removed]"
          },
          "metadata": {
            "needs_background": "light"
          }
        }
      ],
      "source": [
        "plt.figure(figsize=(16,9))\n",
        "plt.plot(df[['Price']])\n",
        "plt.axhline(linestyle='dotted', color='r')\n",
        "plt.xticks(range(0,df.shape[0],1000),df['Date'].loc[::1000],rotation=90)\n",
        "plt.xlabel('Date', fontsize=20)\n",
        "plt.ylabel('Oil Price (USD)', fontsize=20)\n",
        "plt.show()"
      ]
    },
    {
      "cell_type": "code",
      "execution_count": 168,
      "id": "-FmLJ6saocgG",
      "metadata": {
        "id": "-FmLJ6saocgG"
      },
      "outputs": [],
      "source": [
        ""
      ]
    }
  ],
  "metadata": {
    "colab": {
      "name": "Data Analytics.ipynb",
      "provenance": [],
      "include_colab_link": true
    },
    "kernelspec": {
      "display_name": "Python 3 (ipykernel)",
      "language": "python",
      "name": "python3"
    },
    "language_info": {
      "codemirror_mode": {
        "name": "ipython",
        "version": 3
      },
      "file_extension": ".py",
      "mimetype": "text/x-python",
      "name": "python",
      "nbconvert_exporter": "python",
      "pygments_lexer": "ipython3",
      "version": "3.8.10"
    }
  },
  "nbformat": 4,
  "nbformat_minor": 5
}