{
  "nbformat": 4,
  "nbformat_minor": 5,
  "metadata": {
    "kernelspec": {
      "display_name": "Python 3",
      "language": "python",
      "name": "python3"
    },
    "language_info": {
      "codemirror_mode": {
        "name": "ipython",
        "version": 3
      },
      "file_extension": ".py",
      "mimetype": "text/x-python",
      "name": "python",
      "nbconvert_exporter": "python",
      "pygments_lexer": "ipython3",
      "version": "3.8.3"
    },
    "colab": {
      "name": "Oil and Natural Gas Price Analysis_basic.ipynb",
      "provenance": [],
      "include_colab_link": true
    }
  },
  "cells": [
    {
      "cell_type": "markdown",
      "metadata": {
        "id": "view-in-github",
        "colab_type": "text"
      },
      "source": [
        "<a href=\"https://colab.research.google.com/github/Cilans-Systems/PythonTraining/blob/main/S4/Oil_and_Natural_Gas_Price_Analysis_basic.ipynb\" target=\"_parent\"><img src=\"https://colab.research.google.com/assets/colab-badge.svg\" alt=\"Open In Colab\"/></a>"
      ]
    },
    {
      "cell_type": "markdown",
      "metadata": {
        "id": "iKqARs2fwSNc"
      },
      "source": [
        "# Oil & Gas Price Analysis:  Problem Statement:<br/>\n",
        "Predicting daily oil and gas prices is not an easy job. So many factors like economic growth or decline, geopolitical event, and climate conditions.<br/>\n",
        "The first step is to visualize oil price <br/>\n",
        "The second step is to visualize the gas price <br/>\n",
        "Third step is to understand the correlation between oil and gas price.<br/>\n",
        "\n",
        "\n",
        "1.) Import the required libraries\n",
        "2.) Import the dataset and review the data frame\n",
        "3.) Plotting a general graph from the dataset\n",
        "4.) Histograms and daily price distribution (pct.change)\n",
        "\n",
        "source ref:  Medium.com\n"
      ],
      "id": "iKqARs2fwSNc"
    },
    {
      "cell_type": "code",
      "metadata": {
        "id": "9qNtUbQKwTPC"
      },
      "source": [
        "!git clone https://github.com/Cilans-Systems/PythonTraining.git\n",
        "import os\n",
        "os.chdir('/content/PythonTraining/S4')"
      ],
      "id": "9qNtUbQKwTPC",
      "execution_count": null,
      "outputs": []
    },
    {
      "cell_type": "markdown",
      "metadata": {
        "id": "uwO0YibGwSNh"
      },
      "source": [
        "### About Dataset:\n",
        "Oil price dataset contains Europe Brent Spot Price FOB and the gas price dataset contains Henry Hub Natural Gas Spot Price (Dollars per Million Btu)."
      ],
      "id": "uwO0YibGwSNh"
    },
    {
      "cell_type": "markdown",
      "metadata": {
        "id": "zi7myUGhwSNi"
      },
      "source": [
        "###  Following kind of advanced Analysis can be achived \n"
      ],
      "id": "zi7myUGhwSNi"
    },
    {
      "cell_type": "markdown",
      "metadata": {
        "id": "w0_1_anzwSNj"
      },
      "source": [
        "Oil & Gas Price Analysis:<br/>\n",
        "1.) Import the required libraries<br/>\n",
        "2.) Import the dataset and review the data frame<br/>\n",
        "3.) Plotting a general graph from the dataset<br/>\n",
        "4.) Histograms and daily price distribution (pct.change)<br/>\n",
        "5.) Daily percentage change distribution (+-%1, +-%5 change)<br/>\n",
        "6.) Extreme and normal condition probabilities<br/>\n",
        "7.) Investigating Extremes — Minimum and Maximum values and their position<br/>\n",
        "8.) Add week, month, year columns<br/>\n",
        "9.) Pivot tables and group the data according to columns<br/>"
      ],
      "id": "w0_1_anzwSNj"
    },
    {
      "cell_type": "code",
      "metadata": {
        "id": "DGCcIXj0wSNk"
      },
      "source": [
        "import numpy as np\n",
        "import pandas as pd\n",
        "import matplotlib.pyplot as plt"
      ],
      "id": "DGCcIXj0wSNk",
      "execution_count": null,
      "outputs": []
    },
    {
      "cell_type": "markdown",
      "metadata": {
        "id": "URN253ywwSNk"
      },
      "source": [
        "### Read an Excel file into a pandas DataFrame."
      ],
      "id": "URN253ywwSNk"
    },
    {
      "cell_type": "code",
      "metadata": {
        "id": "6itPuO6swSNl"
      },
      "source": [
        "brent_oil_price=pd.read_excel(\"RBRTEd.xls\",sheet_name=\"Data 1\",names=[\"Date\",\"Brent_Price\"],skiprows=2455)\n",
        "WTI_oil_price=pd.read_excel(\"RWTCd.xls\",sheet_name=\"Data 1\",names=[\"Date\",\"WTI_Price\"],skiprows=2801)\n",
        "Gas_price=pd.read_excel(\"RNGWHHDd.xls\",sheet_name=\"Data 1\",names=[\"Date\",\"Henry_Hub_Price\"],skiprows=2)"
      ],
      "id": "6itPuO6swSNl",
      "execution_count": null,
      "outputs": []
    },
    {
      "cell_type": "markdown",
      "metadata": {
        "id": "p-6-dHhDwSNm"
      },
      "source": [
        "###  Data Display"
      ],
      "id": "p-6-dHhDwSNm"
    },
    {
      "cell_type": "code",
      "metadata": {
        "id": "dj4BsSgCwSNn",
        "outputId": "7d08519a-7d9a-4b58-97e1-232b6a806b0f"
      },
      "source": [
        "brent_oil_price.head()"
      ],
      "id": "dj4BsSgCwSNn",
      "execution_count": null,
      "outputs": [
        {
          "output_type": "execute_result",
          "data": {
            "text/html": [
              "<div>\n",
              "<style scoped>\n",
              "    .dataframe tbody tr th:only-of-type {\n",
              "        vertical-align: middle;\n",
              "    }\n",
              "\n",
              "    .dataframe tbody tr th {\n",
              "        vertical-align: top;\n",
              "    }\n",
              "\n",
              "    .dataframe thead th {\n",
              "        text-align: right;\n",
              "    }\n",
              "</style>\n",
              "<table border=\"1\" class=\"dataframe\">\n",
              "  <thead>\n",
              "    <tr style=\"text-align: right;\">\n",
              "      <th></th>\n",
              "      <th>Date</th>\n",
              "      <th>Brent_Price</th>\n",
              "    </tr>\n",
              "  </thead>\n",
              "  <tbody>\n",
              "    <tr>\n",
              "      <th>0</th>\n",
              "      <td>1997-01-07</td>\n",
              "      <td>24.76</td>\n",
              "    </tr>\n",
              "    <tr>\n",
              "      <th>1</th>\n",
              "      <td>1997-01-08</td>\n",
              "      <td>24.78</td>\n",
              "    </tr>\n",
              "    <tr>\n",
              "      <th>2</th>\n",
              "      <td>1997-01-09</td>\n",
              "      <td>24.83</td>\n",
              "    </tr>\n",
              "    <tr>\n",
              "      <th>3</th>\n",
              "      <td>1997-01-10</td>\n",
              "      <td>24.22</td>\n",
              "    </tr>\n",
              "    <tr>\n",
              "      <th>4</th>\n",
              "      <td>1997-01-13</td>\n",
              "      <td>23.41</td>\n",
              "    </tr>\n",
              "  </tbody>\n",
              "</table>\n",
              "</div>"
            ],
            "text/plain": [
              "        Date  Brent_Price\n",
              "0 1997-01-07        24.76\n",
              "1 1997-01-08        24.78\n",
              "2 1997-01-09        24.83\n",
              "3 1997-01-10        24.22\n",
              "4 1997-01-13        23.41"
            ]
          },
          "metadata": {
            "tags": []
          },
          "execution_count": 3
        }
      ]
    },
    {
      "cell_type": "code",
      "metadata": {
        "id": "RxDYfDLHwSNo",
        "outputId": "728ba87c-128b-4f9a-90d6-0d197d86be17"
      },
      "source": [
        "WTI_oil_price.head()"
      ],
      "id": "RxDYfDLHwSNo",
      "execution_count": null,
      "outputs": [
        {
          "output_type": "execute_result",
          "data": {
            "text/html": [
              "<div>\n",
              "<style scoped>\n",
              "    .dataframe tbody tr th:only-of-type {\n",
              "        vertical-align: middle;\n",
              "    }\n",
              "\n",
              "    .dataframe tbody tr th {\n",
              "        vertical-align: top;\n",
              "    }\n",
              "\n",
              "    .dataframe thead th {\n",
              "        text-align: right;\n",
              "    }\n",
              "</style>\n",
              "<table border=\"1\" class=\"dataframe\">\n",
              "  <thead>\n",
              "    <tr style=\"text-align: right;\">\n",
              "      <th></th>\n",
              "      <th>Date</th>\n",
              "      <th>WTI_Price</th>\n",
              "    </tr>\n",
              "  </thead>\n",
              "  <tbody>\n",
              "    <tr>\n",
              "      <th>0</th>\n",
              "      <td>1997-01-07</td>\n",
              "      <td>26.25</td>\n",
              "    </tr>\n",
              "    <tr>\n",
              "      <th>1</th>\n",
              "      <td>1997-01-08</td>\n",
              "      <td>26.55</td>\n",
              "    </tr>\n",
              "    <tr>\n",
              "      <th>2</th>\n",
              "      <td>1997-01-09</td>\n",
              "      <td>26.30</td>\n",
              "    </tr>\n",
              "    <tr>\n",
              "      <th>3</th>\n",
              "      <td>1997-01-10</td>\n",
              "      <td>26.15</td>\n",
              "    </tr>\n",
              "    <tr>\n",
              "      <th>4</th>\n",
              "      <td>1997-01-13</td>\n",
              "      <td>25.20</td>\n",
              "    </tr>\n",
              "  </tbody>\n",
              "</table>\n",
              "</div>"
            ],
            "text/plain": [
              "        Date  WTI_Price\n",
              "0 1997-01-07      26.25\n",
              "1 1997-01-08      26.55\n",
              "2 1997-01-09      26.30\n",
              "3 1997-01-10      26.15\n",
              "4 1997-01-13      25.20"
            ]
          },
          "metadata": {
            "tags": []
          },
          "execution_count": 4
        }
      ]
    },
    {
      "cell_type": "code",
      "metadata": {
        "id": "VChkqhUbwSNp",
        "outputId": "f625855a-6376-44c3-e473-83c954437a62"
      },
      "source": [
        "Gas_price.head()"
      ],
      "id": "VChkqhUbwSNp",
      "execution_count": null,
      "outputs": [
        {
          "output_type": "execute_result",
          "data": {
            "text/html": [
              "<div>\n",
              "<style scoped>\n",
              "    .dataframe tbody tr th:only-of-type {\n",
              "        vertical-align: middle;\n",
              "    }\n",
              "\n",
              "    .dataframe tbody tr th {\n",
              "        vertical-align: top;\n",
              "    }\n",
              "\n",
              "    .dataframe thead th {\n",
              "        text-align: right;\n",
              "    }\n",
              "</style>\n",
              "<table border=\"1\" class=\"dataframe\">\n",
              "  <thead>\n",
              "    <tr style=\"text-align: right;\">\n",
              "      <th></th>\n",
              "      <th>Date</th>\n",
              "      <th>Henry_Hub_Price</th>\n",
              "    </tr>\n",
              "  </thead>\n",
              "  <tbody>\n",
              "    <tr>\n",
              "      <th>0</th>\n",
              "      <td>1997-01-07</td>\n",
              "      <td>3.82</td>\n",
              "    </tr>\n",
              "    <tr>\n",
              "      <th>1</th>\n",
              "      <td>1997-01-08</td>\n",
              "      <td>3.80</td>\n",
              "    </tr>\n",
              "    <tr>\n",
              "      <th>2</th>\n",
              "      <td>1997-01-09</td>\n",
              "      <td>3.61</td>\n",
              "    </tr>\n",
              "    <tr>\n",
              "      <th>3</th>\n",
              "      <td>1997-01-10</td>\n",
              "      <td>3.92</td>\n",
              "    </tr>\n",
              "    <tr>\n",
              "      <th>4</th>\n",
              "      <td>1997-01-13</td>\n",
              "      <td>4.00</td>\n",
              "    </tr>\n",
              "  </tbody>\n",
              "</table>\n",
              "</div>"
            ],
            "text/plain": [
              "        Date  Henry_Hub_Price\n",
              "0 1997-01-07             3.82\n",
              "1 1997-01-08             3.80\n",
              "2 1997-01-09             3.61\n",
              "3 1997-01-10             3.92\n",
              "4 1997-01-13             4.00"
            ]
          },
          "metadata": {
            "tags": []
          },
          "execution_count": 5
        }
      ]
    },
    {
      "cell_type": "code",
      "metadata": {
        "id": "dp-bSj42wSNp",
        "outputId": "f8793b3c-085b-499e-b762-b869435fdac0"
      },
      "source": [
        "# check Row and Column\n",
        "print(brent_oil_price.shape)\n",
        "print(WTI_oil_price.shape)\n",
        "print(Gas_price.shape)"
      ],
      "id": "dp-bSj42wSNp",
      "execution_count": null,
      "outputs": [
        {
          "output_type": "stream",
          "text": [
            "(6195, 2)\n",
            "(6134, 2)\n",
            "(6148, 2)\n"
          ],
          "name": "stdout"
        }
      ]
    },
    {
      "cell_type": "markdown",
      "metadata": {
        "id": "hCB_iO7NwSNq"
      },
      "source": [
        "#### Check Null Value and fill"
      ],
      "id": "hCB_iO7NwSNq"
    },
    {
      "cell_type": "code",
      "metadata": {
        "id": "OEWDHQxdwSNq",
        "outputId": "d94c6131-ad9f-4538-946f-5af1a0ea0e1b"
      },
      "source": [
        "brent_oil_price.isnull().sum()"
      ],
      "id": "OEWDHQxdwSNq",
      "execution_count": null,
      "outputs": [
        {
          "output_type": "execute_result",
          "data": {
            "text/plain": [
              "Date           0\n",
              "Brent_Price    0\n",
              "dtype: int64"
            ]
          },
          "metadata": {
            "tags": []
          },
          "execution_count": 7
        }
      ]
    },
    {
      "cell_type": "code",
      "metadata": {
        "id": "Vg9imiUfwSNr",
        "outputId": "038a3c40-4bad-4778-b4b8-a83ae42847ad"
      },
      "source": [
        "WTI_oil_price.isnull().sum()"
      ],
      "id": "Vg9imiUfwSNr",
      "execution_count": null,
      "outputs": [
        {
          "output_type": "execute_result",
          "data": {
            "text/plain": [
              "Date         0\n",
              "WTI_Price    0\n",
              "dtype: int64"
            ]
          },
          "metadata": {
            "tags": []
          },
          "execution_count": 8
        }
      ]
    },
    {
      "cell_type": "code",
      "metadata": {
        "id": "zKamIavdwSNr",
        "outputId": "aaf73643-e613-4509-fa30-eabb871582ec"
      },
      "source": [
        "Gas_price.isnull().sum()"
      ],
      "id": "zKamIavdwSNr",
      "execution_count": null,
      "outputs": [
        {
          "output_type": "execute_result",
          "data": {
            "text/plain": [
              "Date               0\n",
              "Henry_Hub_Price    1\n",
              "dtype: int64"
            ]
          },
          "metadata": {
            "tags": []
          },
          "execution_count": 9
        }
      ]
    },
    {
      "cell_type": "markdown",
      "metadata": {
        "id": "QG4gnElVwSNs"
      },
      "source": [
        "## Data cleaning"
      ],
      "id": "QG4gnElVwSNs"
    },
    {
      "cell_type": "code",
      "metadata": {
        "id": "VdP95rGIwSNs",
        "outputId": "d3c6a4ed-a8f9-459f-a403-68660fd52966"
      },
      "source": [
        "print(Gas_price[Gas_price[\"Henry_Hub_Price\"].isnull()])"
      ],
      "id": "VdP95rGIwSNs",
      "execution_count": null,
      "outputs": [
        {
          "output_type": "stream",
          "text": [
            "           Date  Henry_Hub_Price\n",
            "5284 2018-01-05              NaN\n"
          ],
          "name": "stdout"
        }
      ]
    },
    {
      "cell_type": "code",
      "metadata": {
        "id": "BSqpS_aAwSNs"
      },
      "source": [
        "Gas_price.fillna(method=\"ffill\",inplace=True)\n"
      ],
      "id": "BSqpS_aAwSNs",
      "execution_count": null,
      "outputs": []
    },
    {
      "cell_type": "code",
      "metadata": {
        "id": "7rQRgedFwSNt",
        "outputId": "b548100a-bd20-4c31-d26e-450db32bda31"
      },
      "source": [
        "Gas_price.isnull().sum()"
      ],
      "id": "7rQRgedFwSNt",
      "execution_count": null,
      "outputs": [
        {
          "output_type": "execute_result",
          "data": {
            "text/plain": [
              "Date               0\n",
              "Henry_Hub_Price    0\n",
              "dtype: int64"
            ]
          },
          "metadata": {
            "tags": []
          },
          "execution_count": 15
        }
      ]
    },
    {
      "cell_type": "markdown",
      "metadata": {
        "id": "z5cVCf0fwSNt"
      },
      "source": [
        "### Plot 22 years Brent, WTI and Gas Prices"
      ],
      "id": "z5cVCf0fwSNt"
    },
    {
      "cell_type": "code",
      "metadata": {
        "id": "wnNqioTQwSNu",
        "outputId": "1e7e338a-6bb3-456d-8d3c-2da3754ea545"
      },
      "source": [
        "plt.plot(brent_oil_price[\"Brent_Price\"])"
      ],
      "id": "wnNqioTQwSNu",
      "execution_count": null,
      "outputs": [
        {
          "output_type": "execute_result",
          "data": {
            "text/plain": [
              "[<matplotlib.lines.Line2D at 0x1d280b818e0>]"
            ]
          },
          "metadata": {
            "tags": []
          },
          "execution_count": 16
        },
        {
          "output_type": "display_data",
          "data": {
            "image/png": "[encoded data removed]",
            "text/plain": [
              "<Figure size 432x288 with 1 Axes>"
            ]
          },
          "metadata": {
            "tags": [],
            "needs_background": "light"
          }
        }
      ]
    },
    {
      "cell_type": "code",
      "metadata": {
        "id": "2T6UtiWHwSNv",
        "outputId": "1696bf89-72a6-4bdd-9e08-5b55f9518d3d"
      },
      "source": [
        "plt.plot(WTI_oil_price[\"WTI_Price\"],color=\"yellow\")"
      ],
      "id": "2T6UtiWHwSNv",
      "execution_count": null,
      "outputs": [
        {
          "output_type": "execute_result",
          "data": {
            "text/plain": [
              "[<matplotlib.lines.Line2D at 0x1d280c144f0>]"
            ]
          },
          "metadata": {
            "tags": []
          },
          "execution_count": 17
        },
        {
          "output_type": "display_data",
          "data": {
            "image/png": "[encoded data removed]",
            "text/plain": [
              "<Figure size 432x288 with 1 Axes>"
            ]
          },
          "metadata": {
            "tags": [],
            "needs_background": "light"
          }
        }
      ]
    },
    {
      "cell_type": "code",
      "metadata": {
        "id": "Qmb6yhD1wSNw",
        "outputId": "643bb3cf-4029-4f50-9a2c-ef18a8f1f4a0"
      },
      "source": [
        "plt.plot(Gas_price[\"Henry_Hub_Price\"],color=\"Green\")"
      ],
      "id": "Qmb6yhD1wSNw",
      "execution_count": null,
      "outputs": [
        {
          "output_type": "execute_result",
          "data": {
            "text/plain": [
              "[<matplotlib.lines.Line2D at 0x1d280cb93a0>]"
            ]
          },
          "metadata": {
            "tags": []
          },
          "execution_count": 18
        },
        {
          "output_type": "display_data",
          "data": {
            "image/png": "[encoded data removed]",
            "text/plain": [
              "<Figure size 432x288 with 1 Axes>"
            ]
          },
          "metadata": {
            "tags": [],
            "needs_background": "light"
          }
        }
      ]
    },
    {
      "cell_type": "markdown",
      "metadata": {
        "id": "Tq96Wb9MwSNx"
      },
      "source": [
        "#### Comman WTI and Brent OIL"
      ],
      "id": "Tq96Wb9MwSNx"
    },
    {
      "cell_type": "code",
      "metadata": {
        "id": "B0bv04i9wSNx",
        "outputId": "89ca0871-c06a-4e2f-a594-b64765544238"
      },
      "source": [
        "plt.plot(brent_oil_price[\"Brent_Price\"]);plt.plot(WTI_oil_price[\"WTI_Price\"])"
      ],
      "id": "B0bv04i9wSNx",
      "execution_count": null,
      "outputs": [
        {
          "output_type": "execute_result",
          "data": {
            "text/plain": [
              "[<matplotlib.lines.Line2D at 0x210b2694be0>]"
            ]
          },
          "metadata": {
            "tags": []
          },
          "execution_count": 11
        },
        {
          "output_type": "display_data",
          "data": {
            "image/png": "[encoded data removed]",
            "text/plain": [
              "<Figure size 432x288 with 1 Axes>"
            ]
          },
          "metadata": {
            "tags": [],
            "needs_background": "light"
          }
        }
      ]
    },
    {
      "cell_type": "code",
      "metadata": {
        "id": "0iSiCmUxwSNy"
      },
      "source": [
        "### Using Histogram to Check Price Incresing"
      ],
      "id": "0iSiCmUxwSNy",
      "execution_count": null,
      "outputs": []
    },
    {
      "cell_type": "code",
      "metadata": {
        "id": "O3p0erfYwSNy",
        "outputId": "fe6cabaf-4e5b-4d51-9ae5-5a1b1709c0fa"
      },
      "source": [
        "plt.hist(brent_oil_price[\"Brent_Price\"],bins=10)\n",
        "plt.show()"
      ],
      "id": "O3p0erfYwSNy",
      "execution_count": null,
      "outputs": [
        {
          "output_type": "display_data",
          "data": {
            "image/png": "[encoded data removed]",
            "text/plain": [
              "<Figure size 432x288 with 1 Axes>"
            ]
          },
          "metadata": {
            "tags": [],
            "needs_background": "light"
          }
        }
      ]
    },
    {
      "cell_type": "code",
      "metadata": {
        "id": "nffa_YZXwSNz",
        "outputId": "610086e1-aafd-4bbe-af51-9e74cd48be0f"
      },
      "source": [
        "plt.hist(WTI_oil_price[\"WTI_Price\"],bins=100,color=\"yellow\")\n",
        "plt.show()"
      ],
      "id": "nffa_YZXwSNz",
      "execution_count": null,
      "outputs": [
        {
          "output_type": "display_data",
          "data": {
            "image/png": "[encoded data removed]",
            "text/plain": [
              "<Figure size 432x288 with 1 Axes>"
            ]
          },
          "metadata": {
            "tags": [],
            "needs_background": "light"
          }
        }
      ]
    },
    {
      "cell_type": "code",
      "metadata": {
        "id": "YvtvsXDRwSNz",
        "outputId": "444cbfa6-a318-47ca-8dc7-87c3385ec5fe"
      },
      "source": [
        "plt.hist(Gas_price[\"Henry_Hub_Price\"],bins=100, color=\"Green\")\n",
        "plt.show()"
      ],
      "id": "YvtvsXDRwSNz",
      "execution_count": null,
      "outputs": [
        {
          "output_type": "display_data",
          "data": {
            "image/png": "[encoded data removed]",
            "text/plain": [
              "<Figure size 432x288 with 1 Axes>"
            ]
          },
          "metadata": {
            "tags": [],
            "needs_background": "light"
          }
        }
      ]
    },
    {
      "cell_type": "code",
      "metadata": {
        "id": "g6frNKKjwSN0",
        "outputId": "844ebc14-39c3-4b76-a2fb-1345ae07e840"
      },
      "source": [
        "plt.hist(brent_oil_price[\"Brent_Price\"],bins=100);plt.hist(WTI_oil_price[\"WTI_Price\"],color=\"yellow\",bins=100);\n",
        "plt.show()\n"
      ],
      "id": "g6frNKKjwSN0",
      "execution_count": null,
      "outputs": [
        {
          "output_type": "display_data",
          "data": {
            "image/png": "[encoded data removed]",
            "text/plain": [
              "<Figure size 432x288 with 1 Axes>"
            ]
          },
          "metadata": {
            "tags": [],
            "needs_background": "light"
          }
        }
      ]
    },
    {
      "cell_type": "markdown",
      "metadata": {
        "id": "7OvGDmY1wSN0"
      },
      "source": [
        "#### Daily Percentage Changes in Brent Oil, WTI Oil and Henry Hub Gas Prices\n"
      ],
      "id": "7OvGDmY1wSN0"
    },
    {
      "cell_type": "code",
      "metadata": {
        "id": "0H-qGNKvwSN0",
        "outputId": "80345dce-35dc-4a83-e19b-6e11607a017f"
      },
      "source": [
        "pc_bren=brent_oil_price[\"Brent_Price\"].pct_change()\n",
        "plt.hist(pc_bren,bins=100)\n",
        "plt.show()"
      ],
      "id": "0H-qGNKvwSN0",
      "execution_count": null,
      "outputs": [
        {
          "output_type": "display_data",
          "data": {
            "image/png": "[encoded data removed]",
            "text/plain": [
              "<Figure size 432x288 with 1 Axes>"
            ]
          },
          "metadata": {
            "tags": [],
            "needs_background": "light"
          }
        }
      ]
    },
    {
      "cell_type": "markdown",
      "metadata": {
        "id": "PD8E95SswSN0"
      },
      "source": [
        ""
      ],
      "id": "PD8E95SswSN0"
    },
    {
      "cell_type": "code",
      "metadata": {
        "id": "b3NbfacNwSN1"
      },
      "source": [
        ""
      ],
      "id": "b3NbfacNwSN1",
      "execution_count": null,
      "outputs": []
    }
  ]
}