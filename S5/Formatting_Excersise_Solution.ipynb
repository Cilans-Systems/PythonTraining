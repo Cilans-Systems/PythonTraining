{
  "cells": [
    {
      "cell_type": "markdown",
      "metadata": {
        "id": "view-in-github",
        "colab_type": "text"
      },
      "source": [
        "<a href=\"https://colab.research.google.com/github/Cilans-Systems/PythonTraining/blob/main/S5/Formatting_Excersise_Solution.ipynb\" target=\"_parent\"><img src=\"https://colab.research.google.com/assets/colab-badge.svg\" alt=\"Open In Colab\"/></a>"
      ]
    },
    {
      "cell_type": "markdown",
      "metadata": {
        "id": "2fpPJtBT4oye"
      },
      "source": [
        "#### 1. What is the output of the code shown below?"
      ]
    },
    {
      "cell_type": "code",
      "execution_count": 1,
      "metadata": {
        "colab": {
          "base_uri": "https://localhost:8080/"
        },
        "id": "4aZSZeOD4oyh",
        "outputId": "7832f5bc-9e5b-4ce3-b76c-a99993f4482c"
      },
      "outputs": [
        {
          "output_type": "stream",
          "name": "stdout",
          "text": [
            "a= H, b= O, c= ['E', 'L']\n"
          ]
        }
      ],
      "source": [
        "l=list('HELLO')\n",
        "p=l [0], l [-1], l [1:3]\n",
        "print ('a= {0}, b= {1}, c= {2}'.format (*p))"
      ]
    },
    {
      "cell_type": "markdown",
      "metadata": {
        "id": "n0KijjD54oyj"
      },
      "source": [
        "#### 2. The output of the two codes shown below is the same. State whether this statement is true or false.\n"
      ]
    },
    {
      "cell_type": "code",
      "execution_count": 2,
      "metadata": {
        "colab": {
          "base_uri": "https://localhost:8080/"
        },
        "id": "0tTS4Yw84oyj",
        "outputId": "616d981b-86c8-4a85-db3d-9b6e0b979a3f"
      },
      "outputs": [
        {
          "output_type": "stream",
          "name": "stdout",
          "text": [
            "0b1111111111111111\n"
          ]
        }
      ],
      "source": [
        "print('{}'.format (bin ((2**16)-1)))"
      ]
    },
    {
      "cell_type": "code",
      "execution_count": 3,
      "metadata": {
        "colab": {
          "base_uri": "https://localhost:8080/",
          "height": 36
        },
        "id": "58lxFGue4oyk",
        "outputId": "321831e4-b6d2-4536-95cf-0ac03d4a1f04"
      },
      "outputs": [
        {
          "output_type": "execute_result",
          "data": {
            "text/plain": [
              "'0b1111111111111111'"
            ],
            "application/vnd.google.colaboratory.intrinsic+json": {
              "type": "string"
            }
          },
          "metadata": {},
          "execution_count": 3
        }
      ],
      "source": [
        "bin ((2**16)-1)"
      ]
    },
    {
      "cell_type": "markdown",
      "metadata": {
        "id": "cXFuvz5I4oyk"
      },
      "source": [
        "#### 3. What is the output of the code shown below?"
      ]
    },
    {
      "cell_type": "code",
      "execution_count": 4,
      "metadata": {
        "colab": {
          "base_uri": "https://localhost:8080/"
        },
        "id": "O0q4YKDK4oyl",
        "outputId": "3b0d2589-b200-4f31-9b5c-96e4a9f7cfdd"
      },
      "outputs": [
        {
          "output_type": "stream",
          "name": "stdout",
          "text": [
            "hello world hello\n"
          ]
        }
      ],
      "source": [
        "print ('{a} {b} {a}'.format (a='hello', b='world'))"
      ]
    },
    {
      "cell_type": "markdown",
      "metadata": {
        "id": "HVVJNH9d4oyl"
      },
      "source": [
        "#### 4. What is the output of the code shown below?"
      ]
    },
    {
      "cell_type": "code",
      "execution_count": 5,
      "metadata": {
        "colab": {
          "base_uri": "https://localhost:8080/"
        },
        "id": "g1Mm8ROy4oym",
        "outputId": "f64b8763-1ac1-4246-fbcf-09f8276eb266"
      },
      "outputs": [
        {
          "output_type": "stream",
          "name": "stdout",
          "text": [
            "Object `below` not found.\n",
            "san foundry\n"
          ]
        }
      ],
      "source": [
        "t is the output of the code shown below?\n",
        "D=dict(p='san', q='foundry')\n",
        "print ('{p} {q}'.format(**D))"
      ]
    },
    {
      "cell_type": "markdown",
      "metadata": {
        "id": "tB7rfYc54oyn"
      },
      "source": [
        "#### 5.What is the output of the code shown below?"
      ]
    },
    {
      "cell_type": "code",
      "execution_count": 6,
      "metadata": {
        "colab": {
          "base_uri": "https://localhost:8080/"
        },
        "id": "rJusc_nT4oyn",
        "outputId": "992bef90-1ff5-429a-da58-770cd5782f71"
      },
      "outputs": [
        {
          "output_type": "stream",
          "name": "stdout",
          "text": [
            "The bright side of life\n"
          ]
        }
      ],
      "source": [
        "print ('The {0} side {1} {2}'.format ('bright', 'of', 'life'))"
      ]
    },
    {
      "cell_type": "markdown",
      "metadata": {
        "id": "UJU35Kf54oyo"
      },
      "source": [
        "#### 6. What is the output of the code shown below?"
      ]
    },
    {
      "cell_type": "code",
      "execution_count": 7,
      "metadata": {
        "colab": {
          "base_uri": "https://localhost:8080/"
        },
        "id": "kx6QRSzU4oyo",
        "outputId": "1bdd02cd-cb30-46a0-f691-c41c18faa2d2"
      },
      "outputs": [
        {
          "output_type": "stream",
          "name": "stdout",
          "text": [
            "1.2399\n"
          ]
        }
      ],
      "source": [
        "print ('%.2f%s' % (1.2345, 99))\n"
      ]
    },
    {
      "cell_type": "markdown",
      "metadata": {
        "id": "zJ5d-jWf4oyo"
      },
      "source": [
        "#### 7. Consider the snippet of code shown below and predict the output"
      ]
    },
    {
      "cell_type": "code",
      "execution_count": 8,
      "metadata": {
        "colab": {
          "base_uri": "https://localhost:8080/"
        },
        "id": "8i8_wZrV4oyp",
        "outputId": "61b153d0-5b69-4b9d-906a-a27501e4af5f"
      },
      "outputs": [
        {
          "output_type": "stream",
          "name": "stdout",
          "text": [
            "%56s san-foundry\n"
          ]
        }
      ],
      "source": [
        "X=\"san-foundry\"\n",
        "print (\"%56s\", X)"
      ]
    },
    {
      "cell_type": "markdown",
      "metadata": {
        "id": "0nEIZDVA4oyp"
      },
      "source": [
        "#### 8. What is the output of the following expression if X=345?"
      ]
    },
    {
      "cell_type": "code",
      "execution_count": 9,
      "metadata": {
        "colab": {
          "base_uri": "https://localhost:8080/"
        },
        "id": "s7dLkXG14oyp",
        "outputId": "398185cc-d74f-42b0-e1c8-9bb36679afaf"
      },
      "outputs": [
        {
          "output_type": "stream",
          "name": "stdout",
          "text": [
            "000345\n"
          ]
        }
      ],
      "source": [
        "x=345\n",
        "print(\"%06d\"%x)"
      ]
    },
    {
      "cell_type": "markdown",
      "metadata": {
        "id": "lyFIxsPa4oyq"
      },
      "source": [
        "#### 9. What is the output of this expression if x=22.19?"
      ]
    },
    {
      "cell_type": "code",
      "execution_count": 10,
      "metadata": {
        "colab": {
          "base_uri": "https://localhost:8080/"
        },
        "id": "HWfVp_Rr4oyq",
        "outputId": "f2faba64-9ef8-4fff-ef8e-f8ecb6ec7cc1"
      },
      "outputs": [
        {
          "output_type": "stream",
          "name": "stdout",
          "text": [
            "22.19\n"
          ]
        }
      ],
      "source": [
        "x=22.19\n",
        "print(\"%5.2f\"%x)"
      ]
    },
    {
      "cell_type": "markdown",
      "metadata": {
        "id": "0pyygXr64oyq"
      },
      "source": [
        "#### 10. What is the output of the code snippet shown below?"
      ]
    },
    {
      "cell_type": "code",
      "execution_count": 15,
      "metadata": {
        "colab": {
          "base_uri": "https://localhost:8080/"
        },
        "id": "UrURJcbn4oyr",
        "outputId": "da688bdf-7eca-4758-dcd4-00f7dde4a226"
      },
      "outputs": [
        {
          "output_type": "stream",
          "name": "stdout",
          "text": [
            "hi hi\n"
          ]
        }
      ],
      "source": [
        "x=\"hi\"\n",
        "print(x+\" \"+x)"
      ]
    },
    {
      "cell_type": "code",
      "execution_count": null,
      "metadata": {
        "id": "Rv2BRsns4oyr"
      },
      "outputs": [],
      "source": [
        ""
      ]
    }
  ],
  "metadata": {
    "kernelspec": {
      "display_name": "Python 3",
      "language": "python",
      "name": "python3"
    },
    "language_info": {
      "codemirror_mode": {
        "name": "ipython",
        "version": 3
      },
      "file_extension": ".py",
      "mimetype": "text/x-python",
      "name": "python",
      "nbconvert_exporter": "python",
      "pygments_lexer": "ipython3",
      "version": "3.7.4"
    },
    "colab": {
      "name": "Formatting_Excersise_Solution.ipynb",
      "provenance": [],
      "include_colab_link": true
    }
  },
  "nbformat": 4,
  "nbformat_minor": 0
}