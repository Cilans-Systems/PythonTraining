{
  "cells": [
    {
      "cell_type": "markdown",
      "metadata": {
        "id": "view-in-github",
        "colab_type": "text"
      },
      "source": [
        "<a href=\"https://colab.research.google.com/github/Cilans-Systems/PythonTraining/blob/main/S5/Formatting_Excersise_Solution.ipynb\" target=\"_parent\"><img src=\"https://colab.research.google.com/assets/colab-badge.svg\" alt=\"Open In Colab\"/></a>"
      ]
    },
    {
      "cell_type": "markdown",
      "source": [
        "# Author: Nikhil Shah"
      ],
      "metadata": {
        "id": "QeIwY1qT4gFP"
      }
    },
    {
      "cell_type": "code",
      "source": [
        ""
      ],
      "metadata": {
        "id": "6oQvAgwx4Pvm"
      },
      "execution_count": null,
      "outputs": []
    },
    {
      "cell_type": "markdown",
      "metadata": {
        "id": "umPyd3yr4KkE"
      },
      "source": [
        "#### 1. What is the output of the code shown below?"
      ]
    },
    {
      "cell_type": "code",
      "execution_count": null,
      "metadata": {
        "id": "bnTMkPmN4KkI",
        "outputId": "1e7cba9d-e924-40c2-cd91-fab2c9cc0813"
      },
      "outputs": [
        {
          "name": "stdout",
          "output_type": "stream",
          "text": [
            "a= H, b= O, c= ['E', 'L']\n"
          ]
        }
      ],
      "source": [
        "l=list('HELLO')\n",
        "p=l [0], l [-1], l [1:3]\n",
        "print ('a= {0}, b= {1}, c= {2}'.format (*p))"
      ]
    },
    {
      "cell_type": "markdown",
      "metadata": {
        "id": "aof23pSO4KkK"
      },
      "source": [
        "#### 2. The output of the two codes shown below is the same. State whether this statement is true or false.\n"
      ]
    },
    {
      "cell_type": "code",
      "execution_count": null,
      "metadata": {
        "id": "nML4SnYj4KkL",
        "outputId": "448f7004-a134-4859-b954-53e626ae1f3b"
      },
      "outputs": [
        {
          "name": "stdout",
          "output_type": "stream",
          "text": [
            "0b1111111111111111\n"
          ]
        }
      ],
      "source": [
        "print('{}'.format (bin ((2**16)-1)))"
      ]
    },
    {
      "cell_type": "code",
      "execution_count": null,
      "metadata": {
        "id": "Ujver0Ng4KkL",
        "outputId": "d95a25bf-c0c3-48e6-caec-92f42c09b495"
      },
      "outputs": [
        {
          "data": {
            "text/plain": [
              "'0b1111111111111111'"
            ]
          },
          "execution_count": 4,
          "metadata": {},
          "output_type": "execute_result"
        }
      ],
      "source": [
        "bin ((2**16)-1)"
      ]
    },
    {
      "cell_type": "markdown",
      "metadata": {
        "id": "Qhmjskgk4KkM"
      },
      "source": [
        "#### 3. What is the output of the code shown below?"
      ]
    },
    {
      "cell_type": "code",
      "execution_count": null,
      "metadata": {
        "id": "pZw-r7Cj4KkM",
        "outputId": "a885e43c-5277-4c03-b514-f65bce497f7e"
      },
      "outputs": [
        {
          "name": "stdout",
          "output_type": "stream",
          "text": [
            "hello world hello\n"
          ]
        }
      ],
      "source": [
        "print ('{a} {b} {a}'.format (a='hello', b='world'))"
      ]
    },
    {
      "cell_type": "markdown",
      "metadata": {
        "id": "oksEnpdW4KkN"
      },
      "source": [
        "#### 4. What is the output of the code shown below?"
      ]
    },
    {
      "cell_type": "code",
      "execution_count": null,
      "metadata": {
        "id": "Xiiolw4l4KkN",
        "outputId": "b8873986-8162-4822-d610-51d92f4d9eef"
      },
      "outputs": [
        {
          "name": "stdout",
          "output_type": "stream",
          "text": [
            "Object `below` not found.\n",
            "san foundry\n"
          ]
        }
      ],
      "source": [
        "t is the output of the code shown below?\n",
        "D=dict(p='san', q='foundry')\n",
        "print ('{p} {q}'.format(**D))"
      ]
    },
    {
      "cell_type": "markdown",
      "metadata": {
        "id": "uj0j8kw34KkO"
      },
      "source": [
        "#### 5.What is the output of the code shown below?"
      ]
    },
    {
      "cell_type": "code",
      "execution_count": null,
      "metadata": {
        "id": "9_9PysuF4KkO",
        "outputId": "52390821-da21-49f4-e847-5850dbdd8a4b"
      },
      "outputs": [
        {
          "name": "stdout",
          "output_type": "stream",
          "text": [
            "The bright side of life\n"
          ]
        }
      ],
      "source": [
        "print ('The {0} side {1} {2}'.format ('bright', 'of', 'life'))"
      ]
    },
    {
      "cell_type": "markdown",
      "metadata": {
        "id": "8zXSP00J4KkP"
      },
      "source": [
        "#### 6. What is the output of the code shown below?"
      ]
    },
    {
      "cell_type": "code",
      "execution_count": null,
      "metadata": {
        "id": "FzHfYMiz4KkP",
        "outputId": "d61beaea-008c-4ff1-b06e-a696089f9327"
      },
      "outputs": [
        {
          "name": "stdout",
          "output_type": "stream",
          "text": [
            "1.2399\n"
          ]
        }
      ],
      "source": [
        "print ('%.2f%s' % (1.2345, 99))\n"
      ]
    },
    {
      "cell_type": "markdown",
      "metadata": {
        "id": "E-56qCgG4KkP"
      },
      "source": [
        "#### 7. Consider the snippet of code shown below and predict the output"
      ]
    },
    {
      "cell_type": "code",
      "execution_count": null,
      "metadata": {
        "id": "Q7HaB1n14KkQ",
        "outputId": "bfa73ff2-c34f-4259-cbe0-c14678560e53"
      },
      "outputs": [
        {
          "name": "stdout",
          "output_type": "stream",
          "text": [
            "%56s san-foundry\n"
          ]
        }
      ],
      "source": [
        "X=\"san-foundry\"\n",
        "print (\"%56s\", X)"
      ]
    },
    {
      "cell_type": "markdown",
      "metadata": {
        "id": "XcZfWXPM4KkQ"
      },
      "source": [
        "#### 8. What is the output of the following expression if X=345?"
      ]
    },
    {
      "cell_type": "code",
      "execution_count": null,
      "metadata": {
        "id": "JG3ZzO5m4KkQ",
        "outputId": "90893705-22d7-4dc1-fc1d-c0aad8ec4dd3"
      },
      "outputs": [
        {
          "name": "stdout",
          "output_type": "stream",
          "text": [
            "000345\n"
          ]
        }
      ],
      "source": [
        "x=345\n",
        "print(\"%06d\"%x)"
      ]
    },
    {
      "cell_type": "markdown",
      "metadata": {
        "id": "Mcv2fx2m4KkR"
      },
      "source": [
        "#### 9. What is the output of this expression if x=22.19?"
      ]
    },
    {
      "cell_type": "code",
      "execution_count": null,
      "metadata": {
        "id": "WL9oDmKj4KkR",
        "outputId": "3cde3b0e-5351-4bfc-c544-81f23f85a51b"
      },
      "outputs": [
        {
          "name": "stdout",
          "output_type": "stream",
          "text": [
            "22.19\n"
          ]
        }
      ],
      "source": [
        "x=22.19\n",
        "print(\"%5.2f\"%x)"
      ]
    },
    {
      "cell_type": "markdown",
      "metadata": {
        "id": "7bAEFef_4KkR"
      },
      "source": [
        "#### 10. What is the output of the code snippet shown below?"
      ]
    },
    {
      "cell_type": "code",
      "execution_count": null,
      "metadata": {
        "id": "vmZ8uh5S4KkR",
        "outputId": "cb11e19d-6a90-409b-cefc-e252d41d591f"
      },
      "outputs": [
        {
          "ename": "TypeError",
          "evalue": "not all arguments converted during string formatting",
          "output_type": "error",
          "traceback": [
            "\u001b[1;31m---------------------------------------------------------------------------\u001b[0m",
            "\u001b[1;31mTypeError\u001b[0m                                 Traceback (most recent call last)",
            "\u001b[1;32m<ipython-input-17-6a97c5a3ec63>\u001b[0m in \u001b[0;36m<module>\u001b[1;34m\u001b[0m\n\u001b[0;32m      1\u001b[0m \u001b[0mx\u001b[0m\u001b[1;33m=\u001b[0m\u001b[1;34m\"hi\"\u001b[0m\u001b[1;33m\u001b[0m\u001b[1;33m\u001b[0m\u001b[0m\n\u001b[1;32m----> 2\u001b[1;33m \u001b[0mprint\u001b[0m\u001b[1;33m(\u001b[0m\u001b[1;34m\"05d\"\u001b[0m\u001b[1;33m%\u001b[0m\u001b[0mx\u001b[0m\u001b[1;33m)\u001b[0m\u001b[1;33m\u001b[0m\u001b[1;33m\u001b[0m\u001b[0m\n\u001b[0m",
            "\u001b[1;31mTypeError\u001b[0m: not all arguments converted during string formatting"
          ]
        }
      ],
      "source": [
        "x=\"hi\"\n",
        "print(\"05d\"%x)"
      ]
    },
    {
      "cell_type": "code",
      "execution_count": null,
      "metadata": {
        "id": "zTcltPgk4KkS"
      },
      "outputs": [],
      "source": [
        ""
      ]
    }
  ],
  "metadata": {
    "kernelspec": {
      "display_name": "Python 3",
      "language": "python",
      "name": "python3"
    },
    "language_info": {
      "codemirror_mode": {
        "name": "ipython",
        "version": 3
      },
      "file_extension": ".py",
      "mimetype": "text/x-python",
      "name": "python",
      "nbconvert_exporter": "python",
      "pygments_lexer": "ipython3",
      "version": "3.7.4"
    },
    "colab": {
      "name": "Formatting_Excersise_Solution.ipynb",
      "provenance": [],
      "include_colab_link": true
    }
  },
  "nbformat": 4,
  "nbformat_minor": 0
}