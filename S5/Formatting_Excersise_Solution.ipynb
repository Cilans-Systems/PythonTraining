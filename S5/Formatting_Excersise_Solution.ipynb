{
  "cells": [
    {
      "cell_type": "markdown",
      "metadata": {
        "id": "view-in-github",
        "colab_type": "text"
      },
      "source": [
        "<a href=\"https://colab.research.google.com/github/Cilans-Systems/PythonTraining/blob/main/S5/Formatting_Excersise_Solution.ipynb\" target=\"_parent\"><img src=\"https://colab.research.google.com/assets/colab-badge.svg\" alt=\"Open In Colab\"/></a>"
      ]
    },
    {
      "cell_type": "markdown",
      "metadata": {
        "id": "VSHxG0qJ5TCr"
      },
      "source": [
        "#### 1. What is the output of the code shown below?"
      ]
    },
    {
      "cell_type": "code",
      "execution_count": 16,
      "metadata": {
        "id": "JxftS4f15TCu",
        "outputId": "b6262dc9-3286-4081-bcd0-96a5577f8135",
        "colab": {
          "base_uri": "https://localhost:8080/"
        }
      },
      "outputs": [
        {
          "output_type": "stream",
          "name": "stdout",
          "text": [
            "a= H, b= O, c= ['E', 'L']\n"
          ]
        }
      ],
      "source": [
        "l=list('HELLO')\n",
        "p=l [0], l [-1], l [1:3]\n",
        "print ('a= {0}, b= {1}, c= {2}'.format (*p))"
      ]
    },
    {
      "cell_type": "markdown",
      "metadata": {
        "id": "iFomIWEp5TCw"
      },
      "source": [
        "#### 2. The output of the two codes shown below is the same. State whether this statement is true or false.\n"
      ]
    },
    {
      "cell_type": "code",
      "execution_count": 17,
      "metadata": {
        "id": "9mcTpTG05TCw",
        "outputId": "76ee86de-27f1-439a-c98c-dc36694e2176",
        "colab": {
          "base_uri": "https://localhost:8080/"
        }
      },
      "outputs": [
        {
          "output_type": "stream",
          "name": "stdout",
          "text": [
            "0b1111111111111111\n"
          ]
        }
      ],
      "source": [
        "print('{}'.format (bin ((2**16)-1)))"
      ]
    },
    {
      "cell_type": "code",
      "execution_count": 18,
      "metadata": {
        "id": "1eoauIwO5TCx",
        "outputId": "43860903-ef9f-4eb7-c0bd-e6b87ae2f6e3",
        "colab": {
          "base_uri": "https://localhost:8080/",
          "height": 36
        }
      },
      "outputs": [
        {
          "output_type": "execute_result",
          "data": {
            "text/plain": [
              "'0b1111111111111111'"
            ],
            "application/vnd.google.colaboratory.intrinsic+json": {
              "type": "string"
            }
          },
          "metadata": {},
          "execution_count": 18
        }
      ],
      "source": [
        "bin ((2**16)-1)"
      ]
    },
    {
      "cell_type": "markdown",
      "metadata": {
        "id": "5NAm2RnM5TCx"
      },
      "source": [
        "#### 3. What is the output of the code shown below?"
      ]
    },
    {
      "cell_type": "code",
      "execution_count": 19,
      "metadata": {
        "id": "k2c9n03C5TCy",
        "outputId": "43f4ea46-27f3-4482-f888-a3af101c93d7",
        "colab": {
          "base_uri": "https://localhost:8080/"
        }
      },
      "outputs": [
        {
          "output_type": "stream",
          "name": "stdout",
          "text": [
            "hello world hello\n"
          ]
        }
      ],
      "source": [
        "print ('{a} {b} {a}'.format (a='hello', b='world'))"
      ]
    },
    {
      "cell_type": "markdown",
      "metadata": {
        "id": "eRkFkjgW5TCy"
      },
      "source": [
        "#### 4. What is the output of the code shown below?"
      ]
    },
    {
      "cell_type": "code",
      "execution_count": 20,
      "metadata": {
        "id": "-Bnb6Rkd5TCz",
        "outputId": "fe3ff756-0c45-4c83-9000-a3ab88595e75",
        "colab": {
          "base_uri": "https://localhost:8080/"
        }
      },
      "outputs": [
        {
          "output_type": "stream",
          "name": "stdout",
          "text": [
            "Object `below` not found.\n",
            "san foundry\n"
          ]
        }
      ],
      "source": [
        "t is the output of the code shown below?\n",
        "D=dict(p='san', q='foundry')\n",
        "print ('{p} {q}'.format(**D))"
      ]
    },
    {
      "cell_type": "markdown",
      "metadata": {
        "id": "-V8kyPGv5TC0"
      },
      "source": [
        "#### 5.What is the output of the code shown below?"
      ]
    },
    {
      "cell_type": "code",
      "execution_count": 21,
      "metadata": {
        "id": "12B9Z-4_5TC0",
        "outputId": "c2f5757d-a9a3-462d-a874-0e30cee230a6",
        "colab": {
          "base_uri": "https://localhost:8080/"
        }
      },
      "outputs": [
        {
          "output_type": "stream",
          "name": "stdout",
          "text": [
            "The bright side of life\n"
          ]
        }
      ],
      "source": [
        "print ('The {0} side {1} {2}'.format ('bright', 'of', 'life'))"
      ]
    },
    {
      "cell_type": "markdown",
      "metadata": {
        "id": "XofA5daS5TC1"
      },
      "source": [
        "#### 6. What is the output of the code shown below?"
      ]
    },
    {
      "cell_type": "code",
      "execution_count": 22,
      "metadata": {
        "id": "VWViykmg5TC1",
        "outputId": "6f16ef05-c16e-4463-bd95-dfa72ffccb50",
        "colab": {
          "base_uri": "https://localhost:8080/"
        }
      },
      "outputs": [
        {
          "output_type": "stream",
          "name": "stdout",
          "text": [
            "1.2399\n"
          ]
        }
      ],
      "source": [
        "print ('%.2f%s' % (1.2345, 99))\n"
      ]
    },
    {
      "cell_type": "markdown",
      "metadata": {
        "id": "w3AIv59j5TC1"
      },
      "source": [
        "#### 7. Consider the snippet of code shown below and predict the output"
      ]
    },
    {
      "cell_type": "code",
      "execution_count": 23,
      "metadata": {
        "id": "PU6UF2Po5TC2",
        "outputId": "58e31c4c-9aa3-4ce6-cdf4-1d4633754e0a",
        "colab": {
          "base_uri": "https://localhost:8080/"
        }
      },
      "outputs": [
        {
          "output_type": "stream",
          "name": "stdout",
          "text": [
            "%56s san-foundry\n"
          ]
        }
      ],
      "source": [
        "X=\"san-foundry\"\n",
        "print (\"%56s\", X)"
      ]
    },
    {
      "cell_type": "markdown",
      "metadata": {
        "id": "dNx-Hy7o5TC2"
      },
      "source": [
        "#### 8. What is the output of the following expression if X=345?"
      ]
    },
    {
      "cell_type": "code",
      "execution_count": 24,
      "metadata": {
        "id": "uuhUuOQP5TC2",
        "outputId": "33aac19f-db71-4b0e-b708-7dd27342c497",
        "colab": {
          "base_uri": "https://localhost:8080/"
        }
      },
      "outputs": [
        {
          "output_type": "stream",
          "name": "stdout",
          "text": [
            "000345\n"
          ]
        }
      ],
      "source": [
        "x=345\n",
        "print(\"%06d\"%x)"
      ]
    },
    {
      "cell_type": "markdown",
      "metadata": {
        "id": "WrKBXiJA5TC3"
      },
      "source": [
        "#### 9. What is the output of this expression if x=22.19?"
      ]
    },
    {
      "cell_type": "code",
      "execution_count": 25,
      "metadata": {
        "id": "Uv5UI2sR5TC3",
        "outputId": "10199dc5-64f1-412f-814c-2a7f18f8812d",
        "colab": {
          "base_uri": "https://localhost:8080/"
        }
      },
      "outputs": [
        {
          "output_type": "stream",
          "name": "stdout",
          "text": [
            "22.19\n"
          ]
        }
      ],
      "source": [
        "x=22.19\n",
        "print(\"%5.2f\"%x)"
      ]
    },
    {
      "cell_type": "markdown",
      "metadata": {
        "id": "2bDNOQeq5TC3"
      },
      "source": [
        "#### 10. What is the output of the code snippet shown below?"
      ]
    },
    {
      "cell_type": "code",
      "execution_count": 27,
      "metadata": {
        "id": "m0NoGbN15TC4",
        "outputId": "0def08d4-437b-4d29-a49c-89fd96ad96f7",
        "colab": {
          "base_uri": "https://localhost:8080/"
        }
      },
      "outputs": [
        {
          "output_type": "stream",
          "name": "stdout",
          "text": [
            "hi hi\n"
          ]
        }
      ],
      "source": [
        "x=\"hi\"\n",
        "print(x+\" \"+x)"
      ]
    },
    {
      "cell_type": "code",
      "execution_count": null,
      "metadata": {
        "id": "SRsxiANs5TC4"
      },
      "outputs": [],
      "source": [
        ""
      ]
    }
  ],
  "metadata": {
    "kernelspec": {
      "display_name": "Python 3",
      "language": "python",
      "name": "python3"
    },
    "language_info": {
      "codemirror_mode": {
        "name": "ipython",
        "version": 3
      },
      "file_extension": ".py",
      "mimetype": "text/x-python",
      "name": "python",
      "nbconvert_exporter": "python",
      "pygments_lexer": "ipython3",
      "version": "3.7.4"
    },
    "colab": {
      "name": "Formatting_Excersise_Solution.ipynb",
      "provenance": [],
      "include_colab_link": true
    }
  },
  "nbformat": 4,
  "nbformat_minor": 0
}