{
  "cells": [
    {
      "cell_type": "markdown",
      "metadata": {
        "id": "view-in-github",
        "colab_type": "text"
      },
      "source": [
        "<a href=\"https://colab.research.google.com/github/Cilans-Systems/PythonTraining/blob/main/S1/Python_Foundation_NS.ipynb\" target=\"_parent\"><img src=\"https://colab.research.google.com/assets/colab-badge.svg\" alt=\"Open In Colab\"/></a>"
      ]
    },
    {
      "cell_type": "markdown",
      "id": "rOKedSO4uheg",
      "metadata": {
        "id": "rOKedSO4uheg"
      },
      "source": [
        "Code to Fetch Data"
      ]
    },
    {
      "cell_type": "code",
      "execution_count": 1,
      "id": "AdrsQjS4uebL",
      "metadata": {
        "colab": {
          "base_uri": "https://localhost:8080/"
        },
        "id": "AdrsQjS4uebL",
        "outputId": "ab58150f-af06-4515-b161-5e46acc1fa9c"
      },
      "outputs": [
        {
          "output_type": "stream",
          "name": "stdout",
          "text": [
            "Cloning into 'PythonTraining'...\n",
            "remote: Enumerating objects: 60, done.\u001b[K\n",
            "remote: Counting objects: 100% (60/60), done.\u001b[K\n",
            "remote: Compressing objects: 100% (54/54), done.\u001b[K\n",
            "remote: Total 60 (delta 21), reused 10 (delta 4), pack-reused 0\u001b[K\n",
            "Unpacking objects: 100% (60/60), done.\n"
          ]
        }
      ],
      "source": [
        "!git clone https://github.com/Cilans-Systems/PythonTraining.git\n",
        "import os\n",
        "os.chdir('/content/PythonTraining/S1')"
      ]
    },
    {
      "cell_type": "markdown",
      "id": "DE6pY1ePubPW",
      "metadata": {
        "id": "DE6pY1ePubPW"
      },
      "source": [
        "#  Welcome to Python Foundation   \n",
        "## Python Learning\n",
        "### Coach :  Nikhil Shah"
      ]
    },
    {
      "cell_type": "code",
      "execution_count": 2,
      "id": "Lf2R-_GMubPb",
      "metadata": {
        "id": "Lf2R-_GMubPb",
        "outputId": "d5769bc6-afe8-464e-c1c7-da1806c7199d",
        "colab": {
          "base_uri": "https://localhost:8080/"
        }
      },
      "outputs": [
        {
          "output_type": "stream",
          "name": "stdout",
          "text": [
            "x= 9 y= 9.9 z= 4.5 z1= 4\n"
          ]
        }
      ],
      "source": [
        "x=9\n",
        "y=9.9\n",
        "z= x/2\n",
        "z1=x//2\n",
        "print(\"x=\",x,\"y=\",y,\"z=\",z,\"z1=\",z1)"
      ]
    },
    {
      "cell_type": "markdown",
      "id": "Jc9S6QtA_h_F",
      "metadata": {
        "id": "Jc9S6QtA_h_F"
      },
      "source": [
        "####  print function : It is used to print any statement"
      ]
    },
    {
      "cell_type": "code",
      "execution_count": 3,
      "id": "J8NbGyH0_h_I",
      "metadata": {
        "colab": {
          "base_uri": "https://localhost:8080/"
        },
        "id": "J8NbGyH0_h_I",
        "outputId": "7b2e4651-3fe5-4075-a942-2f103c2023a7"
      },
      "outputs": [
        {
          "output_type": "stream",
          "name": "stdout",
          "text": [
            "This is the First Python Program\n"
          ]
        }
      ],
      "source": [
        "print(\"This is the First Python Program\")"
      ]
    },
    {
      "cell_type": "markdown",
      "id": "_EW0m1Cp_vHy",
      "metadata": {
        "id": "_EW0m1Cp_vHy"
      },
      "source": [
        "thuis is comment"
      ]
    },
    {
      "cell_type": "markdown",
      "id": "8yYcWXix_h_K",
      "metadata": {
        "id": "8yYcWXix_h_K"
      },
      "source": [
        "#### Assign value"
      ]
    },
    {
      "cell_type": "code",
      "execution_count": 4,
      "id": "9nbUPYMp_h_K",
      "metadata": {
        "id": "9nbUPYMp_h_K",
        "outputId": "2940d47f-e75b-4c4c-f216-06b684471777",
        "colab": {
          "base_uri": "https://localhost:8080/"
        }
      },
      "outputs": [
        {
          "output_type": "stream",
          "name": "stdout",
          "text": [
            "value of x: 10\n",
            "value if y: 20\n"
          ]
        }
      ],
      "source": [
        "x,y=10,20\n",
        "print(\"value of x:\",x)\n",
        "print(\"value if y:\",y)"
      ]
    },
    {
      "cell_type": "code",
      "execution_count": 5,
      "id": "FrRtNfrr_h_O",
      "metadata": {
        "id": "FrRtNfrr_h_O",
        "outputId": "705d0be8-b854-4c11-e1b0-7f84b2183df5",
        "colab": {
          "base_uri": "https://localhost:8080/"
        }
      },
      "outputs": [
        {
          "output_type": "stream",
          "name": "stdout",
          "text": [
            "Value of x: 20\n",
            "value of y: 10\n"
          ]
        }
      ],
      "source": [
        "# Swap Value (Interchange)\n",
        "x,y=y,x\n",
        "print(\"Value of x:\",x)\n",
        "print(\"value of y:\",y)"
      ]
    },
    {
      "cell_type": "markdown",
      "id": "hArapUIg_h_P",
      "metadata": {
        "id": "hArapUIg_h_P"
      },
      "source": [
        "### Tuple \n",
        "It is collection of different type of value. Tuple is Immutable so we can't change any value inside the tuple. It is Created using presentheases () ."
      ]
    },
    {
      "cell_type": "code",
      "execution_count": 6,
      "id": "uLMX23qQ_h_Q",
      "metadata": {
        "id": "uLMX23qQ_h_Q",
        "outputId": "fe9d0c77-b69b-4450-daa0-c03af6402b63",
        "colab": {
          "base_uri": "https://localhost:8080/"
        }
      },
      "outputs": [
        {
          "output_type": "execute_result",
          "data": {
            "text/plain": [
              "(23, 'abc', 4.56, (2, 3), 'def', 45, 567, 34, 'Indian Oil', 'Reliance')"
            ]
          },
          "metadata": {},
          "execution_count": 6
        }
      ],
      "source": [
        "tu = (23, 'abc', 4.56, (2,3), 'def',45,567,34,'Indian Oil',\"Reliance\")\n",
        "tu"
      ]
    },
    {
      "cell_type": "markdown",
      "id": "bapv1Nzz_h_R",
      "metadata": {
        "id": "bapv1Nzz_h_R"
      },
      "source": [
        "### Indexing and Slicing\n",
        "#####  indexing  start  at  0 position . \n",
        "<ul>\n",
        "    <li>It return one value at a time</li>\n",
        "    <li>Two type of  indexing avaiable:</li>\n",
        "    <ul>\n",
        "        <li> <b>Positive :</b> Positive index start By Zero and left side</li>\n",
        "        <li> <b>Negative :</b> Negative Index start By -1 and Right side</li>\n",
        "    </ul>\n",
        "</ul>"
      ]
    },
    {
      "cell_type": "markdown",
      "id": "8YWDofZs_h_S",
      "metadata": {
        "id": "8YWDofZs_h_S"
      },
      "source": [
        "#### Indexing and Slicing in Tuple"
      ]
    },
    {
      "cell_type": "code",
      "execution_count": 7,
      "id": "EnlULkIF_h_T",
      "metadata": {
        "id": "EnlULkIF_h_T",
        "outputId": "f3cd9608-e23f-4f6b-ac7f-1bc660eed97b",
        "colab": {
          "base_uri": "https://localhost:8080/"
        }
      },
      "outputs": [
        {
          "output_type": "stream",
          "name": "stdout",
          "text": [
            "First Position Value is : 23\n"
          ]
        }
      ],
      "source": [
        "print(\"First Position Value is :\",tu[0])"
      ]
    },
    {
      "cell_type": "code",
      "execution_count": 8,
      "id": "VyxnhCAA_h_U",
      "metadata": {
        "id": "VyxnhCAA_h_U",
        "outputId": "c061b2fb-257b-4fc4-b1f5-705aeb04f5c3",
        "colab": {
          "base_uri": "https://localhost:8080/"
        }
      },
      "outputs": [
        {
          "output_type": "stream",
          "name": "stdout",
          "text": [
            "Fourth Position Value is : (2, 3)\n"
          ]
        }
      ],
      "source": [
        "print(\"Fourth Position Value is :\",tu[3])"
      ]
    },
    {
      "cell_type": "code",
      "execution_count": 9,
      "id": "jr1NQJmW_h_U",
      "metadata": {
        "id": "jr1NQJmW_h_U",
        "outputId": "79ad2d34-881e-4461-e30c-2572c050dcf1",
        "colab": {
          "base_uri": "https://localhost:8080/"
        }
      },
      "outputs": [
        {
          "output_type": "stream",
          "name": "stdout",
          "text": [
            "Last Position value is: Reliance\n"
          ]
        }
      ],
      "source": [
        "print(\"Last Position value is:\",tu[-1])"
      ]
    },
    {
      "cell_type": "markdown",
      "id": "v1dr-BLU_h_U",
      "metadata": {
        "id": "v1dr-BLU_h_U"
      },
      "source": [
        "##### slicing return range of value\n",
        "Start copying at the first index and stop copying before second.\n",
        "[start:stop:step]"
      ]
    },
    {
      "cell_type": "code",
      "execution_count": 10,
      "id": "Bo6OXR3i_h_V",
      "metadata": {
        "id": "Bo6OXR3i_h_V",
        "outputId": "d2fe2ac6-6082-4c76-b192-ad2bd56739cd",
        "colab": {
          "base_uri": "https://localhost:8080/"
        }
      },
      "outputs": [
        {
          "output_type": "execute_result",
          "data": {
            "text/plain": [
              "('abc', 4.56, (2, 3))"
            ]
          },
          "metadata": {},
          "execution_count": 10
        }
      ],
      "source": [
        "# display 1 to 3 value\n",
        "tu[1:4]"
      ]
    },
    {
      "cell_type": "code",
      "execution_count": 11,
      "id": "HrZ6tCGo_h_V",
      "metadata": {
        "id": "HrZ6tCGo_h_V",
        "outputId": "870dd983-9e18-48ae-e60d-2be8860dfba0",
        "colab": {
          "base_uri": "https://localhost:8080/"
        }
      },
      "outputs": [
        {
          "output_type": "execute_result",
          "data": {
            "text/plain": [
              "('abc', 4.56, (2, 3), 'def', 45, 567, 34, 'Indian Oil')"
            ]
          },
          "metadata": {},
          "execution_count": 11
        }
      ],
      "source": [
        "# Use Negative Index\n",
        "tu[1:-1]"
      ]
    },
    {
      "cell_type": "markdown",
      "id": "8nu3BnUe_h_W",
      "metadata": {
        "id": "8nu3BnUe_h_W"
      },
      "source": [
        "### Tuple Function "
      ]
    },
    {
      "cell_type": "code",
      "execution_count": 12,
      "id": "OqUl5OYO_h_W",
      "metadata": {
        "id": "OqUl5OYO_h_W",
        "outputId": "9b9618b5-b6d3-48b1-b27f-a1c84463da6f",
        "colab": {
          "base_uri": "https://localhost:8080/"
        }
      },
      "outputs": [
        {
          "output_type": "stream",
          "name": "stdout",
          "text": [
            "First tuple length :  10\n",
            "Max value element :  zara\n",
            "Max value element :  abc\n",
            "New Tuple: (123, 'xyz', 'zara', 'abc')\n"
          ]
        }
      ],
      "source": [
        "# len : return Length of Tuple\n",
        "print (\"First tuple length : \", len(tu)) \n",
        "\n",
        "# Max : find Maximum value of Tuple(Not Apply Mix Data type)\n",
        "tuple1= ('pqr','xyz', 'zara', 'abc')\n",
        "print (\"Max value element : \", max(tuple1))\n",
        "\n",
        "\n",
        "# Min : find Minimum value of Tuple(Not Apply Mix Data type)\n",
        "tuple1= ('pqr','xyz', 'zara', 'abc')\n",
        "print (\"Max value element : \", min(tuple1))\n",
        "\n",
        "# tuple : convert any data into tuple \n",
        "aList = [123, 'xyz', 'zara', 'abc']\n",
        "aTuple = tuple(aList) \n",
        "print(\"New Tuple:\",aTuple)\n"
      ]
    },
    {
      "cell_type": "markdown",
      "id": "_F6iHba__h_W",
      "metadata": {
        "id": "_F6iHba__h_W"
      },
      "source": [
        "### List  :\n",
        "It is also collection of value of Mix data type.It is Mutable so, we can change any value inside the list. Define List using square[] and commas.\n"
      ]
    },
    {
      "cell_type": "code",
      "execution_count": 13,
      "id": "927rGYBu_h_X",
      "metadata": {
        "id": "927rGYBu_h_X",
        "outputId": "51cc0028-6d44-4038-bfae-daadc0639c8c",
        "colab": {
          "base_uri": "https://localhost:8080/"
        }
      },
      "outputs": [
        {
          "output_type": "execute_result",
          "data": {
            "text/plain": [
              "[23, 'abc', 4.56, (2, 3), 'def', 45, 567, 34, 'Indian Oil', 'Reliance']"
            ]
          },
          "metadata": {},
          "execution_count": 13
        }
      ],
      "source": [
        "l1=[23, 'abc', 4.56, (2,3), 'def',45,567,34,'Indian Oil',\"Reliance\"]\n",
        "l1"
      ]
    },
    {
      "cell_type": "markdown",
      "id": "6OE3PjjE_h_X",
      "metadata": {
        "id": "6OE3PjjE_h_X"
      },
      "source": [
        "#### Indexing and Slicing in List\n",
        "It is simmlar to tuple indexing and slicing "
      ]
    },
    {
      "cell_type": "code",
      "execution_count": 14,
      "id": "7KyRb4Mf_h_Y",
      "metadata": {
        "id": "7KyRb4Mf_h_Y",
        "outputId": "a5c6b07f-23d4-4ef2-8eb6-a15009c20fd9",
        "colab": {
          "base_uri": "https://localhost:8080/"
        }
      },
      "outputs": [
        {
          "output_type": "stream",
          "name": "stdout",
          "text": [
            "Fourth position value is: (2, 3)\n"
          ]
        }
      ],
      "source": [
        "print(\"Fourth position value is:\",l1[3])"
      ]
    },
    {
      "cell_type": "code",
      "execution_count": 15,
      "id": "_O9-eu3W_h_Y",
      "metadata": {
        "id": "_O9-eu3W_h_Y",
        "outputId": "eacf4435-a5e4-419c-db93-7b631f0065b0",
        "colab": {
          "base_uri": "https://localhost:8080/"
        }
      },
      "outputs": [
        {
          "output_type": "stream",
          "name": "stdout",
          "text": [
            "Fourth position value is: 567\n"
          ]
        }
      ],
      "source": [
        "print(\"Fourth position value is:\",l1[6])"
      ]
    },
    {
      "cell_type": "code",
      "execution_count": 16,
      "id": "E5SzNFYE_h_Y",
      "metadata": {
        "id": "E5SzNFYE_h_Y",
        "outputId": "a0cbf10c-827e-46d6-ef94-0ddbbe35cfcc",
        "colab": {
          "base_uri": "https://localhost:8080/"
        }
      },
      "outputs": [
        {
          "output_type": "stream",
          "name": "stdout",
          "text": [
            "9th position value is: Indian Oil\n"
          ]
        }
      ],
      "source": [
        "print(\"9th position value is:\",l1[-2])"
      ]
    },
    {
      "cell_type": "code",
      "execution_count": 17,
      "id": "2-_ojAvR_h_Z",
      "metadata": {
        "id": "2-_ojAvR_h_Z",
        "outputId": "b25f8c11-7ff5-47d6-bb2c-0900cbe7ae0e",
        "colab": {
          "base_uri": "https://localhost:8080/"
        }
      },
      "outputs": [
        {
          "output_type": "execute_result",
          "data": {
            "text/plain": [
              "[(2, 3), 'def', 45, 567]"
            ]
          },
          "metadata": {},
          "execution_count": 17
        }
      ],
      "source": [
        "# display 3rd position to 6th position\n",
        "l1[3:7]"
      ]
    },
    {
      "cell_type": "code",
      "execution_count": 18,
      "id": "ZTYDF336_h_Z",
      "metadata": {
        "id": "ZTYDF336_h_Z",
        "outputId": "436ef3f1-4ce0-48e2-fcca-99348cdb848f",
        "colab": {
          "base_uri": "https://localhost:8080/"
        }
      },
      "outputs": [
        {
          "output_type": "execute_result",
          "data": {
            "text/plain": [
              "['Reliance', 'Indian Oil', 34, 567, 45, 'def', (2, 3), 4.56, 'abc', 23]"
            ]
          },
          "metadata": {},
          "execution_count": 18
        }
      ],
      "source": [
        "# Return Revese value\n",
        "l1[::-1]"
      ]
    },
    {
      "cell_type": "markdown",
      "id": "zJOZ4aHT_h_Z",
      "metadata": {
        "id": "zJOZ4aHT_h_Z"
      },
      "source": [
        "### List Function"
      ]
    },
    {
      "cell_type": "code",
      "execution_count": 19,
      "id": "vkU1K1IV_h_a",
      "metadata": {
        "id": "vkU1K1IV_h_a",
        "outputId": "4782d0cb-aefa-4e41-bab2-10af825185bf",
        "colab": {
          "base_uri": "https://localhost:8080/"
        }
      },
      "outputs": [
        {
          "output_type": "stream",
          "name": "stdout",
          "text": [
            "First List length :  10\n",
            "Max value element :  zara\n",
            "Max value element :  abc\n",
            "New List: [123, 'xyz', 'zara', 'abc']\n"
          ]
        }
      ],
      "source": [
        "# len : return Length of List\n",
        "print (\"First List length : \", len(l1)) \n",
        "\n",
        "# Max : find Maximum value of List(Not Apply Mix Data type)\n",
        "List1= ('pqr','xyz', 'zara', 'abc')\n",
        "print (\"Max value element : \", max(List1))\n",
        "\n",
        "\n",
        "# Min : find Minimum value of List(Not Apply Mix Data type)\n",
        "tuple1= ('pqr','xyz', 'zara', 'abc')\n",
        "print (\"Max value element : \", min(List1))\n",
        "\n",
        "# list : convert any data into list \n",
        "t1 = (123, 'xyz', 'zara', 'abc')\n",
        "aList = list(t1) \n",
        "print(\"New List:\",aList)"
      ]
    },
    {
      "cell_type": "markdown",
      "id": "ZM4DF0qP_h_b",
      "metadata": {
        "id": "ZM4DF0qP_h_b"
      },
      "source": [
        "### List Method"
      ]
    },
    {
      "cell_type": "code",
      "execution_count": 20,
      "id": "POd2obeV_h_c",
      "metadata": {
        "id": "POd2obeV_h_c",
        "outputId": "3fbd2e2d-73c3-41bd-fd4e-c17a681dc1c8",
        "colab": {
          "base_uri": "https://localhost:8080/"
        }
      },
      "outputs": [
        {
          "output_type": "stream",
          "name": "stdout",
          "text": [
            "Index of First occurence of 5: 1\n",
            "Display count of 5: 2\n",
            "After removing 5: [1, 3, 2, 5]\n",
            "After removing 5: [1, 3, 2]\n",
            "After Sorting: [1, 2, 3]\n",
            "After Insert Value: [1, 100, 2, 3]\n",
            "After append : [1, 100, 2, 3, [12, 34, 55]]\n",
            "Extend List : [1, 100, 2, 3, [12, 34, 55], 10, 20, 30]\n"
          ]
        }
      ],
      "source": [
        "#index: Return index of first occurrence\n",
        "li = [1, 5, 3, 2,5]\n",
        "print(\"Index of First occurence of 5:\",li.index(5))\n",
        "\n",
        "# count : Number of Occurence \n",
        "print(\"Display count of 5:\",li.count(5))\n",
        "\n",
        "# remove : remove First Occurence\n",
        "li.remove(5)\n",
        "print(\"After removing 5:\",li)\n",
        "\n",
        "# reverse : reverse number \n",
        "li.remove(5)\n",
        "print(\"After removing 5:\",li)\n",
        "\n",
        "# sort : to Sort Assesnding Order\n",
        "li.sort()\n",
        "print(\"After Sorting:\",li)\n",
        "\n",
        "# Insert : Insert Value By Position\n",
        "li.insert(1,100)\n",
        "print(\"After Insert Value:\",li)\n",
        "\n",
        "# append : Insert Multiple value at Last position\n",
        "li.append([12,34,55])\n",
        "print(\"After append :\",li)\n",
        "\n",
        "# extend: extend your List\n",
        "li.extend([10,20,30])\n",
        "print(\"Extend List :\",li)"
      ]
    },
    {
      "cell_type": "markdown",
      "id": "AIR00tIb_h_c",
      "metadata": {
        "id": "AIR00tIb_h_c"
      },
      "source": [
        "### String\n",
        "string is colleciton of Charatcer written in single,double ,triple quote"
      ]
    },
    {
      "cell_type": "code",
      "execution_count": 21,
      "id": "_kwtuEAj_h_d",
      "metadata": {
        "id": "_kwtuEAj_h_d",
        "outputId": "a87f58e8-dcff-4e1d-fe83-3e42797c5a22",
        "colab": {
          "base_uri": "https://localhost:8080/"
        }
      },
      "outputs": [
        {
          "output_type": "stream",
          "name": "stdout",
          "text": [
            "Hello, Everyone\n",
            "Hello, Everyone\n",
            "Hello,\n",
            "    Everyone\n"
          ]
        }
      ],
      "source": [
        "s1=\"Hello, Everyone\"\n",
        "s2='Hello, Everyone'\n",
        "s3=\"\"\"Hello,\n",
        "    Everyone\"\"\"\n",
        "print(s1)\n",
        "print(s2)\n",
        "print(s3)"
      ]
    },
    {
      "cell_type": "markdown",
      "id": "U-bYyVdV_h_d",
      "metadata": {
        "id": "U-bYyVdV_h_d"
      },
      "source": [
        "#### Indexing and Slicing in String\n",
        "It is simmlar to tuple indexing and slicing "
      ]
    },
    {
      "cell_type": "code",
      "execution_count": 22,
      "id": "NjehP-a3_h_d",
      "metadata": {
        "id": "NjehP-a3_h_d",
        "outputId": "dac7d0b0-8684-4e23-d68c-7c79d215ea27",
        "colab": {
          "base_uri": "https://localhost:8080/"
        }
      },
      "outputs": [
        {
          "output_type": "stream",
          "name": "stdout",
          "text": [
            "First Character of String: H\n",
            "Last Character of String: e\n",
            "second to 5th position value: llo\n",
            "Seven to 13th position value: Everyo\n",
            "llo, Everyone\n",
            "Hel\n",
            "Hello, Every\n",
            "one\n"
          ]
        }
      ],
      "source": [
        "print(\"First Character of String:\",s1[0])\n",
        "print(\"Last Character of String:\",s1[-1])\n",
        "print(\"second to 5th position value:\",s1[2:5])\n",
        "print(\"Seven to 13th position value:\",s1[7:13])\n",
        "# Print After Two Word\n",
        "print(s1[2:])\n",
        "# First 3 Letter\n",
        "print(s1[:3])\n",
        "# Skip Last Number od Letters\n",
        "print(s1[:-3])\n",
        "#Last Number of Character\n",
        "print(s1[-3:])\n"
      ]
    },
    {
      "cell_type": "markdown",
      "id": "AtN1GFSQ_h_e",
      "metadata": {
        "id": "AtN1GFSQ_h_e"
      },
      "source": [
        "### String Method"
      ]
    },
    {
      "cell_type": "code",
      "execution_count": 23,
      "id": "yE0lHEIq_h_e",
      "metadata": {
        "id": "yE0lHEIq_h_e",
        "outputId": "f540b38e-630f-405f-c77c-e4cd39291db8",
        "colab": {
          "base_uri": "https://localhost:8080/"
        }
      },
      "outputs": [
        {
          "output_type": "stream",
          "name": "stdout",
          "text": [
            "Length of String:  15\n",
            "Split String: ['Hello', ' Everyone']\n",
            "Hello, Everyone\n",
            "hello, everyone\n",
            "HELLO, EVERYONE\n"
          ]
        }
      ],
      "source": [
        "# len : return Length of List\n",
        "print (\"Length of String: \", len(s1)) \n",
        "\n",
        "# split(): splits the string into substrings if it finds instances of the separator\n",
        "b = s1.split(\",\")\n",
        "print(\"Split String:\",b)\n",
        "\n",
        "# strip() : removes any whitespace from the beginning or the end\n",
        "print(s1.strip())\n",
        "\n",
        "# lower() : convert uppercase to lowercase \n",
        "print(s1.lower())\n",
        "\n",
        "# upper() : convert lowercase to uppercase\n",
        "print(s1.upper())"
      ]
    },
    {
      "cell_type": "markdown",
      "id": "YOW_T978_h_f",
      "metadata": {
        "id": "YOW_T978_h_f"
      },
      "source": [
        "### In operator\n",
        "Boolean test whether a value is inside a container<br/>\n",
        "**in** operator same resonse to list , tuple, String\n"
      ]
    },
    {
      "cell_type": "code",
      "execution_count": 24,
      "id": "VuV5RoSX_h_g",
      "metadata": {
        "id": "VuV5RoSX_h_g",
        "outputId": "2dd3d61b-76c1-4eb0-f62f-5f13b63ab8af",
        "colab": {
          "base_uri": "https://localhost:8080/"
        }
      },
      "outputs": [
        {
          "output_type": "stream",
          "name": "stdout",
          "text": [
            "False\n",
            "True\n",
            "False\n"
          ]
        }
      ],
      "source": [
        "t = [1, 2, 4, 5]\n",
        "print(3 in t)\n",
        "print(4 in t)\n",
        "print(4 not in t)\n"
      ]
    },
    {
      "cell_type": "markdown",
      "id": "UxusGRHl_h_h",
      "metadata": {
        "id": "UxusGRHl_h_h"
      },
      "source": [
        "### + Operator\n",
        "concatination of two or more collection"
      ]
    },
    {
      "cell_type": "code",
      "execution_count": 25,
      "id": "SpfEVlzQ_h_h",
      "metadata": {
        "id": "SpfEVlzQ_h_h",
        "outputId": "fd71272b-c584-4718-9494-91ea4a043a8a",
        "colab": {
          "base_uri": "https://localhost:8080/"
        }
      },
      "outputs": [
        {
          "output_type": "stream",
          "name": "stdout",
          "text": [
            "(1, 2, 3, 4, 5, 6)\n",
            "[1, 2, 3, 4, 5, 6]\n",
            "Hello World\n"
          ]
        }
      ],
      "source": [
        "print((1, 2, 3) + (4, 5, 6))\n",
        "print([1, 2, 3] + [4, 5, 6])\n",
        "print(\"Hello\" + \" \" + \"World\")"
      ]
    },
    {
      "cell_type": "markdown",
      "id": "YpkUZsp0_h_i",
      "metadata": {
        "id": "YpkUZsp0_h_i"
      },
      "source": [
        "### * operator\n",
        "Repeat number of any Collection"
      ]
    },
    {
      "cell_type": "code",
      "execution_count": 26,
      "id": "hmEScDz1_h_i",
      "metadata": {
        "id": "hmEScDz1_h_i",
        "outputId": "f14c3d57-6dd7-42a0-a39e-87e8932ffa40",
        "colab": {
          "base_uri": "https://localhost:8080/"
        }
      },
      "outputs": [
        {
          "output_type": "stream",
          "name": "stdout",
          "text": [
            "(1, 2, 3, 1, 2, 3, 1, 2, 3)\n",
            "[1, 2, 3, 1, 2, 3, 1, 2, 3]\n",
            "HelloHelloHello\n"
          ]
        }
      ],
      "source": [
        "print((1, 2, 3) * 3)\n",
        "print([1, 2, 3] * 3)\n",
        "print(\"Hello\" * 3)"
      ]
    },
    {
      "cell_type": "markdown",
      "id": "RNBmsDP5_h_i",
      "metadata": {
        "id": "RNBmsDP5_h_i"
      },
      "source": [
        "### Dictionary \n",
        "Dictionary is an  unordered  Collection of key-Value Pairs."
      ]
    },
    {
      "cell_type": "code",
      "execution_count": 27,
      "id": "aNLaeZdV_h_j",
      "metadata": {
        "id": "aNLaeZdV_h_j",
        "outputId": "33d6a46f-da43-477b-cca4-57694b8d5c1f",
        "colab": {
          "base_uri": "https://localhost:8080/"
        }
      },
      "outputs": [
        {
          "output_type": "execute_result",
          "data": {
            "text/plain": [
              "{'C': 'carbon',\n",
              " 'H': 'hydrogen',\n",
              " 'He': 'helium',\n",
              " 'Li': 'lithium',\n",
              " 'N': 'nitrogen',\n",
              " 'O': 'oxygen'}"
            ]
          },
          "metadata": {},
          "execution_count": 27
        }
      ],
      "source": [
        "symbol_to_name = {\"H\": \"hydrogen\",\"He\": \"helium\",\"Li\": \"lithium\",\"C\": \"carbon\",\"O\": \"oxygen\",\"N\": \"nitrogen\"}\n",
        "symbol_to_name\n"
      ]
    },
    {
      "cell_type": "code",
      "execution_count": 28,
      "id": "h09lVsw__h_j",
      "metadata": {
        "id": "h09lVsw__h_j",
        "outputId": "f8505424-d054-4337-aac4-9291f64569f0",
        "colab": {
          "base_uri": "https://localhost:8080/"
        }
      },
      "outputs": [
        {
          "output_type": "stream",
          "name": "stdout",
          "text": [
            "carbon\n",
            "oxygen\n"
          ]
        }
      ],
      "source": [
        "print(symbol_to_name[\"C\"])\n",
        "print(symbol_to_name[\"O\"])"
      ]
    },
    {
      "cell_type": "markdown",
      "id": "WLDcqzpx_h_k",
      "metadata": {
        "id": "WLDcqzpx_h_k"
      },
      "source": [
        "### Dictionary Method"
      ]
    },
    {
      "cell_type": "code",
      "execution_count": 29,
      "id": "T0wix_f7_h_k",
      "metadata": {
        "id": "T0wix_f7_h_k",
        "outputId": "950154d4-b514-49db-83bd-4f6fd66f41a7",
        "colab": {
          "base_uri": "https://localhost:8080/"
        }
      },
      "outputs": [
        {
          "output_type": "stream",
          "name": "stdout",
          "text": [
            "dict_keys(['H', 'He', 'Li', 'C', 'O', 'N'])\n",
            "dict_values(['hydrogen', 'helium', 'lithium', 'carbon', 'oxygen', 'nitrogen'])\n",
            "dict_items([('H', 'hydrogen'), ('He', 'helium'), ('Li', 'lithium'), ('C', 'carbon'), ('O', 'oxygen'), ('N', 'nitrogen')])\n"
          ]
        }
      ],
      "source": [
        "# keys(): return all key of dictionary\n",
        "print(symbol_to_name.keys())\n",
        "# values(): return all values from dictionary\n",
        "print(symbol_to_name.values())\n",
        "# items(): return all key and value of dictionary\n",
        "print(symbol_to_name.items())"
      ]
    },
    {
      "cell_type": "markdown",
      "id": "XIKcDpjE_h_k",
      "metadata": {
        "id": "XIKcDpjE_h_k"
      },
      "source": [
        "### Operator\n",
        "Operators are used to perform operations on variables and values.<br/>\n",
        "Python Provide 5 Type Operator.<br/>\n",
        "<ul>\n",
        "    <li>1. Arithmatic Operator</li>\n",
        "    <li>2. Relational Operator</li>\n",
        "    <li>3. Logical Operator</li>\n",
        "    <li>4. Identity Operator</li>\n",
        "    <li>5. Mombership Operator</li>\n",
        "    \n",
        "</ul>\n",
        "\n"
      ]
    },
    {
      "cell_type": "code",
      "execution_count": 41,
      "id": "4ZATvEI2_h_l",
      "metadata": {
        "id": "4ZATvEI2_h_l",
        "outputId": "a402db6c-1a62-4c24-e576-68d0782c0354",
        "colab": {
          "base_uri": "https://localhost:8080/"
        }
      },
      "outputs": [
        {
          "output_type": "stream",
          "name": "stdout",
          "text": [
            "Enter the value of a:10\n",
            "Enter the Value of b:20\n",
            "Addition is  30\n",
            "Subtraction is  -10\n",
            "Multiplication 200\n",
            "Division  0.5\n",
            "Exponentiation of a^b 100000000000000000000\n",
            "Floor Division  0\n"
          ]
        }
      ],
      "source": [
        "# Arithmatic Operator\n",
        "a=int(input(\"Enter the value of a:\"))\n",
        "b=int(input(\"Enter the Value of b:\"))\n",
        "print(\"Addition is \",a+b)\n",
        "print(\"Subtraction is \",a-b)\n",
        "print(\"Multiplication\",a*b)\n",
        "print(\"Division \",a/b)\n",
        "print(\"Exponentiation of a^b\",a**b)\n",
        "print(\"Floor Division \",a//b)"
      ]
    },
    {
      "cell_type": "code",
      "execution_count": 40,
      "id": "hjXtbpCD_h_l",
      "metadata": {
        "id": "hjXtbpCD_h_l",
        "outputId": "a20b2277-27fa-40a5-a4f3-70b956564371",
        "colab": {
          "base_uri": "https://localhost:8080/"
        }
      },
      "outputs": [
        {
          "output_type": "stream",
          "name": "stdout",
          "text": [
            "Enter the  value of a:10\n",
            "Enter the  value of b:20\n",
            "Equal to: False\n",
            "Not Equal to : True\n",
            "Greater than: False\n",
            "Less than: True\n",
            "Greater than or Equal to: False\n",
            "Less than or Equal to True\n"
          ]
        }
      ],
      "source": [
        "# Relational Operator\n",
        "a=eval(input(\"Enter the  value of a:\"))\n",
        "b=eval(input(\"Enter the  value of b:\"))\n",
        "\n",
        "print(\"Equal to:\",(a==b))\n",
        "print(\"Not Equal to :\",(a!=b))\n",
        "print(\"Greater than:\",(a>b))\n",
        "print(\"Less than:\",(a<b))\n",
        "print(\"Greater than or Equal to:\",(a>=b))\n",
        "print(\"Less than or Equal to\",(a<=b))\n"
      ]
    },
    {
      "cell_type": "code",
      "execution_count": 42,
      "id": "r-d0_r-i_h_l",
      "metadata": {
        "id": "r-d0_r-i_h_l",
        "outputId": "01401752-cf9d-4fd5-b76c-260bad79e871",
        "colab": {
          "base_uri": "https://localhost:8080/"
        }
      },
      "outputs": [
        {
          "output_type": "stream",
          "name": "stdout",
          "text": [
            "Enter the  value of a:10\n",
            "Enter the  value of b:20\n",
            "Enter the  value of c:40\n",
            "Using And : False\n",
            "Using Or : False\n",
            "Using Not : True\n"
          ]
        }
      ],
      "source": [
        "# Logical Operator\n",
        "a=eval(input(\"Enter the  value of a:\"))\n",
        "b=eval(input(\"Enter the  value of b:\"))\n",
        "\n",
        "\n",
        "c=eval(input(\"Enter the  value of c:\"))\n",
        "print(\"Using And :\",a>b and a>c)\n",
        "print(\"Using Or :\",a>b or a>c)\n",
        "print(\"Using Not :\",not(a>b and a>c))\n"
      ]
    },
    {
      "cell_type": "code",
      "execution_count": 43,
      "id": "qgW8nt6v_h_m",
      "metadata": {
        "id": "qgW8nt6v_h_m",
        "outputId": "55b5bf0b-22ee-4667-e207-abdb0065cd11",
        "colab": {
          "base_uri": "https://localhost:8080/"
        }
      },
      "outputs": [
        {
          "output_type": "stream",
          "name": "stdout",
          "text": [
            "True\n",
            "False\n",
            "True\n"
          ]
        }
      ],
      "source": [
        "# Identity Operator\n",
        "x = [\"apple\", \"banana\"]\n",
        "y = [\"apple\", \"banana\"]\n",
        "z = x\n",
        "print(x is z)\n",
        "# returns True because z is the same object as x\n",
        "print(x is y)\n",
        "# returns False because x is not the same object as y, even if they have the same content\n",
        "print(x == y)\n",
        "# to demonstrate the difference betweeen \"is\" and \"==\": this  comparison returns True because x is equal to y\n"
      ]
    },
    {
      "cell_type": "code",
      "execution_count": 44,
      "id": "KR_ZEzht_h_m",
      "metadata": {
        "id": "KR_ZEzht_h_m",
        "outputId": "91ef8746-4b40-43d7-bc49-bef8d5d3c429",
        "colab": {
          "base_uri": "https://localhost:8080/"
        }
      },
      "outputs": [
        {
          "output_type": "stream",
          "name": "stdout",
          "text": [
            "True\n",
            "True\n"
          ]
        }
      ],
      "source": [
        "# Membership Operator\n",
        "x = [\"apple\", \"banana\"]\n",
        "print(\"banana\" in x)\n",
        "#returns True because a sequence with the value \"banana\" is in the list\n",
        "x = [\"apple\", \"banana\"]\n",
        "\n",
        "print(\"pineapple\" not in x)\n",
        "# returns True because a sequence with the value \"pineapple\" is not in the list\n"
      ]
    },
    {
      "cell_type": "markdown",
      "id": "QvxudPzg_h_n",
      "metadata": {
        "id": "QvxudPzg_h_n"
      },
      "source": [
        "### Conditional Statement"
      ]
    },
    {
      "cell_type": "markdown",
      "id": "Ub-6wbFx_h_n",
      "metadata": {
        "id": "Ub-6wbFx_h_n"
      },
      "source": [
        "A conditional Statement choose which statement will be executed next; therefore they are sometimes called Selection Statement.\n",
        "<ul>\n",
        "    <li>Simple If</li>\n",
        "<li>If-Else Statement</li>\n",
        "<li>Elif statement </li>\n",
        "</ul>\n"
      ]
    },
    {
      "cell_type": "code",
      "execution_count": 45,
      "id": "jBmBF7Bw_h_n",
      "metadata": {
        "id": "jBmBF7Bw_h_n",
        "outputId": "e0b0ce89-61d8-4ded-ca66-b54dda176d7b",
        "colab": {
          "base_uri": "https://localhost:8080/"
        }
      },
      "outputs": [
        {
          "output_type": "stream",
          "name": "stdout",
          "text": [
            "Petrol is Costly\n"
          ]
        }
      ],
      "source": [
        "# Simple if Statement\n",
        "Petrol_price=30\n",
        "Desal_Price=20\n",
        "if Petrol_price>Desal_Price:\n",
        "    print(\"Petrol is Costly\")\n"
      ]
    },
    {
      "cell_type": "code",
      "execution_count": 31,
      "id": "VTbcxkhN_h_n",
      "metadata": {
        "id": "VTbcxkhN_h_n",
        "outputId": "6de7b843-55a4-46a9-e3eb-82dce02ef5a9",
        "colab": {
          "base_uri": "https://localhost:8080/"
        }
      },
      "outputs": [
        {
          "output_type": "stream",
          "name": "stdout",
          "text": [
            "Petrol is Costly\n"
          ]
        }
      ],
      "source": [
        "# If-else Statement\n",
        "Petrol_price=30\n",
        "Desal_Price=20\n",
        "if Petrol_price>Desal_Price:\n",
        "    print(\"Petrol is Costly\")\n",
        "else:\n",
        "     print(\"Desal is Costly\")\n"
      ]
    },
    {
      "cell_type": "code",
      "execution_count": 32,
      "id": "NqFzxh1P_h_o",
      "metadata": {
        "id": "NqFzxh1P_h_o",
        "outputId": "9738f54f-f72d-4d58-8079-f482bd826729",
        "colab": {
          "base_uri": "https://localhost:8080/"
        }
      },
      "outputs": [
        {
          "output_type": "stream",
          "name": "stdout",
          "text": [
            "Enter the color name:\n",
            "You enter wrong Color Name\n"
          ]
        }
      ],
      "source": [
        "# Elif Statement\n",
        "color=input(\"Enter the color name:\")\n",
        "if color==\"red\" or color==\"RED\":\n",
        "    print(\"Your Signal is 'RED' Please Stop!\")\n",
        "elif color==\"green\" or color==\"GREEN\":\n",
        "    print(\"Your Signal is 'GREEN'  So Go Ahead!\")\n",
        "elif color==\"orange\" or color==\"ORANGE\":\n",
        "    print(\"Your Signal is 'ORANGE'  So Go Slow!\")\n",
        "else:\n",
        "    print(\"You enter wrong Color Name\")\n"
      ]
    },
    {
      "cell_type": "markdown",
      "id": "HzwN_-cw_h_o",
      "metadata": {
        "id": "HzwN_-cw_h_o"
      },
      "source": [
        "### Loop Statement\n",
        "A loop statements are executed sequentially<br/>\n",
        "The first statement in a function is executed first, followed by the second, and so on. <br/>\n",
        "<ul>\n",
        "    <li>For Loop</li>\n",
        "<li>While Loop</li>\n",
        "\n",
        "</ul>\n",
        "\n"
      ]
    },
    {
      "cell_type": "code",
      "execution_count": 33,
      "id": "8LFrEiqC_h_o",
      "metadata": {
        "id": "8LFrEiqC_h_o",
        "outputId": "c58552f9-7efb-439d-a764-a533ae915ad9",
        "colab": {
          "base_uri": "https://localhost:8080/"
        }
      },
      "outputs": [
        {
          "output_type": "stream",
          "name": "stdout",
          "text": [
            "Month_Name\tPrice\n",
            "Jan \t\t 100\n",
            "Feb \t\t 67.7\n",
            "March \t\t 35.67\n",
            "April \t\t 67.89\n",
            "May \t\t 77.5\n"
          ]
        }
      ],
      "source": [
        "# For loop\n",
        "oil_price={\"Jan\":100,\"Feb\":67.7,\"March\":35.67,\"April\":67.89,\"May\":77.5}\n",
        "print(\"Month_Name\\tPrice\")\n",
        "for k,v in oil_price.items():\n",
        "    print(k,\"\\t\\t\",v)"
      ]
    },
    {
      "cell_type": "code",
      "execution_count": 34,
      "id": "7cdz_X1n_h_p",
      "metadata": {
        "id": "7cdz_X1n_h_p",
        "outputId": "6130ea4c-3b84-40e7-bbc5-db9abb2e18f4",
        "colab": {
          "base_uri": "https://localhost:8080/"
        }
      },
      "outputs": [
        {
          "output_type": "stream",
          "name": "stdout",
          "text": [
            "100\n",
            "67.7\n",
            "35.67\n",
            "67.89\n",
            "77.5\n"
          ]
        }
      ],
      "source": [
        "# While Loop\n",
        "oil_price=[100,67.7,35.67,67.89,77.5]\n",
        "m=0\n",
        "n=len(oil_price)\n",
        "while m<n:\n",
        "    print(oil_price[m])\n",
        "    m=m+1\n",
        "    "
      ]
    },
    {
      "cell_type": "markdown",
      "id": "-WaZ_Vw1_h_p",
      "metadata": {
        "id": "-WaZ_Vw1_h_p"
      },
      "source": [
        "### File Operation"
      ]
    },
    {
      "cell_type": "code",
      "execution_count": 35,
      "id": "DVqzFGCl_h_p",
      "metadata": {
        "colab": {
          "base_uri": "https://localhost:8080/"
        },
        "id": "DVqzFGCl_h_p",
        "outputId": "c3f5129e-02ad-4d11-ef6e-d878b0dcdd6d"
      },
      "outputs": [
        {
          "output_type": "stream",
          "name": "stdout",
          "text": [
            "Indian Oil\n"
          ]
        }
      ],
      "source": [
        "f1=open(\"indian_oil.txt\",\"r\")\n",
        "data=f1.read(10)\n",
        "print(data)\n",
        "f1.close()"
      ]
    },
    {
      "cell_type": "code",
      "execution_count": 37,
      "id": "x_kJoKbd_h_p",
      "metadata": {
        "id": "x_kJoKbd_h_p",
        "outputId": "5af71ebb-c459-4a08-9944-b43a4d450a43",
        "colab": {
          "base_uri": "https://localhost:8080/"
        }
      },
      "outputs": [
        {
          "output_type": "stream",
          "name": "stdout",
          "text": [
            "Indian Oil Corporation Limited.\n",
            "\n"
          ]
        }
      ],
      "source": [
        "f1=open(\"indian_oil.txt\",\"r\")\n",
        "data=f1.readline()\n",
        "print(data)\n",
        "f1.close()"
      ]
    },
    {
      "cell_type": "code",
      "execution_count": 36,
      "id": "VnCqgX9K_h_s",
      "metadata": {
        "id": "VnCqgX9K_h_s"
      },
      "outputs": [],
      "source": [
        ""
      ]
    }
  ],
  "metadata": {
    "colab": {
      "name": "Python_Foundation_NS.ipynb",
      "provenance": [],
      "include_colab_link": true
    },
    "kernelspec": {
      "display_name": "Python 3",
      "language": "python",
      "name": "python3"
    },
    "language_info": {
      "codemirror_mode": {
        "name": "ipython",
        "version": 3
      },
      "file_extension": ".py",
      "mimetype": "text/x-python",
      "name": "python",
      "nbconvert_exporter": "python",
      "pygments_lexer": "ipython3",
      "version": "3.8.3"
    }
  },
  "nbformat": 4,
  "nbformat_minor": 5
}